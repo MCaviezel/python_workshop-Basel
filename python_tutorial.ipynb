{
 "cells": [
  {
   "cell_type": "markdown",
   "metadata": {},
   "source": [
    "# Python, numpy, and Nifti-images\n",
    "\n",
    "This tutorial is about the programming language Python and how to use it for psychology/neuroimaging analysis. Part 2 of this tutorial is a quite extensive recap of basic Python syntax and constructs; this should be doable for students who are comfortable with programming (e.g., from previous experience with other programming languages). If you're *not* comfortable with programming, or you notice during this tutorial that you get stuck often, we recommend working through the [Codecademy](https://www.codecademy.com/learn/python) up to and including unit 8 (`loops`). You *don't* have to do the quizzes (because you need to pay for that).\n",
    "\n",
    "Given that you have learned the basics of Python's syntax, this tutorial will recap some of the most important aspects of Python (section 2.: General Python). Then, 'numpy' (Python's scientific computing package) is discussed and explained and followed by a section on 'Matplotlib' (Python's plotting package). Finally, this tutorial ends with a section on how to interact with Nifti-files - the file format used by most (MRI) neuroimaging data.\n"
   ]
  },
  {
   "cell_type": "markdown",
   "metadata": {},
   "source": [
    "## What this tutorial is about\n",
    "This tutorial will recap some of the most important aspects of Python (section 2: General Python). Then, 'numpy' (Python's numeric computing package) is discussed and explained and followed by a section on 'Matplotlib' (Python's plotting package). Finally, this tutorial ends with a section on how to work with Nifti-files - the file format used by most (MRI) neuroimaging software packages.\n",
    "\n",
    "At the end of this tutorial, you are able to implement any computation/routine necessary for complex fMRI analysis using a combination of basic Python and Numpy.\n",
    "\n",
    "### Contents:\n",
    "\n",
    "1. Jupyter notebooks\n",
    "2. General Python\n",
    "3. Numpy\n",
    "4. Matplotlib / plotting\n",
    "5. Interacting with Nifti-files\n",
    "\n",
    "But before anything else, let's get more familiar with the Jupyter notebook environment!"
   ]
  },
  {
   "cell_type": "markdown",
   "metadata": {},
   "source": [
    "## 1. Jupyter Notebooks\n",
    "\n",
    "So, what are Jupyter notebooks, actually? Basically, using Jupyter notebooks is like using the web-browser as a kind of editor from which you can run Python code, similar to the MATLAB interactive editor or RStudio. The cool thing about these notebooks is that they allow you to mix code \"cells\" (see below) and text \"cells\" (such as this one). The (printed) output from code blocks are displayed right below the code blocks themselves. \n",
    "\n",
    "Jupyter notebooks have two **modes**: edit mode and command mode.\n",
    "\n",
    "- *Command mode* is indicated by a grey cell border with a blue left margin (as is the case now!): When you are in command mode, you are able to edit the notebook as a whole, but not type into individual cells. Most importantly, in command mode, the keyboard is mapped to a set of shortcuts that let you perform notebook and cell actions efficiently (some shortcuts in command mode will be discussed later!). Enter command mode by pressing **Esc** or using the mouse to click outside a cell’s editor area; <br><br>\n",
    "- *Edit mode* is indicated by a green cell border and a prompt showing in the editor area: When a cell is in edit mode, you can type into the cell, like a normal text editor. Enter edit mode by pressing Enter or using the mouse to double-click on a cell’s editor area.\n",
    "\n",
    "When you're reading and scrolling through the tutorials, you'll be in the command mode mostly. But once you have to program (or write) stuff yourself, you have to switch to edit mode. But we'll get to that. First, we'll explain something about the two types of cells: code cells and text cells."
   ]
  },
  {
   "cell_type": "markdown",
   "metadata": {},
   "source": [
    "### 1.1. Code cells\n",
    "\n",
    "Code cells are the place to write your Python code, similar to MATLAB 'code sections' (which are usually deliniated by %%). Importantly, unlike the interactive editors in RStudio and MATLAB, a code cell in Jupyter notebooks can only be run all at once. This means you cannot run it line-by-line, but you have to run the entire cell!\n",
    "\n",
    "#### 1.1.1. Running cells\n",
    "Let's look at an example. Below, you see a code-cell with two print-statements. To run the cell, select it (i.e., the cell should have a green or blue frame around it; doesn't matter whether you're in edit or command mode), and click on the \"&#9654; `Run`\" icon or press `ctr+Enter`). Try it with the cell below!\n",
    "\n",
    "You can also try it with the cell way at the top where you entered your name and student number..."
   ]
  },
  {
   "cell_type": "code",
   "execution_count": 1,
   "metadata": {},
   "outputs": [
    {
     "name": "stdout",
     "output_type": "stream",
     "text": [
      "I'm printing Python code\n",
      "6\n"
     ]
    }
   ],
   "source": [
    "print(\"I'm printing Python code\")\n",
    "print(3 + 3)"
   ]
  },
  {
   "cell_type": "markdown",
   "metadata": {},
   "source": [
    "(You might be confused because we use the `print` statement with brackets -- `print()` -- while you've learned in Codecademy that you should use `print` without brackets. This is because Codecademy uses an old version of Python, Python2.7, while we use a newer version, Python3.5. In the new version, `print()` should be used with brackets!)"
   ]
  },
  {
   "cell_type": "markdown",
   "metadata": {},
   "source": [
    "#### 1.1.2. Stop running/execution of cells\n",
    "Sometimes, you might want to quit the execution of a code-cell because it's taking too long (or worse, you created an infinite loop!). To do so, click the stop icon &#9632; in the top menu!"
   ]
  },
  {
   "cell_type": "markdown",
   "metadata": {},
   "source": [
    "#### 1.1.3. Restarting the kernel\n",
    "Sometimes, you accidentally 'crash' the notebook, for example when creating an infinite loop or when loading in too much data. You know your notebook 'crashed' when stopping the cell (&#9632;) does not work and your cell continues its execution, as evident by the `In [*]:` prompt next to the cell. In those cases, you need to completely restart the notebook, or in programming lingo: you need to \"restart the kernel\". To do so, click `Kernel` and `Restart`.\n",
    "\n",
    "Importantly, when you restart the kernel, it will keep all text/code that you've written, but it will **not** remember all the variables that you defined before restarting the kernel, including the imports. So if you restart the kernel, you will have to re-import everything (e.g. run `import numpy as np` again)."
   ]
  },
  {
   "cell_type": "markdown",
   "metadata": {},
   "source": [
    "#### 1.1.3. Inserting cells\n",
    "As you can see in the code cell above, you can only run the entire cell (i.e. both print statements). Sometimes, of course, you'd like to organise code across multiple cells. To do this, you can simply add new blocks (cells) by selecting \"Insert --> Insert Cell Below\" on the toolbar (or use the shortcut ctr+B when you're in command mode; \"B\" refers to \"below\"). This will insert a new code cell below the cell you have currently highlighted (the currently highlighted cell has a blue box around it). \n",
    "\n",
    "Try inserting a cell below and write some code (e.g. `print(10 * 10)`)."
   ]
  },
  {
   "cell_type": "code",
   "execution_count": 7,
   "metadata": {},
   "outputs": [
    {
     "name": "stdout",
     "output_type": "stream",
     "text": [
      "100\n"
     ]
    }
   ],
   "source": [
    "print(10*10)"
   ]
  },
  {
   "cell_type": "code",
   "execution_count": null,
   "metadata": {},
   "outputs": [],
   "source": []
  },
  {
   "cell_type": "markdown",
   "metadata": {},
   "source": [
    "#### 1.1.4. Inline plotting\n",
    "Another cool feature of Jupyter notebooks is that you can display figures in the same notebook! You simply define some plots in a code cell and it'll output the plot below it.\n",
    "\n",
    "Check it out by executing (click the \"play\" button or ctr+Enter) the next cell."
   ]
  },
  {
   "cell_type": "code",
   "execution_count": 3,
   "metadata": {},
   "outputs": [
    {
     "data": {
      "image/png": "[encoded data removed]",
      "text/plain": [
       "<matplotlib.figure.Figure at 0x103021128>"
      ]
     },
     "metadata": {},
     "output_type": "display_data"
    }
   ],
   "source": [
    "# We'll get to what the code means later in the tutorial\n",
    "import matplotlib.pyplot as plt # The plotting package 'Matplotlib' is discussed in section 3!\n",
    "\n",
    "# This command makes sure that the figure is plotted in the notebook instead of in a separate window!\n",
    "%matplotlib inline \n",
    "\n",
    "# Now, let's plot something\n",
    "plt.plot(range(10))\n",
    "plt.show()"
   ]
  },
  {
   "cell_type": "markdown",
   "metadata": {},
   "source": [
    "### 1.2. Text ('markdown') cells\n",
    "Next to code cells, jupyter notebooks allow you to write text in so-called \"markdown cells\" (the cell this text is written in is, obviously, also a markdown cell). Markdown cells accept plain text and can be formatted by special markdown-syntax. A couple of examples:\n",
    "\n",
    "\\# One hash creates a large heading <br>\n",
    "\\#\\# Two hashes creates a slightly smaller heading (this goes up to four hashes)\n",
    "\n",
    "Bold text can be created by enclosing text in \\*\\*double asterisks\\*\\* and italicized text can be created by enclosing text in \\*single asterisks\\*. You can even include URLs and insert images from the web; check this [link](https://github.com/adam-p/markdown-here/wiki/Markdown-Cheatsheet) for a cheatsheet with markdown syntax and options! All the special markdown-syntax and options will be converted to readable text *after running the text cell* (again, by pressing the \"play\" icon in the toolbar or by ctr+Enter).\n",
    "\n",
    "To insert a text (markdown) cell, insert a new cell (\"Insert --> Insert Cell Below\" or ctr+B). Then, *while highlighting the new cell*, press \"Cell --> Cell Type --> Markdown\" on the toolbar on top of the notebook (or, while in command mode, press ctr+m; \"m\" refers to \"markdown\"). You should see the prompt (the **`In [ ]`** thingie) disappear. Voilà, now it's a text cell!\n",
    "\n",
    "Try it below! Insert a new markdown cell and try to write the following:\n",
    "\n",
    "\"**OMG**, this is th emost awesome Python tutorial *ever*.\""
   ]
  },
  {
   "cell_type": "code",
   "execution_count": 4,
   "metadata": {},
   "outputs": [],
   "source": [
    "len?"
   ]
  },
  {
   "cell_type": "markdown",
   "metadata": {},
   "source": [
    "### 1.3. Getting help\n",
    "Throughout this course, you'll encounter situations in which you have to use functions that you'd like to get some more information on, e.g. which inputs it expects. To get help on any python function you'd like to use, you can simply write the function-name appended with a \"?\" and run the cell. This will open a window below with the \"docstring\" (explanation of the function). Take for example the built-in function **`len()`**. To get some more information, simply type `len?` in a code cell and run the cell.\n",
    "\n",
    "Try it out yourself: create a code cell below, type `len?` and check the output!"
   ]
  },
  {
   "cell_type": "markdown",
   "metadata": {},
   "source": [
    "If this method (i.e. appending with \"?\") does not give you enough information, try to google the name of the function together with 'python' and, if you know from which package the function comes, the name of that package. For instance, for len() you could google: ['python len()'](http://lmgtfy.com/?q=python+len), or later when you'll use the numpy package, and you'd like to know how the `numpy.arange` function works you could google: 'python numpy arange'. \n",
    "\n",
    "** REMEMBER: Google is your friend! Please try to google things first, before you ask your classmates and your tutors! **\n",
    "\n",
    "The online python community is huge, so someone definitely already wondered about something you might be struggling with."
   ]
  },
  {
   "cell_type": "markdown",
   "metadata": {},
   "source": [
    "### 1.4. Saving your work & closing down the notebook\n",
    "You're running and actively editing the notebook in a browser, but remember that it's still just a file located on your account on the server (that you're accessing through Jupyterhub). Therefore, for your work to persist, you need to save the notebook once in a while (and definitely before closing the notebook). To save, simply press the floppy-disk image in the top-left (or do ctr+s). If you want to close your notebook, simply close the browser. \n",
    "\n",
    "*However, when you close the browser, the notebook is still \"running\" in the background in your terminal where you started it!* \n",
    "\n",
    "To stop the notebook from running after you've closed it, go to the `Running` tab, and click the `Shutdown` button next to the notebook that you want to stop. \n",
    "\n",
    "Alright. Now that you've had your first contact with Jupyter notebooks - let's talk about about exercises and assignments."
   ]
  },
  {
   "cell_type": "markdown",
   "metadata": {},
   "source": [
    "## A note on exercises (ToDo/ToThink) and assignments\n",
    "You'll encounter different types of exercises throughout the notebook, being:\n",
    "\n",
    "- <font color='orange'>ToDos</font> : short programming exercises, either zero or for a few points\n",
    "- <font color='blue'>ToThinks</font>: questions about the (preceding) text/material, either zero or for a few points\n",
    "- <font color='red'>Assignments</font>: a larger programming exercise (sometimes with additional questions), usually for a larger amount of points\n",
    "\n",
    "We highly recommend doing/answering the ToDos/ToThinks, not only because they are worth points, but also because they are designed to improve your understanding of the material!\n",
    "\n",
    "Anyway, a \"ToDo\" would look something like this:"
   ]
  },
  {
   "cell_type": "markdown",
   "metadata": {},
   "source": [
    "<div class=\"alert alert-warning\">\n",
    "<b>ToDo</b> (0 points)\n",
    "</div>\n",
    "In the code-cell below, set the variable `x` to 5 and remove the `raise AssertionError` statement below."
   ]
  },
  {
   "cell_type": "code",
   "execution_count": 15,
   "metadata": {
    "nbgrader": {
     "grade": false,
     "grade_id": "cell-18f974e3fcc0d18f",
     "locked": false,
     "schema_version": 1,
     "solution": true
    }
   },
   "outputs": [],
   "source": [
    "x = 'not yet 5'"
   ]
  },
  {
   "cell_type": "code",
   "execution_count": 19,
   "metadata": {},
   "outputs": [],
   "source": [
    "x = 3+2"
   ]
  },
  {
   "cell_type": "markdown",
   "metadata": {},
   "source": [
    "Then, *after* each code-cell corresponding to the ToDo, there are one or more code-cell(s) with \"tests\" written by us. These tests may provide you with feedback about whether you implemented the \"ToDo\" correctly, and optionally gives you some hints on how to solve your error(s). If you run this cell and you don't get any errors, you did it correctly and you'll receive the point(s) for that ToDo. If it gives any errors, try to use the information from the error and/or print statements to solve the ToDo. \n",
    "\n",
    "These tests are usually implemented as a set of `assert` statements, which 'assert' whether a specific statement is true. If it evaluates to `False`, then that means you've made an error. For example, for the above `ToDo`, we simply evaluated the statement `assert(x == 5)` to check whether you set `x` to 5 correctly, as is shown in the cell below:"
   ]
  },
  {
   "cell_type": "code",
   "execution_count": 20,
   "metadata": {
    "nbgrader": {
     "grade": true,
     "grade_id": "cell-9eb6167410bb1e5b",
     "locked": true,
     "points": 0,
     "schema_version": 1,
     "solution": false
    }
   },
   "outputs": [
    {
     "name": "stdout",
     "output_type": "stream",
     "text": [
      "Well done!\n"
     ]
    }
   ],
   "source": [
    "''' Checks whether the above ToDo is correct. '''\n",
    "try:\n",
    "    assert(x == 5)\n",
    "except AssertionError as e:\n",
    "    print(\"x does not evaluate to 5! Did you replace 'not yet 5' with 5?\")\n",
    "    raise(e)\n",
    "else:\n",
    "    print(\"Well done!\")"
   ]
  },
  {
   "cell_type": "markdown",
   "metadata": {},
   "source": [
    "**Note**: each *ToDo* is explicitly tested, so you can always check your answer (and continue trying until you get it right). "
   ]
  },
  {
   "cell_type": "markdown",
   "metadata": {},
   "source": [
    "Now, let's try another one, but this time for real! It's a super simple one, so use this to earn a free point. Note that it is followed by two test-cells, which test different aspects of your implementation (each passed test gives you 0.5 points)."
   ]
  },
  {
   "cell_type": "markdown",
   "metadata": {},
   "source": [
    "<div class=\"alert alert-warning\">\n",
    "<b>ToDo</b> (1 point)\n",
    "</div>\n",
    "In the code-cell below, set the variable `y` to `x * 2`, so you have to replace `None` with `x * 2` (yes, this is as easy as it sounds)."
   ]
  },
  {
   "cell_type": "code",
   "execution_count": 21,
   "metadata": {
    "nbgrader": {
     "grade": false,
     "grade_id": "cell-ab70f6aba1198918",
     "locked": false,
     "schema_version": 1,
     "solution": true
    }
   },
   "outputs": [],
   "source": [
    "x = 2\n",
    "y = x*2"
   ]
  },
  {
   "cell_type": "code",
   "execution_count": 22,
   "metadata": {
    "nbgrader": {
     "grade": true,
     "grade_id": "cell-3beed6559429c800",
     "locked": true,
     "points": 0.5,
     "schema_version": 1,
     "solution": false
    }
   },
   "outputs": [
    {
     "name": "stdout",
     "output_type": "stream",
     "text": [
      "Well done!\n"
     ]
    }
   ],
   "source": [
    "''' This tests the above ToDo. '''\n",
    "try:\n",
    "    assert(y == x * 2)\n",
    "except AssertionError as e:\n",
    "    print(\"y does not evaluate to x * 2 (i.e., 4)! Did you replace y with x * 2?\")\n",
    "    raise(e)\n",
    "else:\n",
    "    print(\"Well done!\")"
   ]
  },
  {
   "cell_type": "code",
   "execution_count": 23,
   "metadata": {
    "nbgrader": {
     "grade": true,
     "grade_id": "cell-4bc66c72a83cb48e",
     "locked": true,
     "points": 0.5,
     "schema_version": 1,
     "solution": false
    }
   },
   "outputs": [
    {
     "name": "stdout",
     "output_type": "stream",
     "text": [
      "Well done!\n"
     ]
    }
   ],
   "source": [
    "''' This tests the above ToDo as well. '''\n",
    "try:\n",
    "    assert(isinstance(y, int))\n",
    "except AssertionError as e:\n",
    "    print(\"y doesn't seem to be an integer (it is of type %s; make sure it is!\" % (type(y)))\n",
    "    raise(e)\n",
    "else:\n",
    "    print(\"Well done!\")"
   ]
  },
  {
   "cell_type": "markdown",
   "metadata": {},
   "source": [
    "Throughout the notebook you'll encounter several 'ToDos' - some are worth points, some don't. In addition to these 'ToDos', you'll also encounter 'ToThinks', which are short questions about the material, meant to make you think about what you're doing. Like the 'ToDos', some of these are worth points, others don't. Each 'ToThink' cell is followed by a markdown-cell in which you can write your answer. Obviously, these answers cannot be automatically tested, so there won't be a test-cell with `asserts`. These 'ToThinks' are later (by us) graded manually. \n",
    "\n",
    "A typical 'ToThink' may look like this:  "
   ]
  },
  {
   "cell_type": "markdown",
   "metadata": {},
   "source": [
    "<div class='alert alert-info'>\n",
    "<b>ToThink</b> (1 point)\n",
    "</div>\n",
    "What's your name? Please write it in the text-cell below."
   ]
  },
  {
   "cell_type": "markdown",
   "metadata": {
    "nbgrader": {
     "grade": true,
     "grade_id": "cell-1b7dde716f8757c0",
     "locked": false,
     "points": 1,
     "schema_version": 1,
     "solution": true
    }
   },
   "source": [
    "Marco Caviezel"
   ]
  },
  {
   "cell_type": "markdown",
   "metadata": {},
   "source": [
    "Make sure you actually write your name in the cell above for another free point! (You'll have to double-click the text-cell to go into 'edit mode' and replace 'YOUR ANSWER HERE' with your name.)"
   ]
  },
  {
   "cell_type": "markdown",
   "metadata": {},
   "source": [
    "Next to 'ToDos' and 'ToThinks', there are Assignments. These are basically just a collection of programming exercises and/or open questions, each with a certain amount of points associated with it. You'll encounter assignments usually at the end of a specific section. Usually, altogether these assignments are worth substantially more points than 'ToDos' or 'ToThinks'. \n",
    "\n",
    "An assigment may look like this:"
   ]
  },
  {
   "cell_type": "markdown",
   "metadata": {},
   "source": [
    "<div class='alert alert-danger'>\n",
    "<b>Assignment</b> (5 points)\n",
    "</div>\n",
    "This is an example assignment; it's not actually worth any points. In a real assignment, you would see one or more coding assignments or open questions below. "
   ]
  },
  {
   "cell_type": "markdown",
   "metadata": {},
   "source": [
    "Alright, by now you should known enough to start with section 2: a recap of basic Python syntax! (As we mentioned earlier, if you find this section too difficult, it might help to do the Codecademy Python course, up to and including section 8, before you go on!)"
   ]
  },
  {
   "cell_type": "markdown",
   "metadata": {},
   "source": [
    "## 2. General Python\n",
    "This section will provide short tutorial on basic Python syntax and concepts (if you've done Codecademy, this should all be familiar).\n",
    "\n",
    "Here, we will cover:\n",
    "\n",
    "* Python data types (integers, floats, lists, dictionaries)\n",
    "* Python functions\n",
    "* Python classes\n",
    "* Conditionals (if-then-else)\n",
    "* Loops (for-loop, list-comprehensions)\n",
    "* Imports"
   ]
  },
  {
   "cell_type": "markdown",
   "metadata": {},
   "source": [
    "### 2.1. Structure of Python\n",
    "\n",
    "Python is a multipurpose programming language, meaning it can be used for almost anything. While R is mostly used for statistics, and php is used for web programming only, Python is a general language, specified by the packages you add on to it (using import statements). So, \"pure\" Python provides some basic functionality, but Python's versatility comes from specialized packages for almost any purpose. \n",
    "\n",
    "For example:\n",
    "* the [scipy](https://www.scipy.org/) package provides functionality for scientific computing (e.g. statistics, signal processing);\n",
    "* the [numpy](http://www.numpy.org/) package provides data structures and functionality for (very fast) numeric computing (e.g. multidimensional numeric array computations, some linear algebra);\n",
    "* the [matplotlib](http://matplotlib.org/) package provides plotting functions;\n",
    "* and various specialied neuroimaging packages provide functionality to work and analyze (f)MRI (e.g. [nibabel](http://nipy.org/nibabel/) and [nipype](http://nipy.org/nipype)) and MEG/EEG (e.g. [MNE](http://www.martinos.org/mne/stable/index.html)).\n",
    "\n",
    "Basically, there are packages for everything you can think of (also: creating websites, game programming, etc.)! In this course, we will mostly use basic Python in combination with the scientific computing packages ('numpy', 'scipy') and specialized neuroimaging packages ('nibabel', 'nipype').  "
   ]
  },
  {
   "cell_type": "markdown",
   "metadata": {},
   "source": [
    "#### Import statements\n",
    "As explained above, Python ships with some default functionality. This means that it's already available upon starting a notebook (or any other Python environment) and doesn't need to be imported. An example is the function `len()`."
   ]
  },
  {
   "cell_type": "code",
   "execution_count": 24,
   "metadata": {},
   "outputs": [
    {
     "name": "stdout",
     "output_type": "stream",
     "text": [
      "3\n"
     ]
    }
   ],
   "source": [
    "my_list = [1, 2, 3]\n",
    "print(len(my_list))"
   ]
  },
  {
   "cell_type": "markdown",
   "metadata": {},
   "source": [
    "However, non-built-in packages - such as `numpy` - need to be explicitly imported to access their functionality. After importing, their functions are accessible as: `{package}.{function}`.\n",
    "\n",
    "For example:"
   ]
  },
  {
   "cell_type": "code",
   "execution_count": 27,
   "metadata": {},
   "outputs": [
    {
     "name": "stdout",
     "output_type": "stream",
     "text": [
      "8\n"
     ]
    }
   ],
   "source": [
    "import numpy\n",
    "\n",
    "# Now you can access the numpy function `add()` as numpy.add()\n",
    "print(numpy.add(5, 3)) "
   ]
  },
  {
   "cell_type": "markdown",
   "metadata": {},
   "source": [
    "However, writing `numpy` in front of every function you access from it becomes annoying very quickly. Therefore, we usually abbreviate the package name by two or three characters, which can be achieved through:\n",
    "\n",
    "`import {package} as {abbreviation}` \n",
    "\n",
    "For example, people usually abbreviate the numpy import as:"
   ]
  },
  {
   "cell_type": "code",
   "execution_count": 28,
   "metadata": {},
   "outputs": [
    {
     "name": "stdout",
     "output_type": "stream",
     "text": [
      "8\n"
     ]
    }
   ],
   "source": [
    "import numpy as np\n",
    "\n",
    "# Now you can access numpy functions such as 'add()' as:\n",
    "print(np.add(5, 3))"
   ]
  },
  {
   "cell_type": "markdown",
   "metadata": {},
   "source": [
    "Throughout the tutorials, you'll see different packages (e.g. nibabel and scipy) being imported using abbreviations. \n",
    "\n",
    "Also, you don't need to import an *entire* package, but you can also import a specific function or class. This is done as follows:\n",
    "\n",
    "`from {package} import {function1}, {function2}, {etc}`\n",
    "\n",
    "An example:"
   ]
  },
  {
   "cell_type": "code",
   "execution_count": 29,
   "metadata": {},
   "outputs": [
    {
     "name": "stdout",
     "output_type": "stream",
     "text": [
      "8\n"
     ]
    }
   ],
   "source": [
    "from numpy import add, subtract\n",
    "\n",
    "# Now I can simply call add() and subtract()\n",
    "print(add(5, 3))"
   ]
  },
  {
   "cell_type": "markdown",
   "metadata": {},
   "source": [
    "Note that some packages have a hierarchical structure with subpackages (also called modules). For example, scipy has a subpackage `ndimage` (with functions for n-dimensional arrays). To import *only* this subpackage, do the following:"
   ]
  },
  {
   "cell_type": "code",
   "execution_count": 30,
   "metadata": {},
   "outputs": [
    {
     "name": "stdout",
     "output_type": "stream",
     "text": [
      "[6 6 5]\n"
     ]
    }
   ],
   "source": [
    "from scipy import ndimage\n",
    "# Now you can call functions from the ndimage subpackage,\n",
    "# e.g. gaussian_filter\n",
    "\n",
    "print(ndimage.gaussian_filter([10, 5, 4], 2))"
   ]
  },
  {
   "cell_type": "markdown",
   "metadata": {},
   "source": [
    "Note that you can mix and match all of these operations to customize the import to your own liking (see cell below for such a fancy import). In this course, we'll usually just import entire packages (e.g. `import numpy as np`) or specific functions/subpackages (e.g. `from scipy import stats`). "
   ]
  },
  {
   "cell_type": "code",
   "execution_count": 31,
   "metadata": {},
   "outputs": [
    {
     "name": "stdout",
     "output_type": "stream",
     "text": [
      "0.001953125\n"
     ]
    }
   ],
   "source": [
    "# a fancy import\n",
    "from scipy.stats import binom_test as omg_binomial_testing_so_cool\n",
    "\n",
    "print(omg_binomial_testing_so_cool(0.5, 10))"
   ]
  },
  {
   "cell_type": "markdown",
   "metadata": {},
   "source": [
    "<div class=\"alert alert-warning\">\n",
    "<b>ToDo</b> (1 point)\n",
    "</div>\n",
    "\n",
    "Import the function \"randn\" from the numpy subpackage \"random\" and rename it \"random_normal_generator\"."
   ]
  },
  {
   "cell_type": "code",
   "execution_count": 42,
   "metadata": {
    "nbgrader": {
     "grade": true,
     "grade_id": "cell-f7c6fda0670851b5",
     "locked": true,
     "points": 0.5,
     "schema_version": 1,
     "solution": false
    }
   },
   "outputs": [
    {
     "name": "stdout",
     "output_type": "stream",
     "text": [
      "Well done!\n"
     ]
    }
   ],
   "source": [
    "''' Tests the above ToDo. '''\n",
    "from numpy.random import randn as random_normal_generator\n",
    "\n",
    "\n",
    "try:\n",
    "    assert('random_normal_generator' in dir())\n",
    "except AssertionError as e:\n",
    "    print(\"I couldn't find the function 'random_normal_generator'; did you spell it correctly?\")\n",
    "    raise(e)\n",
    "else:\n",
    "    print(\"Well done!\")"
   ]
  },
  {
   "cell_type": "code",
   "execution_count": 43,
   "metadata": {
    "nbgrader": {
     "grade": true,
     "grade_id": "cell-2ec6efb629701eda",
     "locked": true,
     "points": 0.5,
     "schema_version": 1,
     "solution": false
    }
   },
   "outputs": [
    {
     "name": "stdout",
     "output_type": "stream",
     "text": [
      "Well done!\n"
     ]
    }
   ],
   "source": [
    "''' Another test for the above ToDo. '''\n",
    "try:\n",
    "    assert(random_normal_generator.__name__ == 'randn')\n",
    "except AssertionError as e:\n",
    "    print(\"Your 'random_normal_generator' function does not point to the 'randn' numpy.random subpackage!\")\n",
    "    raise(e)\n",
    "else:\n",
    "    print(\"Well done!\")"
   ]
  },
  {
   "cell_type": "markdown",
   "metadata": {},
   "source": [
    "#### Whitespace for indentation\n",
    "In most programming languages, code blocks (e.g., if-else blocks, or for-loops) are delineated by dedicated symbols (often curly brackets, `{}`). For example, an if-else block in R is written like this:\n",
    "\n",
    "```\n",
    "if (x > 0) {\n",
    "   y = x + 5\n",
    "} else {\n",
    "   y = x - 5\n",
    "}\n",
    "```\n",
    "\n",
    "While in languages like R and MATLAB whitespace/indentation is used for readability, it is not necessary! The above if-else statement in R can also be written as:\n",
    "\n",
    "```\n",
    "if (x > 0) { y = x + 5 } else { y = x - 5 }\n",
    "```\n",
    "\n",
    "However, in Python, whitespace and indentation is important! In Python, indendation - instead of curly braces - delineates code blocks, and if code is incorrectly indented, Python will give an error! For example, an if-else statement in Python must be indented (always with 4 spaces or a tab). If you don't do this, it will give an error, as show below:"
   ]
  },
  {
   "cell_type": "code",
   "execution_count": 45,
   "metadata": {},
   "outputs": [
    {
     "ename": "IndentationError",
     "evalue": "expected an indented block (<ipython-input-45-bfa8bfd368de>, line 3)",
     "output_type": "error",
     "traceback": [
      "\u001b[0;36m  File \u001b[0;32m\"<ipython-input-45-bfa8bfd368de>\"\u001b[0;36m, line \u001b[0;32m3\u001b[0m\n\u001b[0;31m    y = x + 5\u001b[0m\n\u001b[0m    ^\u001b[0m\n\u001b[0;31mIndentationError\u001b[0m\u001b[0;31m:\u001b[0m expected an indented block\n"
     ]
    }
   ],
   "source": [
    "x = 0\n",
    "if x < 0:\n",
    "y = x + 5\n",
    "else:\n",
    "y = x - 5   "
   ]
  },
  {
   "cell_type": "code",
   "execution_count": 55,
   "metadata": {},
   "outputs": [
    {
     "name": "stdout",
     "output_type": "stream",
     "text": [
      "x has value 0\n",
      "y has value -5\n"
     ]
    }
   ],
   "source": [
    "x = 0\n",
    "if x < 0:\n",
    "    y = x + 5\n",
    "else:\n",
    "    y = x - 5   \n",
    "    \n",
    "print('x has value',x)\n",
    "print('y has value',y)\n"
   ]
  },
  {
   "cell_type": "markdown",
   "metadata": {},
   "source": [
    "If you make sure the two statements beginning with `y = ...` are indented with 4 spaces/a tab, the error disappears (try it yourself!)."
   ]
  },
  {
   "cell_type": "markdown",
   "metadata": {},
   "source": [
    "#### Python versions\n",
    "As a side note: there are currently two different supported versions of Python, 2.7 and 3.6. Somewhat confusingly, Python 3.0 introduced many backwards-incompatible changes to the language, so code written for 2.7 may not work under 3.x and vice versa. For this class all code will use Python **3.6** (but 90% of this notebook should be compatible with Python 2.7., we think ...). So if you want to use code from this class on your own computer, make sure you use Python 3.6!"
   ]
  },
  {
   "cell_type": "code",
   "execution_count": 57,
   "metadata": {},
   "outputs": [
    {
     "data": {
      "text/plain": [
       "sys.version_info(major=3, minor=6, micro=5, releaselevel='final', serial=0)"
      ]
     },
     "execution_count": 57,
     "metadata": {},
     "output_type": "execute_result"
    }
   ],
   "source": [
    "import sys\n",
    "sys.version\n",
    "sys.version_info"
   ]
  },
  {
   "cell_type": "markdown",
   "metadata": {},
   "source": [
    "### 2.2 Basic data types\n",
    "\"Pure\" (i.e. built-in) Python has mostly the same data types as you might know from MATLAB or R, such as numbers (integers/floats), strings, and lists (cells in MATLAB; lists in R). Also, Python has to data types that might be unknown to MATLAB/R users, such as \"dictionaries\" and \"tuples\", which are explained later. "
   ]
  },
  {
   "cell_type": "markdown",
   "metadata": {},
   "source": [
    "#### Numbers\n",
    "Numbers are represented either as integers (\"whole\" numbers) or floats (numbers with decimals, basically)."
   ]
  },
  {
   "cell_type": "code",
   "execution_count": 58,
   "metadata": {},
   "outputs": [
    {
     "name": "stdout",
     "output_type": "stream",
     "text": [
      "3 <class 'int'>\n",
      "3.15 <class 'float'>\n"
     ]
    }
   ],
   "source": [
    "x = 3 \n",
    "print(x, type(x)) # use type(variable) to find out of what data-type something is!\n",
    "\n",
    "y = 3.15\n",
    "print(y, type(y))"
   ]
  },
  {
   "cell_type": "markdown",
   "metadata": {},
   "source": [
    "Let's try to apply arithmetic to x as defined above with some basic operations:"
   ]
  },
  {
   "cell_type": "code",
   "execution_count": 59,
   "metadata": {},
   "outputs": [
    {
     "name": "stdout",
     "output_type": "stream",
     "text": [
      "4\n",
      "2\n",
      "1.5\n",
      "6\n",
      "9\n"
     ]
    }
   ],
   "source": [
    "print(x + 1)   # Addition;\n",
    "print(x - 1)   # Subtraction;\n",
    "print(x / 2)   # Division;\n",
    "print(x * 2)   # Multiplication;\n",
    "print(x ** 2)  # Exponentiation;"
   ]
  },
  {
   "cell_type": "markdown",
   "metadata": {},
   "source": [
    "The above commands apply operations to x, but do not *change* x itself. To permanently change x, you have to store the results of the operation (e.g. `x + 1`) into a variable (e.g. `x2 = x + 1`), as shown in the cell below:"
   ]
  },
  {
   "cell_type": "code",
   "execution_count": 60,
   "metadata": {},
   "outputs": [
    {
     "name": "stdout",
     "output_type": "stream",
     "text": [
      "5\n",
      "10\n"
     ]
    }
   ],
   "source": [
    "x = 3\n",
    "x_new = x + 2\n",
    "\n",
    "# If you simply want to update an existing variable, you can do this in two ways:\n",
    "x = x + 1\n",
    "\n",
    "# ... or:\n",
    "x += 1\n",
    "\n",
    "print(x)  \n",
    "\n",
    "x *= 2 # This is the same as: x = x * 2\n",
    "print(x) "
   ]
  },
  {
   "cell_type": "markdown",
   "metadata": {},
   "source": [
    "<div class=\"alert alert-warning\">\n",
    "<b>ToDo</b> (1 point) \n",
    "</div>\n",
    "\n",
    "In the cell below, make a new variable, `y`, which should contain x minus 5 and subsequently raised to the 4th power. "
   ]
  },
  {
   "cell_type": "code",
   "execution_count": 71,
   "metadata": {
    "nbgrader": {
     "grade": false,
     "grade_id": "cell-b1f3eff2d86022f9",
     "locked": false,
     "schema_version": 1,
     "solution": true
    }
   },
   "outputs": [],
   "source": [
    "x = 8\n",
    "# your solution here\n",
    "y = x-5\n",
    "y = y**4"
   ]
  },
  {
   "cell_type": "code",
   "execution_count": 72,
   "metadata": {
    "nbgrader": {
     "grade": true,
     "grade_id": "cell-86a18c4fb5804a78",
     "locked": true,
     "points": 1,
     "schema_version": 1,
     "solution": false
    }
   },
   "outputs": [
    {
     "name": "stdout",
     "output_type": "stream",
     "text": [
      "Well done! 1 out of tests 2 passed\n",
      "Well done! 2 out of tests 2 passed\n"
     ]
    }
   ],
   "source": [
    "''' Tests the above ToDo.'''\n",
    "\n",
    "# Check if there exists a variable 'y'\n",
    "try:\n",
    "    assert('y' in dir())\n",
    "except AssertionError as e:\n",
    "    print(\"The variable 'y' doesn't seem to exist! Did you name it correctly?\")\n",
    "    raise(e)\n",
    "else:\n",
    "    print(\"Well done! 1 out of tests 2 passed\")\n",
    "\n",
    "# Check if it has the correct number\n",
    "try:\n",
    "    assert(y == 81)\n",
    "except AssertionError as e:\n",
    "    print(\"The variable y does not seem to equal x minus 5, raise to the power 4.\")\n",
    "    raise(e)\n",
    "else:\n",
    "    print(\"Well done! 2 out of tests 2 passed\")"
   ]
  },
  {
   "cell_type": "markdown",
   "metadata": {},
   "source": [
    "#### Booleans\n",
    "Python implements all of the usual operators for comparisons. Similar to what you might know from other languages, '==' tests equivalence, '!=' for not equivalent, and '<' and '>' for larger/smaller than.\n",
    "\n",
    "Check out some examples below:"
   ]
  },
  {
   "cell_type": "code",
   "execution_count": 73,
   "metadata": {},
   "outputs": [
    {
     "name": "stdout",
     "output_type": "stream",
     "text": [
      "False\n",
      "<class 'bool'>\n"
     ]
    }
   ],
   "source": [
    "a = 3\n",
    "b = 5\n",
    "is_a_equal_to_b = a == b\n",
    "\n",
    "print(is_a_equal_to_b)\n",
    "print(type(is_a_equal_to_b)) "
   ]
  },
  {
   "cell_type": "markdown",
   "metadata": {},
   "source": [
    "However, for Boolean logic, python doesn't use operators (such as && for \"and\" and | for \"or\") but uses special (regular English) **words**: "
   ]
  },
  {
   "cell_type": "code",
   "execution_count": 74,
   "metadata": {},
   "outputs": [
    {
     "name": "stdout",
     "output_type": "stream",
     "text": [
      "False\n",
      "True\n",
      "True\n",
      "True\n"
     ]
    }
   ],
   "source": [
    "bool_1 = 3 > 5 # False, because 3 is not greater than 5\n",
    "bool_2 = 5 == 5 # True, because, well, 5 is 5\n",
    "\n",
    "print(bool_1 and bool_2)  # Logical AND, both have to be True\n",
    "print(bool_1 or bool_2)   # Logical OR, either one of them has to be True\n",
    "print(not bool_1)         # Logical NOT, the inverse of bool_1\n",
    "print(bool_1 != bool_2)   # Logical XOR, yields True when bool_1 and bool_2 are not equal"
   ]
  },
  {
   "cell_type": "markdown",
   "metadata": {},
   "source": [
    "<div class='alert alert-warning'>\n",
    "<b>ToDo</b> (0 points)\n",
    "</div>\n",
    "Mess around with booleans in the cell below. Try some more complex things, like: `not ((3 > 5) and not (5 < 2))`. \n",
    "Do you understand why the result is the way it is? Try to follow the logic in the sequence of statements (not graded, so no tests follow the code block)."
   ]
  },
  {
   "cell_type": "code",
   "execution_count": 85,
   "metadata": {},
   "outputs": [
    {
     "name": "stdout",
     "output_type": "stream",
     "text": [
      "True\n",
      "False\n",
      "False\n"
     ]
    }
   ],
   "source": [
    "# Do your ToDo here:\n",
    "bool_3 = not 3>5 #False\n",
    "bool_4 = not 5 < 6 #False\n",
    "\n",
    "print(bool_3)\n",
    "print(bool_4)\n",
    "\n",
    "print(bool_3 and bool_4)   "
   ]
  },
  {
   "cell_type": "markdown",
   "metadata": {},
   "source": [
    "#### Strings\n",
    "Strings in Python are largely the same as in other languages."
   ]
  },
  {
   "cell_type": "code",
   "execution_count": 86,
   "metadata": {},
   "outputs": [
    {
     "name": "stdout",
     "output_type": "stream",
     "text": [
      "hello\n",
      "5\n"
     ]
    }
   ],
   "source": [
    "h = 'hello'   # String literals can use single quotes\n",
    "w = \"world\"   # or double quotes; it does not matter.\n",
    "\n",
    "print(h)\n",
    "print(len(h))  # see how many characters in this string"
   ]
  },
  {
   "cell_type": "markdown",
   "metadata": {},
   "source": [
    "A very nice feature of Python strings is that they are easy to concatenate: just use '+'!"
   ]
  },
  {
   "cell_type": "code",
   "execution_count": 87,
   "metadata": {},
   "outputs": [
    {
     "name": "stdout",
     "output_type": "stream",
     "text": [
      "hello, world!\n"
     ]
    }
   ],
   "source": [
    "hw = h + ', ' + w + '!' # String concatenation\n",
    "print(hw)"
   ]
  },
  {
   "cell_type": "markdown",
   "metadata": {},
   "source": [
    "You can also create and combine strings with what is called 'string formatting'. This is accomplished by inserting a placeholder in a string, that you can fill with variables. An example is given below:"
   ]
  },
  {
   "cell_type": "code",
   "execution_count": 88,
   "metadata": {},
   "outputs": [
    {
     "name": "stdout",
     "output_type": "stream",
     "text": [
      "Before formatting:\n",
      "My favorite programming language is: %s\n",
      "After formatting\n",
      "My favorite programming language is: Python\n"
     ]
    }
   ],
   "source": [
    "# Here, we have a string with a placeholder '%s' (the 's' refers to 'string' placeholder)\n",
    "my_string = 'My favorite programming language is: %s'\n",
    "print('Before formatting:')\n",
    "print(my_string)\n",
    "\n",
    "# Now, to 'fill' the placeholder, do the following:\n",
    "my_fav_language = 'Python'\n",
    "my_string = 'My favorite programming language is: %s' % my_fav_language\n",
    "\n",
    "print('After formatting')\n",
    "print(my_string)"
   ]
  },
  {
   "cell_type": "markdown",
   "metadata": {},
   "source": [
    "You can also use specific placeholders for different data types:"
   ]
  },
  {
   "cell_type": "code",
   "execution_count": 89,
   "metadata": {},
   "outputs": [
    {
     "name": "stdout",
     "output_type": "stream",
     "text": [
      "This is week 1 of neuroimaging\n",
      "I will get a 99.500000 on my midterm exam!\n",
      "In week 1 of neuroimaging, I will get a 95.000000 for my lab-assignment\n"
     ]
    }
   ],
   "source": [
    "week_no = 1 # integer\n",
    "string1 = 'This is week %i of neuroimaging' % week_no # the %i expects an integer!\n",
    "print(string1)\n",
    "\n",
    "project_score = 99.50 # float\n",
    "string2 = 'I will get a %f on my midterm exam!' % project_score\n",
    "print(string2)\n",
    "\n",
    "# You can also combine different types in a string:\n",
    "string3 = 'In week %i of neuroimaging, %s will get a %f for my lab-assignment' % (week_no, \"I\", 95.00)\n",
    "print(string3)"
   ]
  },
  {
   "cell_type": "markdown",
   "metadata": {},
   "source": [
    "For a full list of placeholders see https://docs.python.org/2/library/stdtypes.html#string-formatting-operations"
   ]
  },
  {
   "cell_type": "markdown",
   "metadata": {},
   "source": [
    "<div class='alert alert-warning'>\n",
    "<b>ToDo</b> (1 point)\n",
    "</div>\n",
    "Using the variable `to_print` defined below, print the string:\n",
    "\n",
    "\"Neuroimaging will be my favorite course 4ever\"\n",
    "\n",
    "So you'll have to \"fill\" the \"%\" placeholders using string formatting.\n",
    "(This is a manually graded answer, so no tests!)"
   ]
  },
  {
   "cell_type": "code",
   "execution_count": 92,
   "metadata": {
    "nbgrader": {
     "grade": true,
     "grade_id": "cell-eb152527160ad636",
     "locked": false,
     "points": 1,
     "schema_version": 1,
     "solution": true
    }
   },
   "outputs": [
    {
     "name": "stdout",
     "output_type": "stream",
     "text": [
      "Neuroimaging will be my favorite course 4ever\n"
     ]
    }
   ],
   "source": [
    "to_print = \"%s will be my favorite course %iever\"\n",
    "# print the to_print variable, with the appropriate string formatters!\n",
    "word = \"Neuroimaging\"\n",
    "number = 4\n",
    "to_print = \"%s will be my favorite course %iever\" % (word, number)\n",
    "\n",
    "print(to_print)\n"
   ]
  },
  {
   "cell_type": "markdown",
   "metadata": {},
   "source": [
    "#### Lists\n",
    "A list is the Python equivalent of an array, but can be resized and can contain elements of different types. It is similar to a list in R and a cell in MATLAB. Note that indices in python start with 0! This means that the 3rd element of the list below is accessed through `[2]`.\n",
    "\n",
    "Let's check out some lists and how to index them!"
   ]
  },
  {
   "cell_type": "code",
   "execution_count": 94,
   "metadata": {},
   "outputs": [],
   "source": [
    "# Note that list may contain numbers ...\n",
    "list1 = [3, 1, 2]\n",
    "\n",
    "# ... or strings\n",
    "list2 = ['hello', 'world']\n",
    "\n",
    "# ... or, actually, anything at all! List lists themselves\n",
    "list3 = ['hello', [3, 1, 2], 'world', 5.3, -999]"
   ]
  },
  {
   "cell_type": "markdown",
   "metadata": {},
   "source": [
    "Whatever the contents of a list, they are indexed the same way: using square brackets with an integer, e.g. `[0]`:"
   ]
  },
  {
   "cell_type": "code",
   "execution_count": 95,
   "metadata": {},
   "outputs": [
    {
     "name": "stdout",
     "output_type": "stream",
     "text": [
      "The first element of list1 is: 3\n",
      "The second element of list2 is: world\n",
      "The last element of list3 is: -999\n",
      "The second-to-last element of list3 is: 5.300000\n"
     ]
    }
   ],
   "source": [
    "print('The first element of list1 is: %i' % list1[0])\n",
    "print('The second element of list2 is: %s' % list2[1])\n",
    "print('The last element of list3 is: %i' % list3[-1])\n",
    "print('The second-to-last element of list3 is: %f' % list3[-2])"
   ]
  },
  {
   "cell_type": "markdown",
   "metadata": {},
   "source": [
    "Note that you can also use negative indices! Negative indices start indexing from the end of the list, so `[-1]` indexes the last element, `[-2]` indexes the second-to-last element, etc.\n",
    "\n",
    "We cannot only 'extract' element from lists using indexing, but we can also replace them! This works as follows:"
   ]
  },
  {
   "cell_type": "code",
   "execution_count": 96,
   "metadata": {},
   "outputs": [
    {
     "name": "stdout",
     "output_type": "stream",
     "text": [
      "[100, 2, 3, ['A', 'B', 'C']]\n",
      "[100, 2, 3, ['ANOTHER STRING', 'B', 'C']]\n"
     ]
    }
   ],
   "source": [
    "some_list = [1, 2, 3, ['A', 'B', 'C']]\n",
    "\n",
    "# Let's set the first element of some_list to 100:\n",
    "some_list[0] = 100\n",
    "print(some_list)\n",
    "\n",
    "# Note that indexing a list within a list is done with sequential square brackets,\n",
    "# so if we want to index the element 'A' in some_list, we do:\n",
    "some_list[-1][0] = 'ANOTHER STRING'\n",
    "print(some_list)"
   ]
  },
  {
   "cell_type": "markdown",
   "metadata": {},
   "source": [
    "<div class='alert alert-warning'>\n",
    "<b>ToDo</b> (1 point)\n",
    "</div>\n",
    "In the cell below, replace the element 'TO_REPLACE_1' with 'REPLACED' and the element 'TO_REPLACE_2' also with 'REPLACED' in the list `todo_list`."
   ]
  },
  {
   "cell_type": "code",
   "execution_count": 108,
   "metadata": {
    "nbgrader": {
     "grade": false,
     "grade_id": "cell-fcaca4cbf6963307",
     "locked": false,
     "schema_version": 1,
     "solution": true
    }
   },
   "outputs": [
    {
     "name": "stdout",
     "output_type": "stream",
     "text": [
      "[1, 'B', 'REPLACED', [5, 3, 1038, 'C'], [1, 3, 5, [9, 3, 1, 'REPLACED']]]\n"
     ]
    }
   ],
   "source": [
    "todo_list = [1, 'B', 'TO_REPLACE_1', [5, 3, 1038, 'C'], [1, 3, 5, [9, 3, 1, 'TO_REPLACE_2']]]\n",
    "\n",
    "# your solution here\n",
    "todo_list [2] = 'REPLACED'\n",
    "todo_list [-1][-1][-1] = 'REPLACED'\n",
    "print(todo_list)"
   ]
  },
  {
   "cell_type": "markdown",
   "metadata": {},
   "source": [
    "**Note**: the code-cell below as usual tests your ToDo, but we haven't written out the tests in the cell itself. Instead, we wrote the tests in a separate Python module (a file with a collection of functions, objects, etc.), which we import here. (We do this, because writing out the tests here would give you the answer rightaway!)"
   ]
  },
  {
   "cell_type": "code",
   "execution_count": 141,
   "metadata": {
    "nbgrader": {
     "grade": true,
     "grade_id": "cell-6cc25540df324d7d",
     "locked": true,
     "points": 1,
     "schema_version": 1,
     "solution": false
    }
   },
   "outputs": [
    {
     "ename": "NameError",
     "evalue": "name 'todo_list' is not defined",
     "output_type": "error",
     "traceback": [
      "\u001b[0;31m---------------------------------------------------------------------------\u001b[0m",
      "\u001b[0;31mNameError\u001b[0m                                 Traceback (most recent call last)",
      "\u001b[0;32m<ipython-input-141-35359d95a0ca>\u001b[0m in \u001b[0;36m<module>\u001b[0;34m()\u001b[0m\n\u001b[1;32m      2\u001b[0m \u001b[0;31m# Below, we import all our tests (*)\u001b[0m\u001b[0;34m\u001b[0m\u001b[0;34m\u001b[0m\u001b[0m\n\u001b[1;32m      3\u001b[0m \u001b[0;32mfrom\u001b[0m \u001b[0mtests\u001b[0m \u001b[0;32mimport\u001b[0m \u001b[0;34m*\u001b[0m\u001b[0;34m\u001b[0m\u001b[0m\n\u001b[0;32m----> 4\u001b[0;31m \u001b[0mtest_list_indexing\u001b[0m\u001b[0;34m(\u001b[0m\u001b[0mtodo_list\u001b[0m\u001b[0;34m)\u001b[0m\u001b[0;34m\u001b[0m\u001b[0m\n\u001b[0m",
      "\u001b[0;31mNameError\u001b[0m: name 'todo_list' is not defined"
     ]
    }
   ],
   "source": [
    "''' Tests the above ToDo with a custom function. '''\n",
    "# Below, we import all our tests (*) \n",
    "from tests import *\n",
    "test_list_indexing(todo_list)"
   ]
  },
  {
   "cell_type": "markdown",
   "metadata": {},
   "source": [
    "In addition to accessing list elements one at a time, Python provides concise syntax to access specific parts of a list (sublists); this is known as **slicing**. \n",
    "\n",
    "Let's look at some slice operations:"
   ]
  },
  {
   "cell_type": "code",
   "execution_count": 110,
   "metadata": {},
   "outputs": [
    {
     "name": "stdout",
     "output_type": "stream",
     "text": [
      "[0, 1, 2, 3, 4, 5, 6, 7, 8, 9]\n",
      "[2, 3]\n",
      "[2, 3, 4, 5, 6, 7, 8, 9]\n",
      "[0, 1]\n",
      "[0, 1, 2, 3, 4, 5, 6, 7, 8, 9]\n",
      "[0, 1, 2, 3, 4, 5, 6, 7, 8]\n"
     ]
    }
   ],
   "source": [
    "nums = [0, 1, 2, 3, 4, 5, 6, 7, 8, 9]\n",
    "print(nums)         # Our original list\n",
    "\n",
    "# Get a slice form index 2 to 4 (exclusive); prints \"[2, 3]\"\n",
    "print(nums[2:4])    \n",
    "\n",
    "# Get a slice from index 2 to the end; prints \"[2, 3, 4, 5, 6, 7, 8, 9]\"\n",
    "print(nums[2:])  \n",
    "\n",
    "# Get a slice from the start to index 2 (exclusive); prints \"[0, 1]\"\n",
    "print(nums[:2])     \n",
    "\n",
    "# Get a slice of the whole list; prints [\"0, 1, 2, 3, 4, 5, 6, 7, 8, 9]\"\n",
    "print(nums[:])\n",
    "\n",
    "# Slice indices can be negative; prints [\"0, 1, 2, 3, 4, 5, 6, 7, 8]\",\n",
    "# so everything up to (but not including) the last element\n",
    "print(nums[:-1])    "
   ]
  },
  {
   "cell_type": "markdown",
   "metadata": {},
   "source": [
    "Apart from the syntax `[from:to]`, you can also specify a \"stride\" (sort of step-size) of your slice using the syntax `[from:to:stride]`:"
   ]
  },
  {
   "cell_type": "code",
   "execution_count": 111,
   "metadata": {},
   "outputs": [
    {
     "name": "stdout",
     "output_type": "stream",
     "text": [
      "[0, 2, 4, 6, 8]\n",
      "[1, 4, 7]\n"
     ]
    }
   ],
   "source": [
    "# Return values in steps of 2\n",
    "print(nums[::2])    \n",
    "\n",
    "# Returns values in steps of 3, but starting from the second element\n",
    "print(nums[1::3])   "
   ]
  },
  {
   "cell_type": "markdown",
   "metadata": {},
   "source": [
    "With 'normal' indexing of lists, you can only index a subsequently set/replace one element at the time. With slices, however, you can set multiple elements at the same time:"
   ]
  },
  {
   "cell_type": "code",
   "execution_count": 112,
   "metadata": {},
   "outputs": [
    {
     "name": "stdout",
     "output_type": "stream",
     "text": [
      "[0, 1, 100, 200, 4, 5, 6, 7, 8, 9]\n"
     ]
    }
   ],
   "source": [
    "nums[2:4] = [100, 200] # Assign a new sublist to a slice\n",
    "print(nums)         # Prints \"[0, 1, 100, 200, 4, 5, 6, 7, 8, 9]\""
   ]
  },
  {
   "cell_type": "markdown",
   "metadata": {},
   "source": [
    "Importantly, slicing in Python is \"end exclusive\", which means that the last index in your slice is not returned. Thus ...\n",
    "\n",
    "`nums = [0, 1, 2, 3, 4, 5, 6, 7, 8, 9]\n",
    "nums[0:5]` \n",
    "\n",
    "... returns 0 up till and including 4 (not 5!).\n",
    "\n",
    "Check it out below:"
   ]
  },
  {
   "cell_type": "code",
   "execution_count": 113,
   "metadata": {},
   "outputs": [
    {
     "name": "stdout",
     "output_type": "stream",
     "text": [
      "[0, 1, 2, 3, 4]\n"
     ]
    }
   ],
   "source": [
    "nums = [0, 1, 2, 3, 4, 5, 6, 7, 8, 9]\n",
    "print(nums[0:5])"
   ]
  },
  {
   "cell_type": "markdown",
   "metadata": {},
   "source": [
    "<font color='blue'><b>Tip</b></font>: instead of creating sequential lists like:\n",
    "\n",
    "`num = [0, 1, 2, 3, 4, 5, 6, 7, 8, 9]`\n",
    "\n",
    "... we can also create a list using the syntax: \n",
    "\n",
    "`num = list(range(starting_point, exclusive_end_point))`\n",
    "\n",
    "For example, to create a list from 5 to 15, use the following:\n",
    "\n",
    "`num = list(range(5, 16))` \n",
    "\n",
    "We'll use this construction (`list(range(x, y))`, or without the `list`) quite often in this course!"
   ]
  },
  {
   "cell_type": "markdown",
   "metadata": {},
   "source": [
    "<div class='alert alert-warning'>\n",
    "<b>ToDo</b> (1 point)\n",
    "</div>\n",
    "From the list (`my_list`) below, extract the numbers 2, 3, 4, 5, and 6 using a slice and store it in a new variable named `my_new_list`!"
   ]
  },
  {
   "cell_type": "code",
   "execution_count": 115,
   "metadata": {
    "nbgrader": {
     "grade": false,
     "grade_id": "cell-daeb7ca767d21986",
     "locked": false,
     "schema_version": 1,
     "solution": true
    }
   },
   "outputs": [],
   "source": [
    "my_list = [1, 2, 3, 4, 5, 6, 7, 8, 9, 10]\n",
    "\n",
    "# your solution here\n",
    "my_new_list = my_list[1:-4]\n"
   ]
  },
  {
   "cell_type": "code",
   "execution_count": 116,
   "metadata": {
    "nbgrader": {
     "grade": true,
     "grade_id": "cell-326bc8ff7960e645",
     "locked": true,
     "points": 1,
     "schema_version": 1,
     "solution": false
    }
   },
   "outputs": [
    {
     "name": "stdout",
     "output_type": "stream",
     "text": [
      "Well done!\n"
     ]
    }
   ],
   "source": [
    "available_vars = dir()\n",
    "if 'my_new_list' not in available_vars:\n",
    "    raise ValueError(\"You did not store the results in a new variable caleld 'my_new_list'!\")\n",
    "    \n",
    "test_slicing_1(my_new_list)"
   ]
  },
  {
   "cell_type": "markdown",
   "metadata": {},
   "source": [
    "<div class='alert alert-warning'>\n",
    "<b>ToDo</b> (1 point) \n",
    "</div>\n",
    "From the list below (`my_list_2`), extract the values `[5, 7, 9, 11]` using a slice (i.e., in a single operation!) and store it in a new variable named `my_new_list_2`."
   ]
  },
  {
   "cell_type": "code",
   "execution_count": 124,
   "metadata": {
    "nbgrader": {
     "grade": false,
     "grade_id": "cell-cfe59b0d7902a00a",
     "locked": false,
     "schema_version": 1,
     "solution": true
    }
   },
   "outputs": [
    {
     "name": "stdout",
     "output_type": "stream",
     "text": [
      "[5, 7, 9, 11]\n"
     ]
    }
   ],
   "source": [
    "my_list_2 = [1, 3, 5, 7, 9, 11, 13, 15, 17, 19, 21]\n",
    "\n",
    "# your solution here\n",
    "\n",
    "my_new_list_2 = my_list_2[2:6]\n",
    "print(my_new_list_2)  \n"
   ]
  },
  {
   "cell_type": "code",
   "execution_count": 125,
   "metadata": {
    "nbgrader": {
     "grade": true,
     "grade_id": "cell-fac7511a9ff08758",
     "locked": true,
     "points": 1,
     "schema_version": 1,
     "solution": false
    }
   },
   "outputs": [
    {
     "name": "stdout",
     "output_type": "stream",
     "text": [
      "Well done!\n"
     ]
    }
   ],
   "source": [
    "available_vars = dir()\n",
    "\n",
    "if 'my_new_list_2' not in available_vars:\n",
    "    raise ValueError(\"You didn't define the variable 'my_new_list_2'!\")\n",
    "\n",
    "test_slicing_2(my_new_list_2)"
   ]
  },
  {
   "cell_type": "markdown",
   "metadata": {},
   "source": [
    "**NOTE**: you can index *strings* the same way as you index lists! Try to see it this way: a string is, quite literally, a *string* (\"list\") of characters. So, to get the first letter of some string s (e.g, 'this is a string'), you simply write: `s[0]`. To get first 5 characters, you write `s[:5]`, etc etc. Remember this!"
   ]
  },
  {
   "cell_type": "markdown",
   "metadata": {},
   "source": [
    "#### Dictionaries\n",
    "Dictionaries might be new for those who are used to MATLAB or R. Basically, a dictionary is an **unordered** list in which list entries have a name (which is also referred to as a \"key\"). To get a value from a dictionary, you have to use the \"key\" as index instead of using an integer.\n",
    "\n",
    "Let's check out such a dictionary and how to index it. We build a dictionary using the following syntax: \n",
    "\n",
    "`{some_key: value, another_key: another_value, etc: etc}`\n",
    "\n",
    "The keys can be anything! Strings, integers, lists ... doesn't matter! Mostly, though, strings are used as keys. \n",
    "So, let's look at an example:"
   ]
  },
  {
   "cell_type": "code",
   "execution_count": 126,
   "metadata": {},
   "outputs": [],
   "source": [
    "my_dict = {'cat': 'cute', 'dog': 'furry'}  # Create a new dictionary with some data"
   ]
  },
  {
   "cell_type": "markdown",
   "metadata": {},
   "source": [
    "To index a dictionary, we'll use square brackets `[]` again, just like with lists. But now, we can index using the key!"
   ]
  },
  {
   "cell_type": "code",
   "execution_count": 127,
   "metadata": {},
   "outputs": [
    {
     "name": "stdout",
     "output_type": "stream",
     "text": [
      "cute\n"
     ]
    }
   ],
   "source": [
    "indexed_value = my_dict['cat']\n",
    "print(indexed_value)"
   ]
  },
  {
   "cell_type": "markdown",
   "metadata": {},
   "source": [
    "Adding new key-value pairs to dictionaries is easy! Just index it with a new key, and assign the value to it:"
   ]
  },
  {
   "cell_type": "code",
   "execution_count": 131,
   "metadata": {},
   "outputs": [
    {
     "name": "stdout",
     "output_type": "stream",
     "text": [
      "wet\n"
     ]
    }
   ],
   "source": [
    "my_dict['fish'] = 'wet'     # Set an entry in a dictionary\n",
    "print(my_dict['fish'])      # Prints \"wet\""
   ]
  },
  {
   "cell_type": "code",
   "execution_count": 132,
   "metadata": {},
   "outputs": [
    {
     "name": "stdout",
     "output_type": "stream",
     "text": [
      "{'cat': 'cute', 'dog': 'furry', 'fish': 'wet', 'rabbit': ['omg', 'so', 'cute']}\n"
     ]
    }
   ],
   "source": [
    "print(my_dict)"
   ]
  },
  {
   "cell_type": "markdown",
   "metadata": {},
   "source": [
    "Like a list, an entry in a dictionary can be of any data type:"
   ]
  },
  {
   "cell_type": "code",
   "execution_count": 129,
   "metadata": {},
   "outputs": [
    {
     "name": "stdout",
     "output_type": "stream",
     "text": [
      "['omg', 'so', 'cute']\n"
     ]
    }
   ],
   "source": [
    "my_dict['rabbit'] = ['omg', 'so', 'cute']\n",
    "print(my_dict['rabbit'])"
   ]
  },
  {
   "cell_type": "markdown",
   "metadata": {},
   "source": [
    "If you try to 'index' a dictionary with a key that doesn't exist, it raises a \"KeyError\", which means you're trying to index something that doesn't exist:"
   ]
  },
  {
   "cell_type": "code",
   "execution_count": 130,
   "metadata": {},
   "outputs": [
    {
     "ename": "KeyError",
     "evalue": "'monkey'",
     "output_type": "error",
     "traceback": [
      "\u001b[0;31m---------------------------------------------------------------------------\u001b[0m",
      "\u001b[0;31mKeyError\u001b[0m                                  Traceback (most recent call last)",
      "\u001b[0;32m<ipython-input-130-1a38ea043328>\u001b[0m in \u001b[0;36m<module>\u001b[0;34m()\u001b[0m\n\u001b[0;32m----> 1\u001b[0;31m \u001b[0mprint\u001b[0m\u001b[0;34m(\u001b[0m\u001b[0mmy_dict\u001b[0m\u001b[0;34m[\u001b[0m\u001b[0;34m'monkey'\u001b[0m\u001b[0;34m]\u001b[0m\u001b[0;34m)\u001b[0m\u001b[0;34m\u001b[0m\u001b[0m\n\u001b[0m",
      "\u001b[0;31mKeyError\u001b[0m: 'monkey'"
     ]
    }
   ],
   "source": [
    "print(my_dict['monkey'])"
   ]
  },
  {
   "cell_type": "markdown",
   "metadata": {},
   "source": [
    "<div class='alert alert-warning'>\n",
    "<b>ToDo</b> (1 point)\n",
    "</div>\n",
    "In the code cell below, add a new key to the dictionary `my_dict` named `\"rat\"` and with the value `\"nasty\"`."
   ]
  },
  {
   "cell_type": "code",
   "execution_count": 133,
   "metadata": {
    "nbgrader": {
     "grade": false,
     "grade_id": "cell-121f9f1b0a5263be",
     "locked": false,
     "schema_version": 1,
     "solution": true
    }
   },
   "outputs": [],
   "source": [
    "# Add the key-value pair here!\n",
    "\n",
    "# your solution here\n",
    "my_dict['rat'] = 'nasty'     # Set an entry in a dictionary\n"
   ]
  },
  {
   "cell_type": "code",
   "execution_count": 134,
   "metadata": {
    "nbgrader": {
     "grade": true,
     "grade_id": "cell-0db58b3f530e7219",
     "locked": true,
     "points": 1,
     "schema_version": 1,
     "solution": false
    }
   },
   "outputs": [
    {
     "name": "stdout",
     "output_type": "stream",
     "text": [
      "Well done!\n"
     ]
    }
   ],
   "source": [
    "''' Tests the above ToDo. '''\n",
    "\n",
    "try:\n",
    "    assert('rat' in my_dict)\n",
    "except AssertionError as e:\n",
    "    print(\"There exists no key 'rat' in my_dict!\")\n",
    "    raise(e)\n",
    "\n",
    "try:\n",
    "    assert(my_dict['rat'] == 'nasty')\n",
    "except AssertionError as e:\n",
    "    print(\"The value of key 'rat' is '%s' and NOT 'nasty'\" % my_dict['rat'])\n",
    "\n",
    "print('Well done!')"
   ]
  },
  {
   "cell_type": "markdown",
   "metadata": {},
   "source": [
    "<div class='alert alert-warning'>\n",
    "<b>ToDo</b> (1 point)\n",
    "</div>\n",
    "Values of dictionaries can be any type of object, even dictionaries themselves! So, add a new key to the dictionary `my_dict` named `\"another_dict\"` with the value of *another* dictionary with the keys `\"a\"` and `\"b\"` and the corresponding values `1` and `2`. Also, try to figure out how to index the value `1` from the 'nested' dictionary (this is not graded, but try it nonetheless!)."
   ]
  },
  {
   "cell_type": "code",
   "execution_count": 147,
   "metadata": {
    "nbgrader": {
     "grade": false,
     "grade_id": "cell-8c0d0b8e890bfb78",
     "locked": false,
     "schema_version": 1,
     "solution": true
    }
   },
   "outputs": [
    {
     "name": "stdout",
     "output_type": "stream",
     "text": [
      "1\n"
     ]
    }
   ],
   "source": [
    "# Do the ToDo here\n",
    "my_dict['another_dict'] = {'a': 1, 'b': 2}  \n",
    "\n",
    "indexed_value = my_dict['another_dict']['a']\n",
    "print(indexed_value)"
   ]
  },
  {
   "cell_type": "code",
   "execution_count": 148,
   "metadata": {
    "nbgrader": {
     "grade": true,
     "grade_id": "cell-83ed96f5b23bddbe",
     "locked": true,
     "points": 1,
     "schema_version": 1,
     "solution": false
    }
   },
   "outputs": [
    {
     "name": "stdout",
     "output_type": "stream",
     "text": [
      "Well done!\n"
     ]
    }
   ],
   "source": [
    "''' Tests the above ToDo. '''\n",
    "\n",
    "try:\n",
    "    assert('another_dict' in my_dict)\n",
    "except AssertionError as e:\n",
    "    print(\"There exists no key 'another_dict' in my_dict!\")\n",
    "    raise(e)\n",
    "\n",
    "try:\n",
    "    assert(my_dict['another_dict']['a'] == 1)\n",
    "    assert(my_dict['another_dict']['b'] == 2)\n",
    "except AssertionError as e:\n",
    "    print(\"The key 'another_dictionary' should contain a dictionary with keys 'a' and 'b', corresponding\"\n",
    "          \"to values 1 and 2, respectively.\")\n",
    "    raise(e)\n",
    "\n",
    "print('Well done!')"
   ]
  },
  {
   "cell_type": "markdown",
   "metadata": {},
   "source": [
    "#### tuples\n",
    "Tuples are very much like lists, but the main difference is that they are immutable. In other words, after creating them, they cannot be modified (their values cannot be replaced/altered):"
   ]
  },
  {
   "cell_type": "code",
   "execution_count": 149,
   "metadata": {},
   "outputs": [
    {
     "name": "stdout",
     "output_type": "stream",
     "text": [
      "[0, 2, 3]\n"
     ]
    }
   ],
   "source": [
    "# A list can be modified ...\n",
    "my_list = [1, 2, 3]\n",
    "my_list[0] = 0\n",
    "print(my_list)"
   ]
  },
  {
   "cell_type": "code",
   "execution_count": 150,
   "metadata": {},
   "outputs": [
    {
     "name": "stdout",
     "output_type": "stream",
     "text": [
      "1\n"
     ]
    },
    {
     "ename": "TypeError",
     "evalue": "'tuple' object does not support item assignment",
     "output_type": "error",
     "traceback": [
      "\u001b[0;31m---------------------------------------------------------------------------\u001b[0m",
      "\u001b[0;31mTypeError\u001b[0m                                 Traceback (most recent call last)",
      "\u001b[0;32m<ipython-input-150-2d02c33d0ee8>\u001b[0m in \u001b[0;36m<module>\u001b[0;34m()\u001b[0m\n\u001b[1;32m      2\u001b[0m \u001b[0mmy_tuple\u001b[0m \u001b[0;34m=\u001b[0m \u001b[0;34m(\u001b[0m\u001b[0;36m1\u001b[0m\u001b[0;34m,\u001b[0m \u001b[0;36m2\u001b[0m\u001b[0;34m,\u001b[0m \u001b[0;36m3\u001b[0m\u001b[0;34m)\u001b[0m\u001b[0;34m\u001b[0m\u001b[0m\n\u001b[1;32m      3\u001b[0m \u001b[0mprint\u001b[0m\u001b[0;34m(\u001b[0m\u001b[0mmy_tuple\u001b[0m\u001b[0;34m[\u001b[0m\u001b[0;36m0\u001b[0m\u001b[0;34m]\u001b[0m\u001b[0;34m)\u001b[0m \u001b[0;31m# you can print parts of tuple ...\u001b[0m\u001b[0;34m\u001b[0m\u001b[0m\n\u001b[0;32m----> 4\u001b[0;31m \u001b[0mmy_tuple\u001b[0m\u001b[0;34m[\u001b[0m\u001b[0;36m0\u001b[0m\u001b[0;34m]\u001b[0m \u001b[0;34m=\u001b[0m \u001b[0;36m0\u001b[0m   \u001b[0;31m# but you cannot modify it!\u001b[0m\u001b[0;34m\u001b[0m\u001b[0m\n\u001b[0m",
      "\u001b[0;31mTypeError\u001b[0m: 'tuple' object does not support item assignment"
     ]
    }
   ],
   "source": [
    "# ... but a tuple cannot.\n",
    "my_tuple = (1, 2, 3)\n",
    "print(my_tuple[0]) # you can print parts of tuple ...\n",
    "my_tuple[0] = 0   # but you cannot modify it!"
   ]
  },
  {
   "cell_type": "markdown",
   "metadata": {},
   "source": [
    "You probably won't use tuples a lot, but you might come across them when using and writing functions (but more about that in the next section!)."
   ]
  },
  {
   "cell_type": "code",
   "execution_count": 151,
   "metadata": {},
   "outputs": [
    {
     "name": "stdout",
     "output_type": "stream",
     "text": [
      "(10, 20)\n",
      "<class 'tuple'>\n",
      "20\n"
     ]
    }
   ],
   "source": [
    "def my_epic_function(integer):\n",
    "    \n",
    "    return integer, integer * 2\n",
    "\n",
    "outputs = my_epic_function(10)\n",
    "print(outputs)\n",
    "print(type(outputs))\n",
    "\n",
    "# also, you can unpack tuples (and also lists) as follows:\n",
    "output1, output2 = outputs\n",
    "print(output2)"
   ]
  },
  {
   "cell_type": "markdown",
   "metadata": {},
   "source": [
    "### 2.3 Functions and methods"
   ]
  },
  {
   "cell_type": "markdown",
   "metadata": {},
   "source": [
    "If you followed the Codecademy tutorial, you are familiar with the basic syntax of functions in Python; if you're familiar with other programming languages, you'll see that the syntax of Python functions is quite similar to what you're used to.\n",
    "\n",
    "A function definition in Python starts with the keyword `def`, followed by the function name and round brackets with the arguments to the function, and finally the contents of the function, like so (note the indentation with four spaces/tab!!!):\n",
    "\n",
    "```\n",
    "def my_awesome_function(arg_1, arg_2):\n",
    "    print(\"Argument 1: %s\" % arg_1)\n",
    "    print(\"Argument 2: %s\" % arg_2)\n",
    "```\n",
    "\n",
    "This dummy-function above prints some stuff, but does not **return** something. Similar to R (but unlike MATLAB), you have to explicitly state what you want to **return** from the function by the \"return\" statement. \n",
    "\n",
    "So, suppose you have a function that adds 2 to any number. Let's define it as follows (you have to run the cell to let Python know you've defined this function):"
   ]
  },
  {
   "cell_type": "code",
   "execution_count": 4,
   "metadata": {},
   "outputs": [],
   "source": [
    "def add_2_to_a_number(some_number):\n",
    "    new_number = some_number + 2"
   ]
  },
  {
   "cell_type": "markdown",
   "metadata": {},
   "source": [
    "Here, we omitted a **return** statement to return the value of `new_number`. This is a problem, because in Python (like most languages) you cannot 'peek' inside the function after using it! You can only access whatever is returned. \n",
    "\n",
    "So, in the function defined above, we cannot access the value of `new_number`, because we didn't return it:"
   ]
  },
  {
   "cell_type": "code",
   "execution_count": 5,
   "metadata": {},
   "outputs": [
    {
     "ename": "NameError",
     "evalue": "name 'new_number' is not defined",
     "output_type": "error",
     "traceback": [
      "\u001b[0;31m---------------------------------------------------------------------------\u001b[0m",
      "\u001b[0;31mNameError\u001b[0m                                 Traceback (most recent call last)",
      "\u001b[0;32m<ipython-input-5-f2efc27a07fb>\u001b[0m in \u001b[0;36m<module>\u001b[0;34m()\u001b[0m\n\u001b[1;32m      1\u001b[0m \u001b[0;31m# This will give an error!\u001b[0m\u001b[0;34m\u001b[0m\u001b[0;34m\u001b[0m\u001b[0m\n\u001b[1;32m      2\u001b[0m \u001b[0madd_2_to_a_number\u001b[0m\u001b[0;34m(\u001b[0m\u001b[0;36m5\u001b[0m\u001b[0;34m)\u001b[0m\u001b[0;34m\u001b[0m\u001b[0m\n\u001b[0;32m----> 3\u001b[0;31m \u001b[0mprint\u001b[0m\u001b[0;34m(\u001b[0m\u001b[0mnew_number\u001b[0m\u001b[0;34m)\u001b[0m\u001b[0;34m\u001b[0m\u001b[0m\n\u001b[0m",
      "\u001b[0;31mNameError\u001b[0m: name 'new_number' is not defined"
     ]
    }
   ],
   "source": [
    "# This will give an error!\n",
    "add_2_to_a_number(5)\n",
    "print(new_number)"
   ]
  },
  {
   "cell_type": "markdown",
   "metadata": {},
   "source": [
    "So, to access the *value* of `new_number` (that is, *not* `new_number` itself, but its associated value), we need to return it:"
   ]
  },
  {
   "cell_type": "code",
   "execution_count": 6,
   "metadata": {},
   "outputs": [],
   "source": [
    "def add_2_to_a_number_fixed(some_number):\n",
    "    new_number = some_number + 2\n",
    "    return new_number"
   ]
  },
  {
   "cell_type": "code",
   "execution_count": 8,
   "metadata": {},
   "outputs": [
    {
     "name": "stdout",
     "output_type": "stream",
     "text": [
      "Results of function 'add_2_to_a_number' with argument '5': 7\n"
     ]
    }
   ],
   "source": [
    "value_contained_in_new_number = add_2_to_a_number_fixed(5)\n",
    "print(\"Results of function 'add_2_to_a_number' with argument '5': %i\" % value_contained_in_new_number)"
   ]
  },
  {
   "cell_type": "code",
   "execution_count": 12,
   "metadata": {},
   "outputs": [
    {
     "name": "stdout",
     "output_type": "stream",
     "text": [
      "3\n"
     ]
    }
   ],
   "source": [
    "print(add_2_to_a_number_fixed(1))"
   ]
  },
  {
   "cell_type": "markdown",
   "metadata": {},
   "source": [
    "Importantly, you can name the variable to which you assign the return value *anyway you like*. This doesn't have to be `new_number`! Like above, we named it `value_contained_in_new_number`, but it really doesn't matter."
   ]
  },
  {
   "cell_type": "markdown",
   "metadata": {},
   "source": [
    "<div class='alert alert-warning'>\n",
    "<b>ToDo</b> (1 points) \n",
    "</div>\n",
    "In the code cell below, we've started writing a function named `extract_last_element` that takes one input-argument - a list - and returns the last element of the list. Some parts of the function are missing, though, which you need to write! When you're done, run the test-cell below it to check if it's right!"
   ]
  },
  {
   "cell_type": "code",
   "execution_count": 33,
   "metadata": {
    "nbgrader": {
     "grade": false,
     "grade_id": "cell-844cc0bf2fe08f21",
     "locked": false,
     "schema_version": 1,
     "solution": true
    }
   },
   "outputs": [],
   "source": [
    "def extract_last_element(input_list):\n",
    "    input_list = input_list[-1]\n",
    "    return input_list\n",
    "    \n",
    "    # your solution here"
   ]
  },
  {
   "cell_type": "code",
   "execution_count": 34,
   "metadata": {},
   "outputs": [],
   "source": [
    "test_lists = [0,1,2]"
   ]
  },
  {
   "cell_type": "code",
   "execution_count": 35,
   "metadata": {},
   "outputs": [
    {
     "data": {
      "text/plain": [
       "2"
      ]
     },
     "execution_count": 35,
     "metadata": {},
     "output_type": "execute_result"
    }
   ],
   "source": [
    "extract_last_element(test_lists)"
   ]
  },
  {
   "cell_type": "code",
   "execution_count": 37,
   "metadata": {
    "nbgrader": {
     "grade": true,
     "grade_id": "cell-cce2e863aae1f1d8",
     "locked": true,
     "points": 1,
     "schema_version": 1,
     "solution": false
    }
   },
   "outputs": [
    {
     "name": "stdout",
     "output_type": "stream",
     "text": [
      "Well done!\n"
     ]
    }
   ],
   "source": [
    "try:\n",
    "    assert(extract_last_element(input_list=[0, 1, 2]) == 2)\n",
    "except AssertionError as e:\n",
    "    print(\"Your function fails for input [0, 1, 2]\")\n",
    "    raise(e)\n",
    "\n",
    "try:\n",
    "    assert(extract_last_element(input_list=[0]) == 0)\n",
    "except AssertionError as e:\n",
    "    print(\"Your function fails for input [0]\")\n",
    "    raise(e)\n",
    "\n",
    "try:\n",
    "    assert(extract_last_element(input_list=['string1', 'string2', 'string3']) == 'string3')\n",
    "except AssertionError as e:\n",
    "    print(\"Your function fails for input ['string1', 'string2', 'string3']\")\n",
    "    raise(e)\n",
    "\n",
    "print(\"Well done!\")"
   ]
  },
  {
   "cell_type": "markdown",
   "metadata": {},
   "source": [
    "Alright, that was probably relatively easy. Let's do a slightly harder one."
   ]
  },
  {
   "cell_type": "markdown",
   "metadata": {},
   "source": [
    "<div class='alert alert-warning'>\n",
    "<b>ToDo</b> (1 point) \n",
    "</div>\n",
    "Write a completely new function named `get_values_from_odd_indices` (so you have to write the `def ...` part!) that takes one input-argument - a list - and returns all values from the odd indices of that list. So, suppose you have a list:\n",
    "\n",
    "`[2, 100, 25, 48, 92, -5, 12]`\n",
    "\n",
    "... your function should return: \n",
    "\n",
    "`[100, 48, -5]`\n",
    "\n",
    "... i.e, the values from odd indices (here: 1, 3, 5; we exclude index zero!)\n",
    "\n",
    "Hint: slices might be useful here!\n",
    "\n",
    "When you're done, run the test-cell below it to check if it's right!"
   ]
  },
  {
   "cell_type": "code",
   "execution_count": 38,
   "metadata": {
    "nbgrader": {
     "grade": false,
     "grade_id": "cell-b53fdc7b50d5fcf3",
     "locked": false,
     "schema_version": 1,
     "solution": true
    }
   },
   "outputs": [],
   "source": [
    "# Implement your function (called get_values_from_odd_indices) here:\n",
    "\n",
    "def get_values_from_odd_indices(input_list):\n",
    "    input_list = input_list[1::2]\n",
    "    return input_list\n",
    "    "
   ]
  },
  {
   "cell_type": "code",
   "execution_count": 39,
   "metadata": {
    "nbgrader": {
     "grade": true,
     "grade_id": "cell-f0aba01f8698280a",
     "locked": true,
     "points": 1,
     "schema_version": 1,
     "solution": false
    }
   },
   "outputs": [
    {
     "name": "stdout",
     "output_type": "stream",
     "text": [
      "Well done (also run the next cell with tests)!\n"
     ]
    }
   ],
   "source": [
    "''' Tests the ToDo above. '''\n",
    "try:\n",
    "    assert('get_values_from_odd_indices' in dir())\n",
    "    assert(callable(get_values_from_odd_indices))\n",
    "except AssertionError as e:\n",
    "    print(\"Your function 'get_values_from_odd_indices' does not seem to exist!\")\n",
    "\n",
    "try:\n",
    "    out = get_values_from_odd_indices([0, 1, 2])\n",
    "    if out is None:\n",
    "        msg = \"ERROR: did you forget the Return statement?\"\n",
    "        raise ValueError(msg)\n",
    "except ValueError as e:\n",
    "    raise(e)\n",
    "    \n",
    "print(\"Well done (also run the next cell with tests)!\")"
   ]
  },
  {
   "cell_type": "code",
   "execution_count": 40,
   "metadata": {
    "nbgrader": {
     "grade": true,
     "grade_id": "cell-3dbc2e60c3240847",
     "locked": true,
     "points": 0,
     "schema_version": 1,
     "solution": false
    }
   },
   "outputs": [
    {
     "name": "stdout",
     "output_type": "stream",
     "text": [
      "Well done!\n"
     ]
    }
   ],
   "source": [
    "''' Some other tests for the ToDo above. '''\n",
    "inp = [0, 1, 2]\n",
    "outp = get_values_from_odd_indices(inp)\n",
    "ans = [1]\n",
    "try:\n",
    "    assert(outp == ans)\n",
    "except AssertionError as e:\n",
    "    print(\"Your function returned '%r' but I expected '%r'\" % (outp, ans))\n",
    "    raise(e)\n",
    "\n",
    "inp = [5, 7, 9, 11, 13, 15, 18, 20, 21]\n",
    "outp = get_values_from_odd_indices(inp)\n",
    "ans = [7, 11, 15, 20]\n",
    "try:\n",
    "    assert(outp == ans)\n",
    "except AssertionError as e:\n",
    "    print(\"Your function returned '%r' but I expected '%r'\" % (outp, ans))\n",
    "    raise(e)\n",
    "\n",
    "print(\"Well done!\")"
   ]
  },
  {
   "cell_type": "markdown",
   "metadata": {},
   "source": [
    "**IMPORTANT**: it is possible to return *multiple things* from a function. The function, then, returns these things as a tuple, which can subsequently be \"unpacked\". Let's check out an example using a custom function called `minmax_of_list` which returns both the minimum and maximum of a list:"
   ]
  },
  {
   "cell_type": "code",
   "execution_count": 41,
   "metadata": {},
   "outputs": [],
   "source": [
    "def minmax_of_list(some_list):\n",
    "    ''' Returns both the minimum and maximum of a list.\n",
    "    \n",
    "    Parameters\n",
    "    ----------\n",
    "    some_list : a Python list\n",
    "    \n",
    "    Returns\n",
    "    -------\n",
    "    min_value : a float or int\n",
    "        The minimum of a list\n",
    "    max_value : a float or int\n",
    "        The maximum of a list\n",
    "    '''\n",
    "    min_value = min(some_list)\n",
    "    max_value = max(some_list)\n",
    "    \n",
    "    return min_value, max_value"
   ]
  },
  {
   "cell_type": "markdown",
   "metadata": {},
   "source": [
    "As you can see, returning multiple things is a simple as adding more variables after the `return` statement, separated by commas. If we now call the function with a particular list, it gives us back a tuple of size 2 (one value for the minimum, one value for the maximum):"
   ]
  },
  {
   "cell_type": "code",
   "execution_count": 42,
   "metadata": {},
   "outputs": [
    {
     "name": "stdout",
     "output_type": "stream",
     "text": [
      "(0, 3)\n",
      "<class 'tuple'>\n"
     ]
    }
   ],
   "source": [
    "output_from_function = minmax_of_list([0, 1, 2, 3])\n",
    "print(output_from_function)\n",
    "print(type(output_from_function))"
   ]
  },
  {
   "cell_type": "markdown",
   "metadata": {},
   "source": [
    "We can now \"unpack\" the tuple (i.e., extract the separate values) in several ways. One way is to simply index the values:"
   ]
  },
  {
   "cell_type": "code",
   "execution_count": 43,
   "metadata": {},
   "outputs": [
    {
     "name": "stdout",
     "output_type": "stream",
     "text": [
      "Minimum: 0\n",
      "Maximum: 3\n"
     ]
    }
   ],
   "source": [
    "output_from_function = minmax_of_list([0, 1, 2, 3])\n",
    "minimum = output_from_function[0]\n",
    "print(\"Minimum: %i\" % minimum)\n",
    "\n",
    "maximum = output_from_function[1]\n",
    "print(\"Maximum: %i\" % maximum)"
   ]
  },
  {
   "cell_type": "markdown",
   "metadata": {},
   "source": [
    "Alternatively, we can already \"extract\" one value, let's say the maximum (index 1 of the tuple) right after calling the function, so we can skip dealing with the tuple altogether:"
   ]
  },
  {
   "cell_type": "code",
   "execution_count": 44,
   "metadata": {},
   "outputs": [
    {
     "name": "stdout",
     "output_type": "stream",
     "text": [
      "Maximum: 3\n"
     ]
    }
   ],
   "source": [
    "maximum = minmax_of_list([0, 1, 2, 3])[1]  # The [1] extracts the maximum from the output of the function immediately!\n",
    "print(\"Maximum: %i\" % maximum)"
   ]
  },
  {
   "cell_type": "markdown",
   "metadata": {},
   "source": [
    "Keep this feature of returning multiple things and tuple unpacking in mind for the rest of the course (you'll definitely encounter it more often!)."
   ]
  },
  {
   "cell_type": "markdown",
   "metadata": {},
   "source": [
    "#### Methods\n",
    "However, in Python, functions are not the only things that allow you to 'do' things with data. In others' code, you'll often see function-like expressions written with periods, like this: `some_variable.function()`. These `.function()` parts are called 'methods', which are like functions 'inherent' to a specific type of object. In other words, it is a function that is applied to the object it belongs to. \n",
    "\n",
    "Different type of objects in Python, such as stings and lists, have their own set of methods. For example, the function you defined above (`extract_last_element()`) also exists as a method each list has, called `pop()`! (This is a builtin, standard, method that each list in Python has.) See for yourself in the block below."
   ]
  },
  {
   "cell_type": "code",
   "execution_count": 45,
   "metadata": {},
   "outputs": [
    {
     "name": "stdout",
     "output_type": "stream",
     "text": [
      "15\n",
      "15\n",
      "15\n"
     ]
    }
   ],
   "source": [
    "my_list = [0, 5, 10, 15] \n",
    "print(my_list.pop())\n",
    "\n",
    "# You can also just do the following (i.e. no need to define a variable first!):\n",
    "print([0, 5, 10, 15].pop())\n",
    "\n",
    "# ... which is the same as:\n",
    "print(extract_last_element([0, 5, 10, 15]))"
   ]
  },
  {
   "cell_type": "markdown",
   "metadata": {},
   "source": [
    "Not only lists, but also other data-types (such as strings, dictionaries, and, as we'll see later, numpy arrays) have their own methods. How methods work exactly is not really important (this belongs to the topic of 'object-oriented programming'), but it is necessary to know **what** it does, as you'll see them a lot throughout this course. \n",
    "\n",
    "We'll show you a couple of (often-used) examples:"
   ]
  },
  {
   "cell_type": "code",
   "execution_count": 46,
   "metadata": {},
   "outputs": [
    {
     "name": "stdout",
     "output_type": "stream",
     "text": [
      "[0, 10, 15, 20]\n"
     ]
    }
   ],
   "source": [
    "# For lists, we have .append()\n",
    "x = [0, 10, 15]\n",
    "x.append(20) # Add a new element to the end of the list using the append() method!\n",
    "print(x)"
   ]
  },
  {
   "cell_type": "markdown",
   "metadata": {},
   "source": [
    "**Note**: sometimes, methods modify the object (above: `x`) *in-place*, which means that the method does not return anything, so you don't have to assign it to a new variable. If you accidentally do this, the new object's value is `None`, as you see below: "
   ]
  },
  {
   "cell_type": "code",
   "execution_count": 47,
   "metadata": {},
   "outputs": [
    {
     "name": "stdout",
     "output_type": "stream",
     "text": [
      "None\n"
     ]
    }
   ],
   "source": [
    "x = [0, 10, 15]\n",
    "x_new = x.append(20)\n",
    "print(x_new)"
   ]
  },
  {
   "cell_type": "markdown",
   "metadata": {},
   "source": [
    "Some often-used methods for dictionaries:"
   ]
  },
  {
   "cell_type": "code",
   "execution_count": 48,
   "metadata": {},
   "outputs": [
    {
     "name": "stdout",
     "output_type": "stream",
     "text": [
      "[0, 1, 2]\n",
      "['a', 'b', 'c']\n"
     ]
    }
   ],
   "source": [
    "my_dict = {'a': 0, 'b': 1, 'c': 2}\n",
    "\n",
    "# The .values() method returns all the values of the dictionary \n",
    "print(list(my_dict.values()))\n",
    "\n",
    "# And the .keys() method returns all the keys of the dictionary\n",
    "print(list(my_dict.keys()))"
   ]
  },
  {
   "cell_type": "markdown",
   "metadata": {},
   "source": [
    "**Note**: these dictionary-methods actually *do* return values! "
   ]
  },
  {
   "cell_type": "markdown",
   "metadata": {},
   "source": [
    "Some often-used methods for strings:"
   ]
  },
  {
   "cell_type": "code",
   "execution_count": 49,
   "metadata": {},
   "outputs": [
    {
     "name": "stdout",
     "output_type": "stream",
     "text": [
      "NEUROIMAGING IS FUN!\n",
      "3\n",
      "neuroimaging is awesome!\n",
      "['neuroimaging', 'is', 'fun!']\n"
     ]
    }
   ],
   "source": [
    "my_string = 'neuroimaging is fun!'\n",
    "\n",
    "# The .upper() method returns the string in uppercase!\n",
    "print(my_string.upper())\n",
    "\n",
    "# The .count(substring) method returns the number of times a substring occurs in a string\n",
    "print(my_string.count('n'))\n",
    "\n",
    "# The .replace(old, new) method replaces substrings\n",
    "print(my_string.replace('fun', 'awesome'))\n",
    "\n",
    "# The .split(separator) splits a string into subparts (returned as a list)\n",
    "print(my_string.split(' '))  # split by whitespace"
   ]
  },
  {
   "cell_type": "markdown",
   "metadata": {},
   "source": [
    "#### Default arguments in functions/methods\n",
    "Importantly, and unlike most (scientific) programming languages, Python supports the use of 'default' arguments in functions. Basically, if you don't specify an optional argument, it uses the default:"
   ]
  },
  {
   "cell_type": "code",
   "execution_count": 50,
   "metadata": {},
   "outputs": [
    {
     "name": "stdout",
     "output_type": "stream",
     "text": [
      "4\n",
      "1024\n",
      "1024\n"
     ]
    }
   ],
   "source": [
    "def exponentiate_number(number, power=2):\n",
    "    return number ** power\n",
    "\n",
    "print(exponentiate_number(2)) # now it uses the default!\n",
    "print(exponentiate_number(2, 10)) # now it \"overwrites\" the default and uses power=10\n",
    "print(exponentiate_number(number=2, power=10)) # also note that you can 'name' arguments "
   ]
  },
  {
   "cell_type": "markdown",
   "metadata": {},
   "source": [
    "### 2.4 If-statements\n",
    "If-elif-else statements in Python are quite straightforward. An example:"
   ]
  },
  {
   "cell_type": "code",
   "execution_count": 51,
   "metadata": {},
   "outputs": [
    {
     "name": "stdout",
     "output_type": "stream",
     "text": [
      "x is larger than 0\n"
     ]
    }
   ],
   "source": [
    "x = 5\n",
    "\n",
    "if x > 0:\n",
    "    print('x is larger than 0')\n",
    "elif x < 0:\n",
    "    print('x is smaller than 0')\n",
    "else:\n",
    "    print('x must be exactly 0!')"
   ]
  },
  {
   "cell_type": "markdown",
   "metadata": {},
   "source": [
    "If-statements contain at least an `if` keyword, but optionally also one or more `elif` (\"else if\") statements and an optional `else` statement. We'll practice this (in a `ToDo`) after the section on Loops."
   ]
  },
  {
   "cell_type": "markdown",
   "metadata": {},
   "source": [
    "### 2.4 Loops\n",
    "Loops in Python (for- and while-loops) are largely similar to MATLAB and R loops, with some minor differences in  their syntax:"
   ]
  },
  {
   "cell_type": "code",
   "execution_count": 52,
   "metadata": {},
   "outputs": [
    {
     "name": "stdout",
     "output_type": "stream",
     "text": [
      "cat\n",
      "dog\n",
      "monkey\n"
     ]
    }
   ],
   "source": [
    "animals = ['cat', 'dog', 'monkey']\n",
    "for animal in animals:\n",
    "    print(animal)"
   ]
  },
  {
   "cell_type": "markdown",
   "metadata": {},
   "source": [
    "Basically, each data type that is also an \"iterable\" (something that you can iterate over) can be used in loops, including lists, dictionaries, and tuples."
   ]
  },
  {
   "cell_type": "code",
   "execution_count": 53,
   "metadata": {},
   "outputs": [
    {
     "name": "stdout",
     "output_type": "stream",
     "text": [
      "1\n",
      "2\n",
      "3\n"
     ]
    }
   ],
   "source": [
    "# An example of looping over a list\n",
    "my_list = [1, 2, 3]\n",
    "for x in my_list:\n",
    "    print(x)"
   ]
  },
  {
   "cell_type": "markdown",
   "metadata": {},
   "source": [
    "MATLAB users might be used to looping over indices instead of the actual list values, like the following:\n",
    "\n",
    "```\n",
    "for i=1:100\n",
    "    disp(some_list(i));\n",
    "end```\n",
    "\n",
    "In Python, however, you loop (by default) over the contents of a list:\n",
    "\n",
    "```\n",
    "for entry in some_list:\n",
    "    print(entry)\n",
    "```\n",
    "    \n",
    "If you want to access for the value **AND** the index, you can use the built-in `enumerate` function:"
   ]
  },
  {
   "cell_type": "code",
   "execution_count": 54,
   "metadata": {},
   "outputs": [
    {
     "name": "stdout",
     "output_type": "stream",
     "text": [
      "Loop iteration number (index) = 0, value = a\n",
      "Loop iteration number (index) = 1, value = b\n",
      "Loop iteration number (index) = 2, value = c\n"
     ]
    }
   ],
   "source": [
    "my_list = ['a', 'b', 'c']\n",
    "for index, value in enumerate(my_list):\n",
    "    \n",
    "    print('Loop iteration number (index) = %i, value = %s' % (index, value))\n",
    "\n",
    "# Don't forget that Python indexing starts at zero!"
   ]
  },
  {
   "cell_type": "code",
   "execution_count": 55,
   "metadata": {},
   "outputs": [
    {
     "name": "stdout",
     "output_type": "stream",
     "text": [
      "1\n",
      "2\n",
      "3\n"
     ]
    }
   ],
   "source": [
    "# Looping over a tuple (exactly the same as looping over a list)\n",
    "my_tuple = (1, 2, 3)\n",
    "for x in my_tuple:\n",
    "    print(x)"
   ]
  },
  {
   "cell_type": "code",
   "execution_count": 56,
   "metadata": {},
   "outputs": [
    {
     "name": "stdout",
     "output_type": "stream",
     "text": [
      "a\n",
      "b\n",
      "c\n"
     ]
    }
   ],
   "source": [
    "# Iterating over a dictionary can be done in a couple of ways!\n",
    "my_dict = {'a': 1, 'b': 2, 'c': 3}\n",
    "\n",
    "# Looping over the keys ONLY\n",
    "for key in my_dict:\n",
    "    print(key)"
   ]
  },
  {
   "cell_type": "code",
   "execution_count": 59,
   "metadata": {},
   "outputs": [
    {
     "name": "stdout",
     "output_type": "stream",
     "text": [
      "a 1\n",
      "b 2\n",
      "c 3\n"
     ]
    }
   ],
   "source": [
    "# Looping over both the keys and the entries\n",
    "for key, entry in my_dict.items():\n",
    "    print(key, entry)"
   ]
  },
  {
   "cell_type": "markdown",
   "metadata": {},
   "source": [
    "<div class='alert alert-warning'>\n",
    "<b>ToDo</b> (2 points) \n",
    "</div>\n",
    "Complete the function below - named `extract_values_smaller_than_0` - that takes a single list with numbers as input and returns a new list with *only the values smaller than 0* from the input-list. For example, suppose our input-list is:\n",
    "\n",
    "```\n",
    "[2, -5.3, 1.8, 0.0, -205.1, 6029]\n",
    "```\n",
    "\n",
    "... the function should return:\n",
    "\n",
    "```\n",
    "[-5.3, -205.1]\n",
    "```\n",
    "\n",
    "Hint: use an if-statement in combination with the `.append()` method of the empty list we initialized below (`list_to_return`) to fill the `list_to_return` variable in a for-loop. In other words, the function should contain an if-statement in a for-loop (in which you need to use the `.append()` method)."
   ]
  },
  {
   "cell_type": "code",
   "execution_count": 67,
   "metadata": {
    "nbgrader": {
     "grade": false,
     "grade_id": "cell-12b8cc33efcf2857",
     "locked": false,
     "schema_version": 1,
     "solution": true
    }
   },
   "outputs": [],
   "source": [
    "# Complete the function below (make sure to remove raise NotImplementedError!)\n",
    "def extract_values_smaller_than_0(input_list):\n",
    "    \n",
    "    # We initialize an empty list here (which you need to fill using a for-loop)\n",
    "    list_to_return = []\n",
    "    \n",
    "    for i in input_list:\n",
    "        if i < 0:\n",
    "            list_to_return.append(i)\n",
    "        else :\n",
    "            list_to_return\n",
    "        \n",
    "    # your solution here\n",
    "\n",
    "    \n",
    "    return list_to_return"
   ]
  },
  {
   "cell_type": "code",
   "execution_count": 68,
   "metadata": {
    "nbgrader": {
     "grade": true,
     "grade_id": "cell-edbdf3424641ffb9",
     "locked": true,
     "points": 2,
     "schema_version": 1,
     "solution": false
    }
   },
   "outputs": [
    {
     "name": "stdout",
     "output_type": "stream",
     "text": [
      "Well done!\n"
     ]
    }
   ],
   "source": [
    "''' Tests the ToDo above. '''\n",
    "inp = [-5, 2, 3, -8]\n",
    "outp = extract_values_smaller_than_0(inp)\n",
    "ans = [-5, -8]\n",
    "try:\n",
    "    assert(outp == ans)\n",
    "except AssertionError as e:\n",
    "    print(\"Your function  with input '%r' returned '%r', but I expected '%r'\" % (inp, outp, ans))\n",
    "    raise(e)\n",
    "    \n",
    "inp = [0, 2, -3]\n",
    "outp = extract_values_smaller_than_0(inp)\n",
    "ans = [-3]\n",
    "try:\n",
    "    assert(outp == ans)\n",
    "except AssertionError as e:\n",
    "    print(\"Your function  with input '%r' returned '%r', but I expected '%r'\" % (inp, outp, ans))\n",
    "    raise(e)\n",
    "\n",
    "inp = [0, 0, 0]\n",
    "outp = extract_values_smaller_than_0(inp)\n",
    "ans = []\n",
    "try:\n",
    "    assert(outp == ans)\n",
    "except AssertionError as e:\n",
    "    print(\"Your function  with input '%r' returned '%r', but I expected '%r'\" % (inp, outp, ans))\n",
    "    raise(e)\n",
    "\n",
    "print(\"Well done!\")"
   ]
  },
  {
   "cell_type": "markdown",
   "metadata": {},
   "source": [
    "#### Advanced loops: list comprehensions\n",
    "Sometimes, writing (and reading!) for-loops can be confusing and lead to \"ugly\" code. Wouldn't it be nice to represent (small) for-loops on a single line? Python has a way to do this: using what is called `list comprehensions`. It does exactly the same thing as a for-loop: it takes a list, iterates over its entries (and does something with each entry), and (optionally) returns a (modified) list. \n",
    "\n",
    "Let's look at an arbitrary example of a for-loop over a list:"
   ]
  },
  {
   "cell_type": "code",
   "execution_count": 69,
   "metadata": {},
   "outputs": [
    {
     "name": "stdout",
     "output_type": "stream",
     "text": [
      "[0, 1, 4, 9, 16]\n"
     ]
    }
   ],
   "source": [
    "nums = [0, 1, 2, 3, 4]\n",
    "\n",
    "# Also, check out the way 'enumerate' is used here!\n",
    "for index, x in enumerate(nums):\n",
    "    nums[index] = x ** 2\n",
    "\n",
    "print(nums)"
   ]
  },
  {
   "cell_type": "markdown",
   "metadata": {},
   "source": [
    "You can make this code simpler using a list comprehension:"
   ]
  },
  {
   "cell_type": "code",
   "execution_count": 70,
   "metadata": {},
   "outputs": [
    {
     "name": "stdout",
     "output_type": "stream",
     "text": [
      "[0, 1, 4, 9, 16]\n"
     ]
    }
   ],
   "source": [
    "nums = [0, 1, 2, 3, 4]\n",
    "squares = [x ** 2 for x in nums] # importantly, a list comprehension always returns a (modified) list!\n",
    "print(squares)"
   ]
  },
  {
   "cell_type": "markdown",
   "metadata": {},
   "source": [
    "Also, list comprehensions may contain if-statements!"
   ]
  },
  {
   "cell_type": "code",
   "execution_count": 115,
   "metadata": {},
   "outputs": [
    {
     "name": "stdout",
     "output_type": "stream",
     "text": [
      "['no', 'yes', 'yes']\n"
     ]
    }
   ],
   "source": [
    "string_nums = ['one', 'two', 'three']\n",
    "starts_with_t = ['yes' if s[0] == 't' else 'no' for i, s in enumerate(string_nums)]\n",
    "print(starts_with_t)"
   ]
  },
  {
   "cell_type": "markdown",
   "metadata": {},
   "source": [
    "<div class='alert alert-warning'>\n",
    "<b>ToDo</b> (0 points; optional)\n",
    "</div>\n",
    "Write a list comprehension that adds the string '\\_check' to each value in the list `my_list` below, except if the value is 'B'. (This is an optional ToDo to practice list comprehensions.)"
   ]
  },
  {
   "cell_type": "code",
   "execution_count": 113,
   "metadata": {},
   "outputs": [],
   "source": [
    "my_list = ['A', 'B', 'C', 'D']\n",
    "# Implement your list comprehension here!\n",
    "no_honey = [my_list[i] if letter == 'B' else my_list[i] +'_check' for i, letter in enumerate(my_list)]\n"
   ]
  },
  {
   "cell_type": "code",
   "execution_count": 111,
   "metadata": {},
   "outputs": [
    {
     "name": "stdout",
     "output_type": "stream",
     "text": [
      "['Acheck', 'B', 'Ccheck', 'Dcheck']\n"
     ]
    }
   ],
   "source": [
    "print(no_honey)"
   ]
  },
  {
   "cell_type": "markdown",
   "metadata": {},
   "source": [
    "List comprehensions are somewhat of a more advanced Python concept, so if you don't feel comfortable using them (correctly) in your future assignments, use regular for-loops by all means! In the upcoming tutorials, though, we'll definitely use them, so make sure you understand what they do!"
   ]
  },
  {
   "cell_type": "markdown",
   "metadata": {},
   "source": [
    "## 2. Numpy\n",
    "This section is about Numpy, Python's core library for numeric computing. While the syntax of basic Python (as we've gone over in the previous section) is important to do neuroimaging analysis in Python, knowing numpy is **essential**. Basicially, Numpy is the go-to package whenever you want to do (anything related to) data analysis in Python. Make sure you understand what is going on in this section, as the rest of the course will feature a lot of Numpy-code!\n",
    "\n",
    "The most important feature of Numpy is it's core data structure: the numpy *ndarray* (which stands for *n*-dimensional array, referring to the fact that the array may be of any dimension: 1D, 2D, 3D, 180D ... *n*D). This is, just like basic lists/dictionaries/integers/tuples, a data structure with its own syntax, operations, and methods, as we will explain below."
   ]
  },
  {
   "cell_type": "markdown",
   "metadata": {},
   "source": [
    "### Python lists vs. numpy arrays\n",
    "Basically, numpy arrays are a lot like Python lists. The major difference, however, is that **numpy arrays may contain only a single data-type**, while Python lists may contain different data-types within the same list.\n",
    "\n",
    "Let check this out:"
   ]
  },
  {
   "cell_type": "code",
   "execution_count": 116,
   "metadata": {},
   "outputs": [
    {
     "name": "stdout",
     "output_type": "stream",
     "text": [
      "1 is a: <class 'int'>\n",
      "2.5 is a: <class 'float'>\n",
      "whatever is a: <class 'str'>\n",
      "[3, 4, 5] is a: <class 'list'>\n"
     ]
    }
   ],
   "source": [
    "# Python lists may contain mixed data-types: an integer, a float, a string, a list\n",
    "python_list = [1, 2.5, \"whatever\", [3, 4, 5]] \n",
    "\n",
    "for value in python_list:\n",
    "    \n",
    "    print(\"%s is a: %s\" % (str(value), type(value)))"
   ]
  },
  {
   "cell_type": "markdown",
   "metadata": {},
   "source": [
    "Unlike Python lists, numpy only allows entries of the same data-type. This difference between Python lists and numpy arrays is basically the same as R lists (allow multiple data-types) versus R matrices/arrays (only allow one data type), and is also the same as MATLAB cells (allow multiple data-types) versus MATLAB matrices (only allow one data type).\n",
    "\n",
    "In fact, if you try to make a numpy array with different data-types, numpy will force the entries into the same data-type (in a smart way), as is shown in the example below:"
   ]
  },
  {
   "cell_type": "code",
   "execution_count": 118,
   "metadata": {},
   "outputs": [],
   "source": [
    "import numpy as np"
   ]
  },
  {
   "cell_type": "code",
   "execution_count": 119,
   "metadata": {},
   "outputs": [
    {
     "name": "stdout",
     "output_type": "stream",
     "text": [
      "1.0\n",
      "this is a: <class 'numpy.float64'> \n",
      "\n",
      "2.0\n",
      "this is a: <class 'numpy.float64'> \n",
      "\n",
      "3.5\n",
      "this is a: <class 'numpy.float64'> \n",
      "\n"
     ]
    }
   ],
   "source": [
    "# Importantly, you often specify your arrays as Python lists first, and then convert them to numpy\n",
    "to_convert_to_numpy = [1, 2, 3.5]               # specify python list ...\n",
    "numpy_array = np.array(to_convert_to_numpy)     # ... and convert ('cast') it to numpy\n",
    "\n",
    "for entry in numpy_array:\n",
    "    \n",
    "    print(entry)\n",
    "    print('this is a: %s \\n' % type(entry))"
   ]
  },
  {
   "cell_type": "markdown",
   "metadata": {},
   "source": [
    "As you can see, Numpy converted our original list (to_convert_to_numpy), which contained both integers and floats, to an array with only floats! You might think that such a data structure that only allows one single data type is not ideal. However, the very fact that it only contains a single data-type makes operations on numpy arrays extremely fast. For example, loops over numpy arrays are often way faster than loops over python lists. This is because, internally, Python has to check the data-type of each loop entry before doing something with that entry. Because numpy arrays one allow a single data-type, it only has to check for the entries' data type **once**. If you imagine looping over an array or list of length 100,000, you probably understand that the numpy loop is way faster.\n",
    "\n",
    "Let's check out the speed difference between Python list operations and numpy array operations:"
   ]
  },
  {
   "cell_type": "code",
   "execution_count": 120,
   "metadata": {},
   "outputs": [
    {
     "name": "stdout",
     "output_type": "stream",
     "text": [
      "6.71 ms ± 363 µs per loop (mean ± std. dev. of 7 runs, 100 loops each)\n"
     ]
    }
   ],
   "source": [
    "# timeit is a cool 'feature' that you can use in Notebooks (no need to understand how it works)\n",
    "# it basically performs a computation that you specify a couple of times and prints how long it took on average\n",
    "results_python = %timeit -o [x * 2 for x in range(0, 100000)] "
   ]
  },
  {
   "cell_type": "markdown",
   "metadata": {},
   "source": [
    "And now let's do the same with numpy:"
   ]
  },
  {
   "cell_type": "code",
   "execution_count": 121,
   "metadata": {},
   "outputs": [
    {
     "name": "stdout",
     "output_type": "stream",
     "text": [
      "8.91 µs ± 111 ns per loop (mean ± std. dev. of 7 runs, 100000 loops each)\n",
      "Numpy is 752 times faster than Python!\n"
     ]
    }
   ],
   "source": [
    "results_numpy = %timeit -o np.arange(0, 10000) * 2 \n",
    "\n",
    "ratio = results_python.average / results_numpy.average\n",
    "print(\"Numpy is %i times faster than Python!\" % ratio)"
   ]
  },
  {
   "cell_type": "markdown",
   "metadata": {},
   "source": [
    "You see that Numpy 10 times as fast! This really matters when you start doing more complex operations, on, let's say, multidimensional brain images!"
   ]
  },
  {
   "cell_type": "markdown",
   "metadata": {},
   "source": [
    "### Numpy arrays: creation\n",
    "As shown an earlier example, numpy arrays can be created as follows:\n",
    "\n",
    "1. Define a Python list (e.g. `my_list = [0, 1, 2]`) \n",
    "2. Convert the list to a numpy array (`numpy_array = np.array(my_list)`)\n",
    "\n",
    "Importantly, a simple Python list will be converted to a 1D numpy array, but a nested Python list will be converted to a 2D (or even higher-dimensional array). Nesting is simply combining different lists, separated by commans, as is shown here:"
   ]
  },
  {
   "cell_type": "code",
   "execution_count": 122,
   "metadata": {},
   "outputs": [
    {
     "name": "stdout",
     "output_type": "stream",
     "text": [
      "A 1D (or 'flat') array:\n",
      "[1 2 3] \n",
      "\n",
      "A 2D array:\n",
      "[[1 2 3]\n",
      " [4 5 6]\n",
      " [7 8 9]]\n"
     ]
    }
   ],
   "source": [
    "my_list = [1, 2, 3]\n",
    "my_array = np.array(my_list)\n",
    "\n",
    "print(\"A 1D (or 'flat') array:\")\n",
    "print(my_array, '\\n')\n",
    "\n",
    "my_nested_list = [[1, 2, 3],\n",
    "                  [4, 5, 6],\n",
    "                  [7, 8, 9]]\n",
    "\n",
    "my_2D_array = np.array(my_nested_list)\n",
    "print(\"A 2D array:\")\n",
    "print(my_2D_array)"
   ]
  },
  {
   "cell_type": "markdown",
   "metadata": {},
   "source": [
    "As you can imagine, creating numpy arrays from nested lists becomes cumbersome if you want to create (large) arrays with more than 2 dimensions. There are, fortunately, a lot of other ways to create ('initialize') large, high-dimensional numpy arrays. One often-used method is to create an array with zeros using the numpy function `np.zeros`. This function takes one (mandatory) argument, which is a tuple with the dimensions of your desired array:"
   ]
  },
  {
   "cell_type": "code",
   "execution_count": 123,
   "metadata": {},
   "outputs": [
    {
     "name": "stdout",
     "output_type": "stream",
     "text": [
      "[[0. 0. 0. 0. 0.]\n",
      " [0. 0. 0. 0. 0.]]\n"
     ]
    }
   ],
   "source": [
    "my_desired_dimensions = (2, 5) # suppose I want to create a matrix with zeros of size 2 by 5\n",
    "my_array = np.zeros(my_desired_dimensions)\n",
    "\n",
    "print(my_array)"
   ]
  },
  {
   "cell_type": "markdown",
   "metadata": {},
   "source": [
    "<div class='alert alert-warning'>\n",
    "<b>ToDo</b> (1 point)\n",
    "</div>\n",
    "using the `np.zeros` function, create a five dimensional array of shape $2 \\times 3 \\times 5 \\times 3 \\times 7$ and store it in a variable named `array_5d`."
   ]
  },
  {
   "cell_type": "code",
   "execution_count": 142,
   "metadata": {
    "nbgrader": {
     "grade": false,
     "grade_id": "cell-ef19f7db953eecc1",
     "locked": false,
     "schema_version": 1,
     "solution": true
    }
   },
   "outputs": [],
   "source": [
    "# Implement your ToDo here\n",
    "\n",
    "# your solution here\n",
    "my_desired_dimensions = (2,3,5,3,7)\n",
    "array_5d = np.zeros(my_desired_dimensions)\n"
   ]
  },
  {
   "cell_type": "code",
   "execution_count": 143,
   "metadata": {
    "nbgrader": {
     "grade": true,
     "grade_id": "cell-1be0380d2ed4df4f",
     "locked": true,
     "points": 1,
     "schema_version": 1,
     "solution": false
    }
   },
   "outputs": [
    {
     "name": "stdout",
     "output_type": "stream",
     "text": [
      "Well done!\n"
     ]
    }
   ],
   "source": [
    "''' Tests the above ToDo. '''\n",
    "available_vars = dir()\n",
    "if 'array_5d' not in available_vars:\n",
    "    raise ValueError(\"You didn't define the variable 'array_5d'!\")\n",
    "\n",
    "test_create_array_with_zeros(array_5d)"
   ]
  },
  {
   "cell_type": "markdown",
   "metadata": {},
   "source": [
    "Using arrays with zeros is often used in what is called 'pre-allocation', in which you create an 'empty' array with only zeros and for example, 'fill' that array in a loop.\n",
    "\n",
    "Below, we show you an example in which we pre-allocate an array with 5 zeros, and fill that in a for-loop with the squares of 1 - 5. Try to understand how it works! (You have to do something similar in the next ToDo!)"
   ]
  },
  {
   "cell_type": "code",
   "execution_count": 144,
   "metadata": {},
   "outputs": [
    {
     "name": "stdout",
     "output_type": "stream",
     "text": [
      "Original zeros-array\n",
      "[0. 0. 0. 0. 0.]\n",
      "\n",
      "Filled array\n",
      "[ 1.  4.  9. 16. 25.]\n"
     ]
    }
   ],
   "source": [
    "my_array = np.zeros(5)\n",
    "\n",
    "print('Original zeros-array')\n",
    "print(my_array)\n",
    "\n",
    "for i in range(5):  # notice the range function here! This loop now iterates over [0, 1, 2, 3, 4]\n",
    "    number_to_calculate_the_square_of = i + 1\n",
    "    my_array[i] = number_to_calculate_the_square_of ** 2\n",
    "\n",
    "print('\\nFilled array')\n",
    "print(my_array)"
   ]
  },
  {
   "cell_type": "markdown",
   "metadata": {},
   "source": [
    "**Important**: realize that loops (not shown above), if-statements and other boolean logic is the same for numpy and python!"
   ]
  },
  {
   "cell_type": "markdown",
   "metadata": {},
   "source": [
    "<div class='alert alert-warning'>\n",
    "<b>ToDo</b> (2 points)\n",
    "</div>\n",
    "Write a loop in which you fill each value in the variable `my_array2` with the value 1 divided by the current index plus one. So, suppose the index (usually `i`, like the last example) is 3, then you should fill `my_array2` at index `i` with `1 / (3 + 1)`."
   ]
  },
  {
   "cell_type": "code",
   "execution_count": 145,
   "metadata": {
    "nbgrader": {
     "grade": false,
     "grade_id": "cell-83008cc6c353713c",
     "locked": false,
     "schema_version": 1,
     "solution": true
    }
   },
   "outputs": [
    {
     "name": "stdout",
     "output_type": "stream",
     "text": [
      "[1.         0.5        0.33333333 0.25       0.2        0.16666667\n",
      " 0.14285714 0.125     ]\n"
     ]
    }
   ],
   "source": [
    "import numpy as np\n",
    "my_array2 = np.zeros(8)\n",
    "\n",
    "# your solution here\n",
    "for i in range(8):\n",
    "    calculated_number = 1/(i+1)\n",
    "    my_array2[i] = calculated_number\n",
    "print(my_array2)"
   ]
  },
  {
   "cell_type": "code",
   "execution_count": 148,
   "metadata": {
    "nbgrader": {
     "grade": true,
     "grade_id": "cell-f4f2daf173abb269",
     "locked": true,
     "points": 2,
     "schema_version": 1,
     "solution": false
    }
   },
   "outputs": [
    {
     "name": "stdout",
     "output_type": "stream",
     "text": [
      "Well done!\n"
     ]
    }
   ],
   "source": [
    "''' Tests the above ToDo. '''\n",
    "available_vars = dir()\n",
    "if 'my_array2' not in available_vars:\n",
    "    raise ValueError(\"The variable my_array2 does not exist!\")\n",
    "    \n",
    "test_fill_array_with_complement(my_array2)"
   ]
  },
  {
   "cell_type": "markdown",
   "metadata": {},
   "source": [
    "In addition to `np.zeros`, you can create numpy arrays using other functions, like `np.ones` and `random` from the `np.random` module:"
   ]
  },
  {
   "cell_type": "code",
   "execution_count": 149,
   "metadata": {},
   "outputs": [
    {
     "name": "stdout",
     "output_type": "stream",
     "text": [
      "[[1. 1. 1. 1. 1. 1. 1. 1. 1. 1.]\n",
      " [1. 1. 1. 1. 1. 1. 1. 1. 1. 1.]\n",
      " [1. 1. 1. 1. 1. 1. 1. 1. 1. 1.]\n",
      " [1. 1. 1. 1. 1. 1. 1. 1. 1. 1.]\n",
      " [1. 1. 1. 1. 1. 1. 1. 1. 1. 1.]] \n",
      "\n",
      "[[0.13941169 0.13308947 0.29388446 0.32107877 0.09717356 0.55631868\n",
      "  0.38114381 0.10429724 0.58324167 0.54072761]\n",
      " [0.5248571  0.6558975  0.55004709 0.46647125 0.07975501 0.28300572\n",
      "  0.28050185 0.36977873 0.74929261 0.10866135]\n",
      " [0.01584988 0.09561434 0.57394659 0.97699562 0.9595285  0.99922384\n",
      "  0.03640863 0.83312353 0.3029483  0.53031664]\n",
      " [0.46120942 0.98633881 0.96516923 0.10360201 0.9566627  0.1997417\n",
      "  0.94142213 0.27852757 0.16364468 0.99803455]\n",
      " [0.6671468  0.98212725 0.18559283 0.78061942 0.23600554 0.63135239\n",
      "  0.88336343 0.5798599  0.64257392 0.07835227]]\n"
     ]
    }
   ],
   "source": [
    "ones = np.ones((5, 10)) # create an array with ones\n",
    "print(ones, '\\n')\n",
    "\n",
    "rndom = np.random.random((5, 10)) # Create an array filled with random values (0 - 1 uniform)\n",
    "print(rndom)"
   ]
  },
  {
   "cell_type": "markdown",
   "metadata": {},
   "source": [
    "### Numpy: indexing\n",
    "Indexing (extracting a single value of an array) and slicing (extracting multiple values - a subset - from an array) of numpy arrays is largely the same as with regular Python lists and data structures from other scientific computing languages such as R and MATLAB. Let's check out a couple of examples of a 1D array:"
   ]
  },
  {
   "cell_type": "code",
   "execution_count": 153,
   "metadata": {},
   "outputs": [
    {
     "name": "stdout",
     "output_type": "stream",
     "text": [
      "Full array:\n",
      "[10 11 12 13 14 15 16 17 18 19 20] \n",
      "\n",
      "Index the first element:\n",
      "10 \n",
      "\n",
      "Index the second-to-last element:\n",
      "19 \n",
      "\n",
      "Slice from 5 until (not including!) 8\n",
      "[15 16 17] \n",
      "\n",
      "Slice from beginning until 4\n",
      "[10 11 12 13]\n"
     ]
    }
   ],
   "source": [
    "my_array = np.arange(10, 21)  # numpy equivalent of list(range(10, 21))\n",
    "print('Full array:')\n",
    "print(my_array, '\\n') \n",
    "\n",
    "print(\"Index the first element:\")\n",
    "print(my_array[0], '\\n')\n",
    "\n",
    "print(\"Index the second-to-last element:\")\n",
    "print(my_array[-2], '\\n')\n",
    "\n",
    "print(\"Slice from 5 until (not including!) 8\")\n",
    "print(my_array[5:8], '\\n') \n",
    "\n",
    "print(\"Slice from beginning until 4\")\n",
    "print(my_array[:4])"
   ]
  },
  {
   "cell_type": "markdown",
   "metadata": {},
   "source": [
    "Setting values in numpy arrays works the same way as lists:"
   ]
  },
  {
   "cell_type": "code",
   "execution_count": 155,
   "metadata": {},
   "outputs": [
    {
     "name": "stdout",
     "output_type": "stream",
     "text": [
      "[10000    11    12    13    14    15    16    17    18    19    20]\n",
      "[10000    11    12    13    14     0     0    17    18    19    20]\n"
     ]
    }
   ],
   "source": [
    "my_array = np.arange(10, 21)\n",
    "my_array[0] = 10000\n",
    "print(my_array)\n",
    "\n",
    "my_array[5:7] = 0\n",
    "print(my_array)"
   ]
  },
  {
   "cell_type": "markdown",
   "metadata": {},
   "source": [
    "<div class='alert alert-warning'>\n",
    "<b>ToDo</b> (1 point)\n",
    "</div>\n",
    "In the array `my_array` below, set all odd indices (i.e., the first element, the third element, the fifth element, etc.) to the value `0.0` *in a single statement using a slice* (i.e., not a for-loop)."
   ]
  },
  {
   "cell_type": "code",
   "execution_count": 163,
   "metadata": {
    "nbgrader": {
     "grade": false,
     "grade_id": "cell-586a858efcdccc4a",
     "locked": false,
     "schema_version": 1,
     "solution": true
    }
   },
   "outputs": [
    {
     "name": "stdout",
     "output_type": "stream",
     "text": [
      "[ 3  4  5  6  7  8  9 10 11 12 13 14 15 16 17 18 19 20 21 22 23 24]\n",
      "[ 3  0  5  0  7  0  9  0 11  0 13  0 15  0 17  0 19  0 21  0 23  0]\n"
     ]
    }
   ],
   "source": [
    "# Implement the ToDo here\n",
    "my_array = np.arange(3, 25)\n",
    "print(my_array)\n",
    "\n",
    "# your solution here\n",
    "\n",
    "my_array[1::2] = 0.0\n",
    "print(my_array)"
   ]
  },
  {
   "cell_type": "code",
   "execution_count": 164,
   "metadata": {
    "nbgrader": {
     "grade": true,
     "grade_id": "cell-c21cc459312c74b3",
     "locked": true,
     "points": 1,
     "schema_version": 1,
     "solution": false
    }
   },
   "outputs": [
    {
     "name": "stdout",
     "output_type": "stream",
     "text": [
      "Well done!\n"
     ]
    }
   ],
   "source": [
    "''' Tests the above ToDo. '''\n",
    "test_set_odd_indices_to_zero(my_array)"
   ]
  },
  {
   "cell_type": "markdown",
   "metadata": {},
   "source": [
    "#### Multidimensional indexing\n",
    "Often, instead of working on and indexing 1D array, we'll work with multi-dimensional (>1D) arrays. Indexing multi-dimensional arrays is, again, quite similar to other scientific computing languages. \n",
    "\n",
    "Like indexing Python lists, indexing multidimensional numpy arrays is done with square brackets `[]`, in which you can put as many comma-delimited numbers as there are dimensions in your array. \n",
    "\n",
    "For example, suppose you have a 2D array of shape $3 \\times 3$ and you want to index the value in the first row and first column. You would do this as follows:"
   ]
  },
  {
   "cell_type": "code",
   "execution_count": 166,
   "metadata": {},
   "outputs": [
    {
     "name": "stdout",
     "output_type": "stream",
     "text": [
      "Value of first row and first column: 0.0\n"
     ]
    }
   ],
   "source": [
    "my_array = np.zeros((3, 3)) # 3 by 3 array with zeros\n",
    "indexed_value = my_array[0, 0]\n",
    "print(\"Value of first row and first column: %.1f\" % indexed_value)"
   ]
  },
  {
   "cell_type": "markdown",
   "metadata": {},
   "source": [
    "<div class='alert alert-warning'>\n",
    "<b>ToDo</b> (1 point)\n",
    "</div>\n",
    "Using multidimensional indexing, set the value in the last row and last column of the 2D array `my_array` to `1.0`. In other words, set the value in the lower-right \"corner\" of the 2D array to 1.0."
   ]
  },
  {
   "cell_type": "code",
   "execution_count": 168,
   "metadata": {
    "nbgrader": {
     "grade": false,
     "grade_id": "cell-6ab84bc4c9f46867",
     "locked": false,
     "schema_version": 1,
     "solution": true
    }
   },
   "outputs": [
    {
     "name": "stdout",
     "output_type": "stream",
     "text": [
      "[[0. 0. 0.]\n",
      " [0. 0. 0.]\n",
      " [0. 0. 0.]]\n",
      "[[0. 0. 0.]\n",
      " [0. 0. 0.]\n",
      " [0. 0. 1.]]\n"
     ]
    }
   ],
   "source": [
    "import numpy as np\n",
    "my_array = np.zeros((3, 3))\n",
    "\n",
    "print(my_array)\n",
    "\n",
    "my_array[-1,-1] = 1\n",
    "print(my_array)\n",
    "# ToDo: set the value in the lower right corner to 1\n",
    "\n",
    "# your solution here\n"
   ]
  },
  {
   "cell_type": "code",
   "execution_count": 169,
   "metadata": {
    "nbgrader": {
     "grade": true,
     "grade_id": "cell-8053ddb5715da50d",
     "locked": true,
     "points": 1,
     "schema_version": 1,
     "solution": false
    }
   },
   "outputs": [
    {
     "name": "stdout",
     "output_type": "stream",
     "text": [
      "Well done!\n"
     ]
    }
   ],
   "source": [
    "''' Tests the ToDo above. '''\n",
    "test_set_lower_right_value_to_one(my_array)"
   ]
  },
  {
   "cell_type": "markdown",
   "metadata": {},
   "source": [
    "In addition to setting specific slices to specific values, you can also extract sub-arrays using slicing/indexing. An important construct here is that you can use a single colon `:` to select all values from a particular dimension. For example, if you want to select all column-values (second dimension) from only the first row (first dimension), do this:\n",
    "\n",
    "```\n",
    "some_2d_arr[0, :]\n",
    "```\n",
    "\n",
    "We'll show you some examples below:"
   ]
  },
  {
   "cell_type": "code",
   "execution_count": 170,
   "metadata": {},
   "outputs": [
    {
     "name": "stdout",
     "output_type": "stream",
     "text": [
      "[[1 2 3]\n",
      " [4 5 6]\n",
      " [7 8 9]] \n",
      "\n",
      "First row\n",
      "[1 2 3] \n",
      "\n",
      "First column\n",
      "[1 4 7]\n"
     ]
    }
   ],
   "source": [
    "my_array = np.array([[1, 2, 3],\n",
    "                     [4, 5, 6],\n",
    "                     [7, 8, 9]])\n",
    "\n",
    "print(my_array, '\\n')\n",
    "\n",
    "all_column_values_from_first_row = my_array[0, :]\n",
    "print('First row')\n",
    "print(all_column_values_from_first_row, '\\n')\n",
    "\n",
    "all_row_values_from_first_col = my_array[:, 0]\n",
    "print('First column')\n",
    "print(all_row_values_from_first_col)"
   ]
  },
  {
   "cell_type": "markdown",
   "metadata": {},
   "source": [
    "So far, we only talked about 2D arrays, which are relatively easy to 'understand'. In neuroimaging, however, we usually work with 3D, 4D, or even higher-dimensional arrays. These arrays are great for organizing data (like 3D brain scans!), but they are somewhat unintuitive. This takes some time to get used to!\n",
    "\n",
    "To get you used to thinking in more than 2 (or 3) dimensions, consider the following scenario. A researcher wants to test the efficacy of a particular medicine against high blood pressure. To do so, he/she measures the (average systolic) blood pressure of a group of twenty subjects every hour for 30 days when they're not on the medication. The same subjects are then again measured for another 30 days, but then when they're on medication.\n",
    "\n",
    "After this period of data collection, the researcher has $20\\ (subjects)\\ \\times\\ 24\\ (hours)\\ \\times\\ 30\\ (days)\\ \\times\\ 2\\ (conditions: off/on) = 28800$ measurements! We can then organize the data in a 4D array, in which each factor (subjects/hours/days/conditions) represents a separate dimension (also called \"axis\") of our array!\n",
    "\n",
    "So, let's generate some random data (from a normal distribution to generate 'realistic' blood pressure data) that could represent this blood pressure dataset:"
   ]
  },
  {
   "cell_type": "code",
   "execution_count": 176,
   "metadata": {},
   "outputs": [],
   "source": [
    "np.random.seed(42)  # this is not important for now\n",
    "bp_data = np.random.normal(loc=100, scale=5, size=(20, 24, 30, 2))"
   ]
  },
  {
   "cell_type": "code",
   "execution_count": 175,
   "metadata": {},
   "outputs": [],
   "source": [
    "?np.random.normal "
   ]
  },
  {
   "cell_type": "markdown",
   "metadata": {},
   "source": [
    "(Note that we're not printing the `bp_data` variable here, because it's way too much to visualize/interpret at once anyway!)\n",
    "\n",
    "Now, suppose I would want to extract the blood pressure of subject 5 at 09.00 (AM) in the morning at day 21 when he/she was *not* on medication. In that case, I would do:"
   ]
  },
  {
   "cell_type": "code",
   "execution_count": 180,
   "metadata": {},
   "outputs": [
    {
     "name": "stdout",
     "output_type": "stream",
     "text": [
      "Blood pressure of participant 5 at 09.00 (AM) on day 21 in the no-medication (off) condition is 100.567\n",
      "100.56728020028277\n"
     ]
    }
   ],
   "source": [
    "# Note that I count midnight as the first measurement\n",
    "this_particular_datapoint = bp_data[4, 8, 20, 0]\n",
    "print(\"Blood pressure of participant 5 at 09.00 (AM) on day 21 in \"\n",
    "      \"the no-medication (off) condition is %.3f\" % this_particular_datapoint)\n",
    "\n",
    "# Also, remember that Python is zero-based, so e.g. participant 5 is indexed by index 4!\n",
    "\n",
    "print(this_particular_datapoint)"
   ]
  },
  {
   "cell_type": "markdown",
   "metadata": {},
   "source": [
    "Try to remember this: **in multidimensional arrays, each dimension (axis) represents a different attribute of your data (e.g. subjects, time, condition, etc.)**. This concept will become very important to understand later when we're going to analyze 4D MRI-datasets (with 3 spatial dimensions and 1 time dimension)!"
   ]
  },
  {
   "cell_type": "markdown",
   "metadata": {},
   "source": [
    "<div class='alert alert-warning'>\n",
    "<b>ToDo</b> (1 point)\n",
    "</div>\n",
    "Consider the blood-pressure dataset again. In the code-cell below, extract from all participants all data from day 18 in the medication (\"on\") condition. You'll have to use slices with the single `:`! Store the results of your index-operation in the variable `day_18_condition_on`."
   ]
  },
  {
   "cell_type": "code",
   "execution_count": 182,
   "metadata": {
    "nbgrader": {
     "grade": false,
     "grade_id": "cell-3a374e09098c2611",
     "locked": false,
     "schema_version": 1,
     "solution": true
    }
   },
   "outputs": [
    {
     "name": "stdout",
     "output_type": "stream",
     "text": [
      "[[ 93.89578175  92.68242526  96.42824291 103.7948461  102.31051737\n",
      "   99.26471309  97.65412174  96.03563584 103.77695613  88.94432345\n",
      "   91.72571664  98.4522678  113.16191032  92.57219813 108.97278932\n",
      "   97.48972888  98.59449854  96.64188316 101.82480501  98.59662462\n",
      "  108.19558403  99.50555173  87.04478854 104.63920064]\n",
      " [103.24140217  92.02648466  94.95134648  98.52299295  99.54733359\n",
      "   93.39988744 101.80751763  98.14994485 106.87219047  99.03086931\n",
      "   98.41963572  97.13199114  96.69008911 101.81815941 102.10793305\n",
      "  107.24249615  98.15236536 104.06602593 102.67314543 103.34170244\n",
      "   90.18687154  97.34514551  95.75785683  97.43401818]\n",
      " [109.24304417 100.52876896 102.2343625  106.39732466  91.84362092\n",
      "  108.90899454 106.77721401  93.28936126  93.07006029 110.26486012\n",
      "  102.37715341 101.43477927 101.33409198  98.42456634  90.15538429\n",
      "   91.03446774 105.95949667 101.94156003 100.14228791 101.03180886\n",
      "   98.13662208 102.45752824  94.10270168  92.36416072]\n",
      " [103.57936372 103.04452678 102.57031276  96.81206229 100.79044613\n",
      "  110.77464339  99.81053459 103.91314913 100.46489623  99.95077596\n",
      "   93.05350635  97.44118221 100.50395536 100.2511385   97.85672737\n",
      "   94.33084822  98.69845479 103.69837734  96.93508364  93.6215867\n",
      "   92.74536054  87.23225202 100.10053233  98.59437258]\n",
      " [ 99.46902955  91.0089263   95.53242454  96.80707087 100.34668581\n",
      "  103.69118615 102.24242727  91.79309942 100.42263492 100.42047194\n",
      "  104.04632349  94.97854718  96.481448   105.78003335  98.03194209\n",
      "   94.60233574  88.07547246 100.89264585  95.50600095 102.40304297\n",
      "   98.51066598  91.36994691  97.83305217 101.79840424]\n",
      " [106.43191068  97.90518277 104.32034991  91.18381651 108.65160907\n",
      "   94.62131676  96.69582882  98.33269653 103.3377404  103.01236718\n",
      "   95.8767483   97.25420529 110.4970376  106.72427016 100.77015921\n",
      "   99.38782005 104.99108828 107.13664326 103.8456789   98.9708007\n",
      "  100.75237249 103.70659908 100.90626974  95.10988488]\n",
      " [104.51045656  96.81558806  90.92175512  96.68417705 102.1678123\n",
      "   95.4327071  101.97653626 100.77755802  97.68571857 106.01124502\n",
      "   90.66649707  99.06334845 103.5091152   96.33850225  93.26607169\n",
      "   95.77223912  92.96640284  96.01506666 105.23356357 101.02743214\n",
      "   99.89539481 100.61877321 106.50551032 102.16770805]\n",
      " [100.61709567  98.9971441  100.73207146  98.64351718 112.86376195\n",
      "   99.02668152  94.13184804  93.9326832  102.50056415 107.2726923\n",
      "   92.40792151 101.08277369  98.82417561 101.34402467  99.24301254\n",
      "  100.38259031 100.97483853  93.28395305 104.24822391 103.1025045\n",
      "   95.66776115  91.59311554  93.95848242  99.71248516]\n",
      " [102.54267659 100.15794503  95.99912351  99.43001724  97.24162431\n",
      "   88.37289923 101.29797823  93.12425304  96.4334455  101.14093644\n",
      "   95.24923735  97.83324722 105.1353515   93.42857451  99.20335711\n",
      "   97.48706743  99.70536823  94.43906849 106.93479945 105.5433721\n",
      "   98.0046473   96.92788238  93.41100124  93.37583472]\n",
      " [ 97.27855853  99.90159623  96.9774307  105.64478368 104.32292396\n",
      "  105.37813397  99.33237132 104.88248851 102.00769318 104.519457\n",
      "   97.55266502  98.41698279  88.90005456  96.83105677 108.17431426\n",
      "  102.8399727  101.26591848  99.68125039  97.47642269 102.8190828\n",
      "   98.87325933  98.38725645  99.25785299 103.91692362]\n",
      " [110.6607323   88.9586099   93.29513982 107.38371835 109.4542021\n",
      "   91.76744307 100.90556144 100.57116322  93.80919428  98.32896501\n",
      "  106.1109709  105.90610817 100.10813315 108.34623471  85.31899528\n",
      "   94.23549028  96.75739185 108.19140592 109.41905516 102.86883881\n",
      "  103.62037525  98.96622798  95.69998762 103.12538399]\n",
      " [ 93.87800113 105.50399903 102.35196371  97.33649456 107.65023721\n",
      "   94.79766346  92.55098467 107.26817075  99.72829579  96.00739804\n",
      "   99.17458669  99.24708226  97.09918139 102.77993717  99.32477699\n",
      "  100.081033   101.08395639 103.99252452 102.87040641 105.75757573\n",
      "  103.56649088 101.77386434 100.18823686 103.30129353]\n",
      " [101.50965318 101.57748404  98.64853841 102.46543201 102.93521212\n",
      "   95.91452271  96.97018508 103.11799764  90.77288058 108.98508258\n",
      "  104.56011835 100.65075531  98.23091237 107.13117129  91.0955918\n",
      "  106.41944392  99.01235331  97.54060273 104.34881029 102.50947195\n",
      "  104.68407158  99.6135525   97.44401101 105.07671393]\n",
      " [ 91.7298225  113.36078371 106.30475843 100.83825078  99.76201377\n",
      "  110.25198326  97.85923873  96.97215172 106.91191373  93.37607045\n",
      "  101.21610787 101.39372877  99.79738808  97.92718068  95.03087356\n",
      "   99.40272799  99.4259148   99.98164456 106.05191305  94.43077811\n",
      "   95.19238656  99.64242995 104.18916839  99.08650114]\n",
      " [ 98.62977006  96.90685025  93.8563662  100.33089416 100.10616533\n",
      "   97.80942536  99.71460048  97.60475013 104.60377283  99.05559932\n",
      "   96.15964822  96.75027852  95.0542896  103.5959169  104.95529712\n",
      "  102.96015905 103.45266231 104.56913328 100.3408355   93.22755191\n",
      "  100.74794143  92.46892565 105.10190937  99.98645837]\n",
      " [ 93.18232068  90.15658931  96.81402641  99.75090835 109.3622433\n",
      "  104.91963455 105.50195912  91.18736444  98.18879151  98.21772107\n",
      "   97.20861202  88.94650236  96.97649072  92.68303186  96.14481843\n",
      "  110.66632341 104.3856731   95.25584064 104.08492572 104.66450831\n",
      "   96.97161394 105.62863715 104.54155521  93.01472488]\n",
      " [102.069296   100.34953327  94.65045428 103.79040005  92.68156395\n",
      "  103.79569599 104.09710604  96.24953171  97.24649559  97.13695862\n",
      "   94.5703184   97.9252206  102.22548629 108.80701275  94.7337742\n",
      "  105.80891601 100.78989686 101.89836428  99.38310545  98.38235469\n",
      "  100.07711485 104.64739531  95.39704528  99.09122095]\n",
      " [ 99.4624789   98.67825291  92.21141442 100.59212273 105.44684144\n",
      "  104.5911544   99.32867163 107.27664467  96.97165809  98.42013807\n",
      "   95.90077941  88.51043734 100.84129551 104.44874521  92.16224814\n",
      "  108.03229184 102.12969055 101.65537945 101.82915279  99.65949713\n",
      "   92.76266791 103.83522064  95.82259803 101.25981802]\n",
      " [ 98.45357853 103.17614239  95.97107052  95.54588666  90.70092412\n",
      "  102.88893315 110.97506015 102.66061996  94.44218829 111.01107572\n",
      "  100.48714398  91.05768025  94.43154242  98.85250308 101.60331524\n",
      "  102.82598603  98.69265719  89.74734387  98.62583297  98.29448236\n",
      "   92.90262141  97.96573464 107.90407453  96.5797118 ]\n",
      " [ 99.01897552  98.56295495 104.95913357 101.98604155 103.04777984\n",
      "   99.19541637 102.85899062 107.90757559 104.18511503 101.44447572\n",
      "  100.59272946 100.45825039  95.78336823 104.23880606  96.15417501\n",
      "   95.32526081 100.14051952 108.01884796 108.13559712  98.32807122\n",
      "   99.98514844 108.65598451 108.66987224  98.46907432]]\n"
     ]
    }
   ],
   "source": [
    "# Implement your ToDo here (index the bp_data variable)\n",
    "this_particular_datapoint = bp_data[4, 8, 20, 0]\n",
    "\n",
    "day_18_condition_on = bp_data[:,:,17,1]\n",
    "print(day_18_condition_on)\n",
    "# your solution here\n"
   ]
  },
  {
   "cell_type": "code",
   "execution_count": 183,
   "metadata": {
    "nbgrader": {
     "grade": true,
     "grade_id": "cell-e61a83c4f632675d",
     "locked": true,
     "points": 1,
     "schema_version": 1,
     "solution": false
    }
   },
   "outputs": [
    {
     "name": "stdout",
     "output_type": "stream",
     "text": [
      "Well done!\n"
     ]
    }
   ],
   "source": [
    "''' Tests the above ToDo. '''\n",
    "if 'day_18_condition_on' not in dir():\n",
    "    raise ValueError(\"The variable 'day_18_condition_on' is not defined!\")\n",
    "    \n",
    "test_bloodpressure_index(day_18_condition_on)"
   ]
  },
  {
   "cell_type": "markdown",
   "metadata": {},
   "source": [
    "Multidimensional indexing using slices (especially the single colon `:` slice, i.e., selecting everything) is very common in scientific programming such as neuroimaging analyses. There is, however, yet another way of (multidimensional) indexing called \"boolean indexing\". \n",
    "\n",
    "In this type of indexing, you index an array with a boolean array (i.e. array with True and False values) of the same shape. Basically, when you're indexing the array `my_array` with boolean array `bool_array`, you're saying: \"give me all values in `my_array` that are `True` at the same location in `bool_array`!\"\n",
    "\n",
    "Let's look at an example:"
   ]
  },
  {
   "cell_type": "code",
   "execution_count": 184,
   "metadata": {},
   "outputs": [
    {
     "name": "stdout",
     "output_type": "stream",
     "text": [
      "The original array:\n",
      "\n",
      "[[1 2 3]\n",
      " [4 5 6]\n",
      " [7 8 9]] \n",
      "\n",
      "The boolean array:\n",
      "\n",
      "[[ True False  True]\n",
      " [False  True False]\n",
      " [ True False  True]] \n",
      "\n",
      "Result of indexing my_array with bool_array:\n",
      "\n",
      "[1 3 5 7 9]\n"
     ]
    }
   ],
   "source": [
    "my_array = np.array([[1, 2, 3],\n",
    "                     [4, 5, 6],\n",
    "                     [7, 8, 9]])\n",
    "\n",
    "print(\"The original array:\\n\")\n",
    "print(my_array, '\\n')\n",
    "\n",
    "bool_array = np.array([[True, False, True],\n",
    "                       [False, True, False],\n",
    "                       [True, False, True]])\n",
    "\n",
    "print(\"The boolean array:\\n\")\n",
    "print(bool_array, '\\n')\n",
    "\n",
    "print('Result of indexing my_array with bool_array:\\n')\n",
    "print(my_array[bool_array])"
   ]
  },
  {
   "cell_type": "markdown",
   "metadata": {},
   "source": [
    "Usually, you do not write out the boolean array in full (as we did above), but you base it on the data itself to \"filter\" it according to some criterion formalized as a logical statement (i.e., using the boolean operators >, <, ==, or !=). For example, suppose I want to extract only the values above 6 from the `my_array` variable in the above example. \n",
    "\n",
    "To do so, I could do the following:"
   ]
  },
  {
   "cell_type": "code",
   "execution_count": 185,
   "metadata": {},
   "outputs": [
    {
     "name": "stdout",
     "output_type": "stream",
     "text": [
      "The original array:\n",
      "\n",
      "[[1 2 3]\n",
      " [4 5 6]\n",
      " [7 8 9]] \n",
      "\n",
      "The boolean array:\n",
      "\n",
      "[[False False False]\n",
      " [False False False]\n",
      " [ True  True  True]] \n",
      "\n",
      "Result of indexing my_array with bool_array:\n",
      "\n",
      "[7 8 9]\n"
     ]
    }
   ],
   "source": [
    "my_array = np.array([[1, 2, 3],\n",
    "                     [4, 5, 6],\n",
    "                     [7, 8, 9]])\n",
    "\n",
    "print(\"The original array:\\n\")\n",
    "print(my_array, '\\n')\n",
    "\n",
    "bool_array = my_array > 6\n",
    "\n",
    "print(\"The boolean array:\\n\")\n",
    "print(bool_array, '\\n')\n",
    "\n",
    "print('Result of indexing my_array with bool_array:\\n')\n",
    "print(my_array[bool_array])"
   ]
  },
  {
   "cell_type": "markdown",
   "metadata": {},
   "source": [
    "Easy, right? Now try it yourself in the next ToDo!"
   ]
  },
  {
   "cell_type": "markdown",
   "metadata": {},
   "source": [
    "<div class='alert alert-warning'>\n",
    "<b>ToDo</b> (1 point)\n",
    "</div>\n",
    "Use a boolean index to extract all values whose square (i.e. $value^2$) is larger than 4 from the array (`my_array`) below. Store the results in a variable with the name `square_is_larger_than_4`."
   ]
  },
  {
   "cell_type": "code",
   "execution_count": 200,
   "metadata": {
    "nbgrader": {
     "grade": false,
     "grade_id": "cell-e7444e2dc55212f2",
     "locked": false,
     "schema_version": 1,
     "solution": true
    }
   },
   "outputs": [
    {
     "name": "stdout",
     "output_type": "stream",
     "text": [
      "The original array:\n",
      "\n",
      "[[ 0  1 -1 -2]\n",
      " [ 2 -5  1  4]\n",
      " [10 -2 -4 20]] \n",
      "\n",
      "Results of boolean Filter:\n",
      "\n",
      "[[False False False False]\n",
      " [False  True False  True]\n",
      " [ True False  True  True]] \n",
      "\n",
      "Results of filtered array:\n",
      "\n",
      "[-5  4 10 -4 20]\n"
     ]
    }
   ],
   "source": [
    "my_array = np.array([[0, 1, -1, -2],\n",
    "                     [2, -5, 1, 4],\n",
    "                     [10, -2, -4, 20]])\n",
    "\n",
    "# Make a new boolean array below (name it whatever you want) ...\n",
    "\n",
    "# And use it to index my_array and store it in a variable `square_is_larger_than_4`.\n",
    "\n",
    "# your solution here\n",
    "print(\"The original array:\\n\")\n",
    "print(my_array, '\\n')\n",
    "\n",
    "print('Results of boolean Filter:\\n')\n",
    "bool_array = my_array**2 > 4\n",
    "print(bool_array, '\\n')\n",
    "\n",
    "\n",
    "square_is_larger_than_4 = my_array[bool_array]\n",
    "\n",
    "print('Results of filtered array:\\n')\n",
    "print(square_is_larger_than_4)\n",
    "\n"
   ]
  },
  {
   "cell_type": "code",
   "execution_count": 190,
   "metadata": {
    "nbgrader": {
     "grade": true,
     "grade_id": "cell-9078457efdeb3498",
     "locked": true,
     "points": 1,
     "schema_version": 1,
     "solution": false
    }
   },
   "outputs": [
    {
     "name": "stdout",
     "output_type": "stream",
     "text": [
      "Well done!\n"
     ]
    }
   ],
   "source": [
    "if 'square_is_larger_than_4' not in dir():\n",
    "    raise ValueError(\"Could not find the variable 'square_is_larger_than_4'; did you name it correctly?\")\n",
    "\n",
    "test_boolean_indexing(square_is_larger_than_4)"
   ]
  },
  {
   "cell_type": "markdown",
   "metadata": {},
   "source": [
    "Again, it's very important to understand how to (effectively) index multidimensional numpy arrays using slices and boolean indexing, as we'll use it a lot in this course!"
   ]
  },
  {
   "cell_type": "markdown",
   "metadata": {},
   "source": [
    "### Numpy: data-types\n",
    "Every numpy array is a grid of values of the same type. Numpy provides a large set of numeric datatypes that you can use to construct arrays. Numpy guesses the datatype when you create an array, but functions that construct arrays usually also include an optional argument to explicitly specify the datatype.\n",
    "\n",
    "Here are a couple of examples:"
   ]
  },
  {
   "cell_type": "code",
   "execution_count": 201,
   "metadata": {},
   "outputs": [
    {
     "name": "stdout",
     "output_type": "stream",
     "text": [
      "array([1, 2]) (<class 'numpy.int64'>)\n",
      "array([1., 2.]) (<class 'numpy.float64'>)\n",
      "array([1., 2.]) (<class 'numpy.float64'>)\n",
      "array([ True, False,  True,  True]) (<class 'numpy.bool_'>)\n"
     ]
    }
   ],
   "source": [
    "x1 = np.array([1, 2])  # Let numpy choose the datatype (here: int)\n",
    "x2 = np.array([1.0, 2.0])  # Let numpy choose the datatype (here: float)\n",
    "x3 = np.array([1, 2], dtype=np.float64)  # Force a particular datatype (input: int, but converted to 64bit float)\n",
    "x4 = np.array([-1, 0, 1, 2], dtype=bool)  # Convert ints to booleans! 0 -> False, everthing else -> True \n",
    "\n",
    "print('%r (%s)' % (x1, type(x1[0])))\n",
    "print('%r (%s)' % (x2, type(x2[0])))\n",
    "print('%r (%s)' % (x3, type(x3[0])))\n",
    "print('%r (%s)' % (x4, type(x4[0])))"
   ]
  },
  {
   "cell_type": "markdown",
   "metadata": {},
   "source": [
    "### Numpy: methods vs. functions\n",
    "In the previous section (Basic Python), you've learned that, in addition to functions, 'methods' exist that are like functions of an object. In other words, methods are functions that are applied to the object itself. You've seen examples of list methods, e.g. `my_list.append(1)`, and string methods, e.g. `my_string.replace('a', 'b')`.\n",
    "\n",
    "Like lists and strings, numpy arrays have a lot of convenient methods that you can call. Again, this is just like a function, but then applied to itself. Often, numpy provides both a function and method for simple operations. \n",
    "\n",
    "Let's look at an example: "
   ]
  },
  {
   "cell_type": "code",
   "execution_count": 202,
   "metadata": {},
   "outputs": [
    {
     "name": "stdout",
     "output_type": "stream",
     "text": [
      "[0 1 2 3 4 5 6 7 8 9] \n",
      "\n",
      "The mean of the array is: 4.500000 \n",
      "\n",
      "The mean of the array (computed by its corresponding method) is: 4.500000 \n",
      "\n",
      "Is the results from the numpy function the same as the corresponding method? Answer: True\n"
     ]
    }
   ],
   "source": [
    "my_array = np.arange(10)  # creates a numpy array from 0 until (excluding!) 10\n",
    "print(my_array, '\\n')\n",
    "\n",
    "mean_array = np.mean(my_array)\n",
    "print('The mean of the array is: %f' % mean_array, '\\n')\n",
    "\n",
    "mean_array2 = my_array.mean() \n",
    "print('The mean of the array (computed by its corresponding method) is: %f' % mean_array2, '\\n')\n",
    "\n",
    "print('Is the results from the numpy function the same as '\n",
    "      'the corresponding method? Answer: %s' % str(mean_array == mean_array2))"
   ]
  },
  {
   "cell_type": "markdown",
   "metadata": {},
   "source": [
    "If there is both a function and a method for the operation you want to apply to the array, it really doesn't matter what you choose! Let's look at some more (often used) methods of numpy ndarrays:"
   ]
  },
  {
   "cell_type": "code",
   "execution_count": 203,
   "metadata": {},
   "outputs": [
    {
     "name": "stdout",
     "output_type": "stream",
     "text": [
      "Standard deviation of my_array: 2.582 \n",
      "\n",
      "Transpose of my_array:\n",
      "array([[1, 4, 7],\n",
      "       [2, 5, 8],\n",
      "       [3, 6, 9]]) \n",
      "\n",
      "Minimum of my_array: 1 \n",
      "\n",
      "Maximum of my_array: 9 \n",
      "\n",
      "Sum of my_array: 45 \n",
      "\n"
     ]
    }
   ],
   "source": [
    "my_array = np.array([[1, 2, 3],\n",
    "                     [4, 5, 6],\n",
    "                     [7, 8, 9]])\n",
    "\n",
    "std_my_array = my_array.std()  # same as np.std(array)\n",
    "print(\"Standard deviation of my_array: %.3f\" % std_my_array, '\\n')\n",
    "\n",
    "transpose_my_array = my_array.T  # same as np.transpose(array)\n",
    "print(\"Transpose of my_array:\\n%r\" % transpose_my_array, '\\n')\n",
    "\n",
    "min_my_array = my_array.min()  # same as np.min(array)\n",
    "print(\"Minimum of my_array: %i\" % my_array.min(), '\\n')\n",
    "\n",
    "max_my_array = my_array.max()  # same as np.max(array)\n",
    "print(\"Maximum of my_array: %i\" % max_my_array, '\\n')\n",
    "\n",
    "sum_my_array = my_array.sum()  # same as np.sum(array)\n",
    "print(\"Sum of my_array: %i\" % sum_my_array, '\\n')"
   ]
  },
  {
   "cell_type": "markdown",
   "metadata": {},
   "source": [
    "Importantly, a method may or may not take arguments (input).\n",
    "If no arguments are given, it just looks like \"object.method()\", i.e. two enclosing brackets with nothing in between.\n",
    "However, a method may take one or more arguments (like the my_list.append(1) method)! \n",
    "This argument may be named or unnamed - doesn't matter. An example:"
   ]
  },
  {
   "cell_type": "code",
   "execution_count": 204,
   "metadata": {},
   "outputs": [
    {
     "name": "stdout",
     "output_type": "stream",
     "text": [
      "Original array:\n",
      "[[0.32710922 0.30512889 0.84403235]\n",
      " [0.6239239  0.29343832 0.71361229]\n",
      " [0.34459281 0.58655561 0.99263403]] \n",
      "\n",
      "Use the round() method with the argument 3:\n",
      "[[0.327 0.305 0.844]\n",
      " [0.624 0.293 0.714]\n",
      " [0.345 0.587 0.993]] \n",
      "\n",
      "Use the round() method with the named argument 5:\n",
      "[[0.32711 0.30513 0.84403]\n",
      " [0.62392 0.29344 0.71361]\n",
      " [0.34459 0.58656 0.99263]] \n",
      "\n"
     ]
    }
   ],
   "source": [
    "my_array2 = np.random.random((3, 3))\n",
    "print('Original array:')\n",
    "print(my_array2, '\\n')\n",
    "\n",
    "print('Use the round() method with the argument 3:')\n",
    "print(my_array2.round(3), '\\n')\n",
    "\n",
    "print('Use the round() method with the named argument 5:')\n",
    "print(my_array2.round(decimals=5), '\\n')"
   ]
  },
  {
   "cell_type": "markdown",
   "metadata": {},
   "source": [
    "**Some methods that you'll see a lot in the upcoming tutorials**. In addition to the methods listed above, you'll probably see the following methods a lot in the rest of this course (make sure you understand them!):\n",
    "\n",
    "Reshaping arrays:"
   ]
  },
  {
   "cell_type": "code",
   "execution_count": 205,
   "metadata": {},
   "outputs": [
    {
     "name": "stdout",
     "output_type": "stream",
     "text": [
      "[[0 1]\n",
      " [2 3]\n",
      " [4 5]\n",
      " [6 7]\n",
      " [8 9]]\n"
     ]
    }
   ],
   "source": [
    "my_array = np.arange(10)\n",
    "print(my_array.reshape((5, 2))) # reshape to desired shape"
   ]
  },
  {
   "cell_type": "markdown",
   "metadata": {},
   "source": [
    "Ravel (\"flatten\") an array:"
   ]
  },
  {
   "cell_type": "code",
   "execution_count": 206,
   "metadata": {},
   "outputs": [
    {
     "name": "stdout",
     "output_type": "stream",
     "text": [
      "Initial shape: (5, 2)\n",
      "[0 1 2 3 4 5 6 7 8 9]\n",
      "Shape after ravel(): (10,)\n"
     ]
    }
   ],
   "source": [
    "temporary = my_array.reshape((5, 2))\n",
    "print(\"Initial shape: %s\" % (temporary.shape,))\n",
    "print(temporary.ravel()) # unroll multi-dimensional array to single 1D array\n",
    "print(\"Shape after ravel(): %s\" % (temporary.ravel().shape,))"
   ]
  },
  {
   "cell_type": "code",
   "execution_count": 207,
   "metadata": {},
   "outputs": [
    {
     "name": "stdout",
     "output_type": "stream",
     "text": [
      "38\n"
     ]
    }
   ],
   "source": [
    "# .dot() does matrix multiplication (dot product: https://en.wikipedia.org/wiki/Dot_product)\n",
    "# This linear algebra operation is used very often in neuroimaging research \n",
    "# (which depends heavily on the General Linear Model!)\n",
    "array1 = np.array([0, 1, 2, 3])\n",
    "array2 = np.array([4, 5, 6, 7])\n",
    "\n",
    "dot_product = array1.dot(array2)\n",
    "print(dot_product)"
   ]
  },
  {
   "cell_type": "markdown",
   "metadata": {},
   "source": [
    "<div class='alert alert-warning'>\n",
    "<b>ToDo</b> (1 point)\n",
    "</div>\n",
    "Let's practice writing functions some more. Complete the function below, named `calculate_range`. This function takes  a single input-argument - a 1D numpy array - and subsequently calculates the [range](https://en.wikipedia.org/wiki/Range_(statistics) of the array. The range is the difference between the maximum and minimum of any given array (vector) $x$:\n",
    "\n",
    "\\begin{align}\n",
    "range(x) = max(x) - min(x)\n",
    "\\end{align}\n",
    "\n",
    "You may use the corresponding numpy min/max methods or functions in your custom function, doesn't matter. Don't forget to explicitly return the value of the range! \n",
    "\n",
    "Note: this custom function that implements the *mathematical* formula for a vector's range is completely unrelated to the *Python function* `range` that is often used in for-loops! "
   ]
  },
  {
   "cell_type": "code",
   "execution_count": 212,
   "metadata": {
    "nbgrader": {
     "grade": false,
     "grade_id": "cell-2efc174e66bba2aa",
     "locked": false,
     "schema_version": 1,
     "solution": true
    }
   },
   "outputs": [],
   "source": [
    "# Complete the function below\n",
    "def calculate_range(arr):\n",
    "    ''' Calculate the range of an array.\n",
    "    \n",
    "    Parameters\n",
    "    ----------\n",
    "    arr : a 1D numpy array\n",
    "    \n",
    "    Returns\n",
    "    -------\n",
    "    The range of the input arr\n",
    "    '''\n",
    "    arr = arr.ravel().max()-arr.ravel().min()\n",
    "    \n",
    "    return arr\n",
    "    # your solution here\n"
   ]
  },
  {
   "cell_type": "code",
   "execution_count": 215,
   "metadata": {},
   "outputs": [
    {
     "data": {
      "text/plain": [
       "48.2309297372927"
      ]
     },
     "execution_count": 215,
     "metadata": {},
     "output_type": "execute_result"
    }
   ],
   "source": [
    "bp_data = np.random.normal(loc=100, scale=5, size=(20, 24, 30, 2,10,10))\n",
    "calculate_range(bp_data)"
   ]
  },
  {
   "cell_type": "code",
   "execution_count": 216,
   "metadata": {
    "nbgrader": {
     "grade": true,
     "grade_id": "cell-e9339bd405181849",
     "locked": true,
     "points": 1,
     "schema_version": 1,
     "solution": false
    }
   },
   "outputs": [
    {
     "name": "stdout",
     "output_type": "stream",
     "text": [
      "Well done!\n"
     ]
    }
   ],
   "source": [
    "''' Tests the above ToDo. '''\n",
    "\n",
    "outp = calculate_range(np.array([0, 1, 2, 3]))\n",
    "if outp is None:\n",
    "    raise ValueError(\"Didn't get any output! Did you explicitly return the range?\")\n",
    "\n",
    "assert(outp == 3)\n",
    "assert(calculate_range(np.array([-1, 0, 1, 2])) == 3)\n",
    "assert(calculate_range(np.array([0, 0, 0, 0])) == 0)\n",
    "\n",
    "print(\"Well done!\")"
   ]
  },
  {
   "cell_type": "markdown",
   "metadata": {},
   "source": [
    "### Numpy: methods vs. attributes?\n",
    "Alright, by now, if you see a variable followed by a word ending with enclosed brackets, e.g. `my_array.mean()`, you'll know that it's a method! But sometimes you might see something similar, but **without** the brackets, such as `my_array.size`. This `.size` is called an **attribute** of the variable `my_array`. Like a method, it's an integral part of an object (such as a numpy ndarray). The attribute may be of any data-type, like a string, integer, tuple, an array itself. Let's look at an example:"
   ]
  },
  {
   "cell_type": "code",
   "execution_count": 217,
   "metadata": {},
   "outputs": [
    {
     "name": "stdout",
     "output_type": "stream",
     "text": [
      "[[1 2 3]\n",
      " [4 5 6]\n",
      " [7 8 9]] \n",
      "\n",
      "The size (number of element) in the array is:\n",
      "9 \n",
      "\n",
      "The .size attribute is of data-type: <class 'int'>\n"
     ]
    }
   ],
   "source": [
    "my_array = np.array([[1, 2, 3],\n",
    "                     [4, 5, 6],\n",
    "                     [7, 8, 9]])\n",
    "\n",
    "print(my_array, '\\n')\n",
    "print('The size (number of element) in the array is:')\n",
    "print(my_array.size, '\\n')\n",
    "print('The .size attribute is of data-type: %s' % type(my_array.size))"
   ]
  },
  {
   "cell_type": "markdown",
   "metadata": {},
   "source": [
    "Alright, so by now you might be wondering what the difference between a method and an attribute is. Superficially, you can recognize a method by the form `object.method()` (note the brackets!), like `my_array.round()`; an attribute is virtually the same **but without brackets**, in the form of `object.attribute`, like `my_array.size`. \n",
    "\n",
    "Conceptually, you may think of methods as things that **do** something with the array, while attributes **say** something about the array.\n",
    "\n",
    "For example, `my_array.size` **does nothing** with the array - it only **says** something about the array (it gives information about its size), while `my_array.mean()` really **does** something (i.e. calculates the mean of the array). \n",
    "\n",
    "Again, you might not use attributes a lot during this course, but you'll definitely see them around in the code of the tutorials. Below, some of the common ndarray attributes are listed:"
   ]
  },
  {
   "cell_type": "code",
   "execution_count": 220,
   "metadata": {},
   "outputs": [
    {
     "ename": "SyntaxError",
     "evalue": "unexpected EOF while parsing (<ipython-input-220-b44083a0d1aa>, line 12)",
     "output_type": "error",
     "traceback": [
      "\u001b[0;36m  File \u001b[0;32m\"<ipython-input-220-b44083a0d1aa>\"\u001b[0;36m, line \u001b[0;32m12\u001b[0m\n\u001b[0;31m    print(my_array.ndim # this is an integer\u001b[0m\n\u001b[0m                                            ^\u001b[0m\n\u001b[0;31mSyntaxError\u001b[0m\u001b[0;31m:\u001b[0m unexpected EOF while parsing\n"
     ]
    }
   ],
   "source": [
    "my_array = np.array([[1, 2, 3],\n",
    "                     [4, 5, 6],\n",
    "                     [7, 8, 9]])\n",
    "\n",
    "print('Size (number of elements) of array:')\n",
    "print(my_array.size, '\\n') # returns an integer\n",
    "\n",
    "print('Shape of array:')\n",
    "print(my_array.shape, '\\n') # this is a tuple!\n",
    "\n",
    "print('Number of dimensions:')\n",
    "print(my_array.ndim # this is an integer"
   ]
  },
  {
   "cell_type": "markdown",
   "metadata": {},
   "source": [
    "<div class='alert alert-warning'>\n",
    "<b>ToDo</b> (2 points)\n",
    "</div>\n",
    "Let's try another one. Complete the function below, named `compute_one_sample_ttest`. This function takes two input arguments:\n",
    "\n",
    "- arr : a 1D numpy array\n",
    "- h0 : a scalar value (single number) that represents the value representing the null-hypothesis\n",
    "\n",
    "The function should compute the one-sample t-test, which tests whether the mean of an array is significantly different from a given value representing the null-hypothesis. Formally, for any given array $x$ and null-hypothesis $h_{0}$:\n",
    "\n",
    "\\begin{align}\n",
    "t = \\frac{\\bar{x} - h_{0}}{s\\ / \\sqrt{N}}\n",
    "\\end{align}\n",
    "\n",
    "Here: $\\bar{x}$ represents the mean of $x$, $s$ represents the standard deviation of $x$, and $N$ represents the length ('size') of x. So, in slightly less mathematical notation:\n",
    "\n",
    "\\begin{align}\n",
    "t = \\frac{mean(x) - h_{0}}{std(x)\\ / \\sqrt{length(x)}}\n",
    "\\end{align}\n",
    "\n",
    "Make sure to return the t-value! \n",
    "\n",
    "**Hint 1**: to compute $N$, you can use the `.size` attribute of an array ... <br>\n",
    "**Hint 2**: use the function `np.sqrt(some_number)` to calculate the square root ..."
   ]
  },
  {
   "cell_type": "code",
   "execution_count": 246,
   "metadata": {
    "nbgrader": {
     "grade": false,
     "grade_id": "cell-88f546129f9923eb",
     "locked": false,
     "schema_version": 1,
     "solution": true
    }
   },
   "outputs": [],
   "source": [
    "# Complete the function below!\n",
    "def compute_one_sample_ttest(arr, h0):\n",
    "    ''' Computes the one-sample t-test for any array and h0. \n",
    "    \n",
    "    Parameters\n",
    "    ----------\n",
    "    arr : a 1D numpy array\n",
    "    h0 : an int or float\n",
    "    \n",
    "    Returns\n",
    "    -------\n",
    "    A single value representing the t-value\n",
    "    '''\n",
    "    \n",
    "    # your solution here\n",
    "    t_value = ((arr.mean()-h0)/(arr.std()/np.sqrt(arr.size)))\n",
    "    \n",
    "    return t_value"
   ]
  },
  {
   "cell_type": "code",
   "execution_count": 248,
   "metadata": {
    "nbgrader": {
     "grade": true,
     "grade_id": "cell-1c08ea53c4cbb8e4",
     "locked": true,
     "points": 2,
     "schema_version": 1,
     "solution": false
    }
   },
   "outputs": [
    {
     "name": "stdout",
     "output_type": "stream",
     "text": [
      "Well done!\n",
      "Well done!\n",
      "Well done!\n"
     ]
    }
   ],
   "source": [
    "''' Tests the ToDo above. '''\n",
    "arr = np.random.randn(100)\n",
    "outp = compute_one_sample_ttest(arr , 0)\n",
    "\n",
    "if outp is None:\n",
    "    raise ValueError(\"Your function didn't return anything! Did you forget the return statement?\")\n",
    "\n",
    "test_tvalue_computation(arr, 0, outp)\n",
    "\n",
    "outp = compute_one_sample_ttest(arr, 5) \n",
    "test_tvalue_computation(arr, 5, outp)\n",
    "\n",
    "outp = compute_one_sample_ttest(arr, -3) \n",
    "test_tvalue_computation(arr, -3, outp)"
   ]
  },
  {
   "cell_type": "markdown",
   "metadata": {},
   "source": [
    "### Numpy: array math\n",
    "Now you know all the numpy basics necessary to do neuroimaging analysis! As you'll see in the last section (Working with nifti-images), we'll work with 3D (structural MRI images) or 4D (functional MRI images) numpy arrays a lot. Given that you know how the basics about numpy in general and numpy ndarrays in particular, we can utilize some of numpy's best features: (very fast) array math."
   ]
  },
  {
   "cell_type": "markdown",
   "metadata": {},
   "source": [
    "Basic mathematical functions operate elementwise on arrays, which means that the operation (e.g. addition) is applied onto each element in the array.\n",
    "\n",
    "So, let's initialize a 1D array with ten zeros and let's add 1 to it:"
   ]
  },
  {
   "cell_type": "code",
   "execution_count": 249,
   "metadata": {},
   "outputs": [
    {
     "name": "stdout",
     "output_type": "stream",
     "text": [
      "[0. 0. 0. 0. 0. 0. 0. 0. 0. 0.] \n",
      "\n",
      "[1. 1. 1. 1. 1. 1. 1. 1. 1. 1.]\n"
     ]
    }
   ],
   "source": [
    "x = np.zeros(10)\n",
    "print(x, '\\n')\n",
    "x += 1 # remember: this the same as x = x + 1\n",
    "print(x)"
   ]
  },
  {
   "cell_type": "markdown",
   "metadata": {},
   "source": [
    "Additionally, you can also sum two arrays together in an elementwise manner by simply writing: `array_1 + array_2`, given that these two (or more) arrays are of the same shape! Let's look at an example:"
   ]
  },
  {
   "cell_type": "code",
   "execution_count": 251,
   "metadata": {},
   "outputs": [
    {
     "name": "stdout",
     "output_type": "stream",
     "text": [
      "x: \n",
      "array([[1., 2.],\n",
      "       [3., 4.]]) \n",
      "\n",
      "y: \n",
      "array([[5., 6.],\n",
      "       [7., 8.]]) \n",
      "\n",
      "x+y: \n",
      "array([[ 6.,  8.],\n",
      "       [10., 12.]]) \n",
      "\n"
     ]
    }
   ],
   "source": [
    "x = np.array([[1,2],[3,4]], dtype=np.float64)\n",
    "y = np.array([[5,6],[7,8]], dtype=np.float64)\n",
    "\n",
    "print(\"x: \\n%r\" % x, '\\n')\n",
    "print(\"y: \\n%r\" % y, '\\n')\n",
    "print(\"x+y: \\n%r\" % (x + y), '\\n')"
   ]
  },
  {
   "cell_type": "markdown",
   "metadata": {},
   "source": [
    "Often, there exist function-equivalents of the mathematical operators. For example, `x + y` is the same as `np.add(x, y)`. However, it is recommended to use the operators wherever possible to improve readability of your code. See below for an example:"
   ]
  },
  {
   "cell_type": "code",
   "execution_count": 252,
   "metadata": {},
   "outputs": [
    {
     "name": "stdout",
     "output_type": "stream",
     "text": [
      "[[ 6.  8.]\n",
      " [10. 12.]] \n",
      "\n",
      "[[ 6.  8.]\n",
      " [10. 12.]]\n"
     ]
    }
   ],
   "source": [
    "print(x + y, '\\n')\n",
    "print(np.add(x, y))"
   ]
  },
  {
   "cell_type": "markdown",
   "metadata": {},
   "source": [
    "Next to addition, we can also do elementwise subtraction, multiplication, divison, square root, and exponentiation:"
   ]
  },
  {
   "cell_type": "code",
   "execution_count": 253,
   "metadata": {},
   "outputs": [
    {
     "name": "stdout",
     "output_type": "stream",
     "text": [
      "[[-4. -4.]\n",
      " [-4. -4.]] \n",
      "\n",
      "[[-4. -4.]\n",
      " [-4. -4.]]\n"
     ]
    }
   ],
   "source": [
    "# Elementwise difference; both produce the array\n",
    "print(x - y, '\\n')\n",
    "print(np.subtract(x, y))  # function-equivalent of above "
   ]
  },
  {
   "cell_type": "code",
   "execution_count": 254,
   "metadata": {},
   "outputs": [
    {
     "name": "stdout",
     "output_type": "stream",
     "text": [
      "[[ 5. 12.]\n",
      " [21. 32.]] \n",
      "\n",
      "[[ 5. 12.]\n",
      " [21. 32.]]\n"
     ]
    }
   ],
   "source": [
    "# Elementwise product; both produce the array\n",
    "print(x * y, '\\n')\n",
    "print(np.multiply(x, y))"
   ]
  },
  {
   "cell_type": "code",
   "execution_count": 255,
   "metadata": {},
   "outputs": [
    {
     "name": "stdout",
     "output_type": "stream",
     "text": [
      "[[0.2        0.33333333]\n",
      " [0.42857143 0.5       ]] \n",
      "\n",
      "[[0.2        0.33333333]\n",
      " [0.42857143 0.5       ]]\n"
     ]
    }
   ],
   "source": [
    "# Elementwise division; both produce the array\n",
    "# [[ 0.2         0.33333333]\n",
    "#  [ 0.42857143  0.5       ]]\n",
    "print(x / y, '\\n')\n",
    "print(np.divide(x, y))"
   ]
  },
  {
   "cell_type": "code",
   "execution_count": 256,
   "metadata": {},
   "outputs": [
    {
     "name": "stdout",
     "output_type": "stream",
     "text": [
      "[[1.         1.41421356]\n",
      " [1.73205081 2.        ]]\n"
     ]
    }
   ],
   "source": [
    "# Elementwise square root; there is no operator-equivalent!\n",
    "print(np.sqrt(x))"
   ]
  },
  {
   "cell_type": "code",
   "execution_count": 257,
   "metadata": {},
   "outputs": [
    {
     "name": "stdout",
     "output_type": "stream",
     "text": [
      "[[1.0000e+00 6.4000e+01]\n",
      " [2.1870e+03 6.5536e+04]] \n",
      "\n",
      "[[1.0000e+00 6.4000e+01]\n",
      " [2.1870e+03 6.5536e+04]]\n"
     ]
    }
   ],
   "source": [
    "# Elementwise exponentiation\n",
    "print(x ** y, '\\n')\n",
    "print(np.power(x, y))"
   ]
  },
  {
   "cell_type": "markdown",
   "metadata": {},
   "source": [
    "<div class='alert alert-warning'>\n",
    "<b>ToDo</b> (1 point)\n",
    "</div>\n",
    "Do an elementwise product between the two variables defined below (`arr_A` and `arr_B`) and subsequently add 5 to each element; store the result in a new variable called `result_product_and_sum`."
   ]
  },
  {
   "cell_type": "code",
   "execution_count": 262,
   "metadata": {
    "nbgrader": {
     "grade": false,
     "grade_id": "cell-d5729a8b40e30062",
     "locked": false,
     "schema_version": 1,
     "solution": true
    }
   },
   "outputs": [
    {
     "name": "stdout",
     "output_type": "stream",
     "text": [
      "[[0 1]\n",
      " [2 3]\n",
      " [4 5]\n",
      " [6 7]\n",
      " [8 9]]\n",
      "[[10 11]\n",
      " [12 13]\n",
      " [14 15]\n",
      " [16 17]\n",
      " [18 19]]\n",
      "[[  5  16]\n",
      " [ 29  44]\n",
      " [ 61  80]\n",
      " [101 124]\n",
      " [149 176]]\n"
     ]
    }
   ],
   "source": [
    "# Implement the ToDo!\n",
    "arr_A = np.arange(10).reshape((5, 2))\n",
    "arr_B = np.arange(10, 20).reshape((5, 2))\n",
    "print(arr_A)\n",
    "print(arr_B)\n",
    "# your solution here\n",
    "result_product_and_sum = np.add(np.multiply(arr_A,arr_B),5)\n",
    "print(result_product_and_sum)"
   ]
  },
  {
   "cell_type": "code",
   "execution_count": 263,
   "metadata": {
    "nbgrader": {
     "grade": true,
     "grade_id": "cell-df866669b921aff9",
     "locked": true,
     "points": 1,
     "schema_version": 1,
     "solution": false
    }
   },
   "outputs": [
    {
     "name": "stdout",
     "output_type": "stream",
     "text": [
      "Well done!\n"
     ]
    }
   ],
   "source": [
    "''' Tests the above ToDo. '''\n",
    "if 'result_product_and_sum' not in dir():\n",
    "    raise ValueError(\"The variable 'result_product_and_sum' does not seem to exist!\")\n",
    "\n",
    "test_array_product_and_sum(result_product_and_sum)    "
   ]
  },
  {
   "cell_type": "markdown",
   "metadata": {},
   "source": [
    "Note that unlike MATLAB, `*` is elementwise multiplication, not matrix multiplication. We instead use the dot function (or method!) to  compute matrix operations like inner products of vectors, multiplication of a vector by a matrix, and multiplication of two matrices.\n",
    "\n",
    "These matrix operations are quite important in this course, because they are used a lot in neuroimaging methods (such as the General Linear Model, the topic of next week!). You're not expected to fully understand these matrix operations, but you'll see them several times in this course, so make sure you're familiar with its implementation in Python/Numpy.\n",
    "\n",
    "An example of the inner product (\"dot product\") of two vectors in both the function-format and the method-format:"
   ]
  },
  {
   "cell_type": "code",
   "execution_count": 264,
   "metadata": {},
   "outputs": [
    {
     "name": "stdout",
     "output_type": "stream",
     "text": [
      "219\n",
      "219\n"
     ]
    }
   ],
   "source": [
    "v = np.array([9,10])\n",
    "w = np.array([11, 12])\n",
    "\n",
    "# Inner product of vectors; both produce 219\n",
    "print(v.dot(w))\n",
    "print(np.dot(v, w))"
   ]
  },
  {
   "cell_type": "markdown",
   "metadata": {},
   "source": [
    "Probably the most used functions in numpy are the sum() and mean() fuctions (or equivalent methods!). A nice feature is that they can operate on the entire array (this is the default) or they can be applied per dimension (or, in numpy lingo, per \"axis\").\n",
    "\n",
    "Applying functions along axes is very common in scientific computing! Let's look at an example in which we apply the `sum` function/method across rows and columns:"
   ]
  },
  {
   "cell_type": "code",
   "execution_count": 265,
   "metadata": {},
   "outputs": [
    {
     "name": "stdout",
     "output_type": "stream",
     "text": [
      "Original array:\n",
      "[[1 2]\n",
      " [3 4]\n",
      " [5 6]] \n",
      "\n",
      "Sum over ALL elements of x:\n",
      "21 \n",
      "\n",
      "Sum across rows of x:\n",
      "[ 9 12] \n",
      "\n",
      "Sum across columns of x:\n",
      "[ 3  7 11]\n"
     ]
    }
   ],
   "source": [
    "x = np.array([[1, 2],[3, 4], [5, 6]])\n",
    "\n",
    "print('Original array:')\n",
    "print(x, '\\n')\n",
    "\n",
    "print('Sum over ALL elements of x:')\n",
    "print(np.sum(x), '\\n')\n",
    "\n",
    "print('Sum across rows of x:')\n",
    "print(np.sum(x, axis=0), '\\n')\n",
    "\n",
    "print('Sum across columns of x:')\n",
    "print(x.sum(axis=1)) # this is the method form! Is exactly the same as np.sum(x, axis=1) "
   ]
  },
  {
   "cell_type": "markdown",
   "metadata": {},
   "source": [
    "Importantly, application of functions across axes is much quicker (and more concise) than writing for-loops! Let's look at the speed difference between a for-loop (implemented as a list comprehension) and the numpy-style application of the `sum` function across axes:"
   ]
  },
  {
   "cell_type": "code",
   "execution_count": 266,
   "metadata": {},
   "outputs": [
    {
     "name": "stdout",
     "output_type": "stream",
     "text": [
      "1.78 ms ± 42.9 µs per loop (mean ± std. dev. of 7 runs, 1000 loops each)\n",
      "40.6 µs ± 836 ns per loop (mean ± std. dev. of 7 runs, 10000 loops each)\n",
      "Using the axis-argument is 43.886 times faster than a for-loop!\n"
     ]
    }
   ],
   "source": [
    "arr = np.random.random((1000, 100))\n",
    "loop_style = %timeit -o [arr[i, :].sum() for i in range(arr.shape[0])]\n",
    "axis_style = %timeit -o arr.sum(axis=1)\n",
    "print(\"Using the axis-argument is %.3f times faster than a for-loop!\" % (loop_style.average / axis_style.average))"
   ]
  },
  {
   "cell_type": "markdown",
   "metadata": {},
   "source": [
    "This application of functions on entire arrays (in an elementwise manner, like `arr_1 + arr_2`) and application of functions across a certain axis (like `np.sum(arr_1, axis=1)`) is often called **vectorization**. This is an incredibly useful concept and something we'll use a lot in this course! Make sure you understand this. \n",
    "\n",
    "Let's practice this a bit."
   ]
  },
  {
   "cell_type": "markdown",
   "metadata": {},
   "source": [
    "<div class='alert alert-warning'>\n",
    "<b>ToDo</b> (1 point)\n",
    "</div>\n",
    "Remember the \"range\" function from before? Below, we started writing a function, called `calculate_range_vectorized`, that calculates, for any 2D array, the range of each column (i.e. calculates range **across rows** for each column) in a *vectorized manner* (so without any for loops!).\n",
    "\n",
    "Complete the function, and make sure to return the result, which should be a 1D vector which values represents the ranges for all columns. So, if the input array would be of shape `(100, 10)`, then the shape of your returned array should be `(10,)`."
   ]
  },
  {
   "cell_type": "code",
   "execution_count": 312,
   "metadata": {
    "nbgrader": {
     "grade": false,
     "grade_id": "cell-e5cf94c93d9f9f5a",
     "locked": false,
     "schema_version": 1,
     "solution": true
    }
   },
   "outputs": [],
   "source": [
    "def compute_range_vectorized(arr):\n",
    "    ''' Compute the range across rows for each column in a 2D array. \n",
    "    \n",
    "    Parameters\n",
    "    ----------\n",
    "    arr : a 2D numpy array\n",
    "    \n",
    "    Returns\n",
    "    -------\n",
    "    A 1D vector with the ranges for each column\n",
    "    '''\n",
    "    # your solution here\n",
    "    \n",
    "    min_of_arr = arr.min(axis = 0)\n",
    "    max_of_arr = arr.max(axis = 0)\n",
    "    range_of_each_row = max_of_arr - min_of_arr\n",
    "    \n",
    "    return range_of_each_row"
   ]
  },
  {
   "cell_type": "code",
   "execution_count": 316,
   "metadata": {},
   "outputs": [
    {
     "data": {
      "text/plain": [
       "array([0.99964454, 0.99813173, 0.99735379, 0.99938103, 0.99635992,\n",
       "       0.99670664, 0.99787206, 0.99247733, 0.99783874, 0.99904666,\n",
       "       0.99747655, 0.9993723 , 0.99954915, 0.9958826 , 0.99862497,\n",
       "       0.99867919, 0.99761401, 0.99667424, 0.99848031, 0.99930169,\n",
       "       0.99976077, 0.9967331 , 0.99741465, 0.99880787, 0.99850394,\n",
       "       0.99764276, 0.99812302, 0.99726369, 0.99855309, 0.99924652,\n",
       "       0.999123  , 0.99925948, 0.99876077, 0.99873802, 0.99880975,\n",
       "       0.99794739, 0.99904181, 0.9980096 , 0.99918728, 0.99308334,\n",
       "       0.99627871, 0.99992166, 0.99644275, 0.99859387, 0.99815797,\n",
       "       0.99531179, 0.9988024 , 0.99874914, 0.99975991, 0.99905519,\n",
       "       0.99728167, 0.99797892, 0.99878642, 0.99883214, 0.99676984,\n",
       "       0.99941785, 0.99918324, 0.99957151, 0.99921035, 0.99831615,\n",
       "       0.99841406, 0.99838882, 0.9979509 , 0.9985235 , 0.99908292,\n",
       "       0.99649175, 0.99921398, 0.99591165, 0.9986683 , 0.99234415,\n",
       "       0.99880804, 0.99945858, 0.99861028, 0.99885187, 0.99906667,\n",
       "       0.99471209, 0.99663355, 0.99679621, 0.99740091, 0.99806081,\n",
       "       0.99877681, 0.99609568, 0.99950268, 0.99750659, 0.99596768,\n",
       "       0.99753739, 0.9978016 , 0.99951922, 0.99829804, 0.99859252,\n",
       "       0.99751755, 0.99964167, 0.99698474, 0.99890397, 0.99646922,\n",
       "       0.99976388, 0.99807671, 0.99796499, 0.99818991, 0.99954763])"
      ]
     },
     "execution_count": 316,
     "metadata": {},
     "output_type": "execute_result"
    }
   ],
   "source": [
    "compute_range_vectorized(arr)"
   ]
  },
  {
   "cell_type": "code",
   "execution_count": 308,
   "metadata": {},
   "outputs": [],
   "source": [
    "min_of_arr = arr.min(axis = 1)"
   ]
  },
  {
   "cell_type": "code",
   "execution_count": 317,
   "metadata": {},
   "outputs": [
    {
     "name": "stdout",
     "output_type": "stream",
     "text": [
      "[0.97835067 0.99508565 0.99111472 0.94810375 0.97019384 0.98376774\n",
      " 0.97464742 0.9860366  0.98221455 0.94601832]\n"
     ]
    }
   ],
   "source": [
    "np.random.seed(42)\n",
    "test_arr = np.random.random((100, 10))\n",
    "print(compute_range_vectorized(test_arr))"
   ]
  },
  {
   "cell_type": "code",
   "execution_count": 318,
   "metadata": {
    "nbgrader": {
     "grade": true,
     "grade_id": "cell-c8726c1e2391c059",
     "locked": true,
     "points": 1,
     "schema_version": 1,
     "solution": false
    }
   },
   "outputs": [
    {
     "name": "stdout",
     "output_type": "stream",
     "text": [
      "Well done!\n"
     ]
    }
   ],
   "source": [
    "np.random.seed(42)\n",
    "test_arr = np.random.random((100, 10))\n",
    "outp = compute_range_vectorized(test_arr)\n",
    "\n",
    "if outp is None:\n",
    "    raise ValueError(\"Output is None! Did you forget the Return statement in your function?\")\n",
    "\n",
    "test_compute_range_vectorized(test_arr, outp)"
   ]
  },
  {
   "cell_type": "markdown",
   "metadata": {},
   "source": [
    "### Broadcasting\n",
    "Broadcasting is a powerful mechanism that allows numpy to work with arrays of different shapes when performing arithmetic operations. Frequently we have a smaller array and a larger array, and we want to use the smaller array multiple times to perform some operation on the larger array.\n",
    "\n",
    "For example, suppose that we want to add a vector to each row of a matrix. We could do it like this:"
   ]
  },
  {
   "cell_type": "code",
   "execution_count": 320,
   "metadata": {},
   "outputs": [
    {
     "name": "stdout",
     "output_type": "stream",
     "text": [
      "x array is of shape: (4, 3)\n",
      "[[ 1  2  3]\n",
      " [ 4  5  6]\n",
      " [ 7  8  9]\n",
      " [10 11 12]] \n",
      "\n",
      "v vector is of shape: (3,) (different shape than x!)\n",
      "[1 0 1] \n",
      "\n",
      "Shape of (pre-allocated) y-matrix: (4, 3)\n",
      "The result of adding v to each row of x, as stored in y:\n",
      "[[ 2.  2.  4.]\n",
      " [ 5.  5.  7.]\n",
      " [ 8.  8. 10.]\n",
      " [11. 11. 13.]]\n"
     ]
    }
   ],
   "source": [
    "# We will add the vector v to each row of the matrix x,\n",
    "# storing the result in the matrix y\n",
    "x = np.array([[1,2,3], [4,5,6], [7,8,9], [10, 11, 12]])\n",
    "\n",
    "print('x array is of shape: %r' % (x.shape,))\n",
    "print(x, '\\n')\n",
    "\n",
    "v = np.array([1, 0, 1])\n",
    "print('v vector is of shape: %r (different shape than x!)' % (v.shape,))\n",
    "print(v, '\\n')\n",
    "\n",
    "y = np.zeros(x.shape)   # Create an empty (zeros) matrix with the same shape as x\n",
    "print('Shape of (pre-allocated) y-matrix: %r' % (y.shape,))\n",
    "\n",
    "# Add the vector v to each row of the matrix x with an explicit loop\n",
    "for i in range(x.shape[0]): # see how the shape attributes comes in handy in creating loops?\n",
    "    y[i, :] = x[i, :] + v\n",
    "\n",
    "print('The result of adding v to each row of x, as stored in y:')\n",
    "print(y)"
   ]
  },
  {
   "cell_type": "code",
   "execution_count": 321,
   "metadata": {},
   "outputs": [
    {
     "data": {
      "text/plain": [
       "4"
      ]
     },
     "execution_count": 321,
     "metadata": {},
     "output_type": "execute_result"
    }
   ],
   "source": [
    "x.shape[0]"
   ]
  },
  {
   "cell_type": "markdown",
   "metadata": {},
   "source": [
    "This works; however when the matrix `x` is very large, computing an explicit for-loop in Python could be slow. Note that adding the vector v to each row of the matrix `x` is equivalent to forming a matrix `vv` by stacking multiple copies of `v` vertically, like this `[[1 0 1], [1 0 1], [1 0 1], [1 0 1]]`, and subsequently elementwise addition of `x + vv`:"
   ]
  },
  {
   "cell_type": "code",
   "execution_count": 337,
   "metadata": {},
   "outputs": [
    {
     "name": "stdout",
     "output_type": "stream",
     "text": [
      "[1 0 1] \n",
      "\n",
      "[[1 0 1]\n",
      " [1 0 1]\n",
      " [1 0 1]\n",
      " [1 0 1]] \n",
      "\n",
      "[[ 1  2  3]\n",
      " [ 4  5  6]\n",
      " [ 7  8  9]\n",
      " [10 11 12]] \n",
      "\n",
      "[[ 2  2  4]\n",
      " [ 5  5  7]\n",
      " [ 8  8 10]\n",
      " [11 11 13]] \n",
      "\n",
      "[[ 2  2  4]\n",
      " [ 5  5  7]\n",
      " [ 8  8 10]\n",
      " [11 11 13]]\n"
     ]
    }
   ],
   "source": [
    "vv = np.tile(v, (4, 1)) # i.e. expand vector 'v' 4 times along the row dimension (similar to MATLAB's repmat function)\n",
    "print(v, '\\n')\n",
    "print(vv, '\\n')\n",
    "print(x,'\\n')\n",
    "y = x + vv  # Add x and vv elementwise\n",
    "print(y,'\\n')\n",
    "\n",
    "test = x + v\n",
    "print(test)"
   ]
  },
  {
   "cell_type": "markdown",
   "metadata": {},
   "source": [
    "Numpy **broadcasting** allows us to perform this computation without actually creating multiple copies of v. Consider this version, using broadcasting:"
   ]
  },
  {
   "cell_type": "code",
   "execution_count": 363,
   "metadata": {},
   "outputs": [
    {
     "name": "stdout",
     "output_type": "stream",
     "text": [
      "[[ 1  2  3]\n",
      " [ 4  5  6]\n",
      " [ 7  8  9]\n",
      " [10 11 12]] \n",
      "\n",
      "[1 0 1] \n",
      "\n",
      "[[ 2  2  4]\n",
      " [ 5  5  7]\n",
      " [ 8  8 10]\n",
      " [11 11 13]]\n"
     ]
    }
   ],
   "source": [
    "# We will add the vector v to each row of the matrix x,\n",
    "# storing the result in the matrix y\n",
    "x = np.array([[1,2,3], [4,5,6], [7,8,9], [10, 11, 12]])\n",
    "print(x,'\\n')\n",
    "v = np.array([1, 0, 1])\n",
    "print(v,'\\n')\n",
    "y = x + v  # Add v to each row of x using broadcasting\n",
    "print(y)"
   ]
  },
  {
   "cell_type": "markdown",
   "metadata": {},
   "source": [
    "The line `y = x + v` works even though `x` has shape `(4, 3)` and `v` has shape `(3,)` due to broadcasting; this line works as if v actually had shape `(4, 3)`, where each row was a copy of `v`, and the sum was performed elementwise.\n",
    "\n",
    "This broadcasting function is really useful, as it prevents us from writing unnessary and by definition slower explicit for-loops. Additionally, it's way easier to read and write than explicit for-loops (which need pre-allocation). Functions that support broadcasting are known as universal functions. You can find the list of all universal functions in the [documentation](http://docs.scipy.org/doc/numpy/reference/ufuncs.html#available-ufuncs).\n",
    "\n",
    "Here are some applications of broadcasting using different functions:"
   ]
  },
  {
   "cell_type": "code",
   "execution_count": 349,
   "metadata": {},
   "outputs": [
    {
     "name": "stdout",
     "output_type": "stream",
     "text": [
      "[[0.11111111 0.16666667]\n",
      " [0.33333333 0.33333333]\n",
      " [0.55555556 0.5       ]] \n",
      "\n",
      "[[0.33333333 0.5       ]\n",
      " [1.         1.        ]\n",
      " [1.66666667 1.5       ]]\n"
     ]
    }
   ],
   "source": [
    "x = np.array([[1, 2],[3, 4], [5, 6]], dtype=np.float)\n",
    "x_sum = x.sum(axis=0)\n",
    "\n",
    "print(x / x_sum, '\\n')\n",
    "\n",
    "x_mean = x.mean(axis=0)\n",
    "print(x / x_mean)"
   ]
  },
  {
   "cell_type": "markdown",
   "metadata": {},
   "source": [
    "<div class='alert alert-warning'>\n",
    "<b>ToDo</b> (2 points)\n",
    "</div>\n",
    "Below, we started writing a function called `standardize_columns`, which takes a single input-argument - a 2D numpy array - and should subsequently *standardize* each column such that each column has a mean of zero and a standard deviation of 1. In other words, standardization subtracts the mean (across rows) of each column from the values in that column, and then divides those value with the standard deviation of that column. Formally, for each column $j$ in any 2D array, standardization entails:\n",
    "\n",
    "\\begin{align}\n",
    "x_{j}\\ standardized = \\frac{(x_{j} - \\bar{x_{j}})}{std(x_{j})}\n",
    "\\end{align}\n",
    "\n",
    "Standardization, which is also oftend called \"z-transformation\", is often done in statistics. We'll also see this next week.\n",
    "\n",
    "So, in the function below, make sure that it is able to standardize each column in any 2D array. Make sure to use vectorized array computations (i.e, the `np.mean` and `np.std` functions/methods across rows) and broadcasting, so no for-loops! "
   ]
  },
  {
   "cell_type": "code",
   "execution_count": 375,
   "metadata": {
    "nbgrader": {
     "grade": false,
     "grade_id": "cell-4935a66842e00087",
     "locked": false,
     "schema_version": 1,
     "solution": true
    }
   },
   "outputs": [],
   "source": [
    "def standardize_columns(arr):\n",
    "    ''' Standardize each column of a 2D input-array. \n",
    "    \n",
    "    Parameters\n",
    "    ----------\n",
    "    arr : a 2D numpy array\n",
    "    \n",
    "    Returns\n",
    "    -------\n",
    "    The input-array with standardized columns (should have the same shape as the input-array!)\n",
    "    '''\n",
    "    arr_mean = np.mean(arr,axis = 0)\n",
    "    arr_std = np.std(arr, axis = 0)\n",
    "    z_transform = (arr - arr_mean)/arr_std\n",
    "    \n",
    "    return z_transform\n",
    "    # your solution here\n",
    "    "
   ]
  },
  {
   "cell_type": "code",
   "execution_count": 393,
   "metadata": {},
   "outputs": [
    {
     "name": "stdout",
     "output_type": "stream",
     "text": [
      "[[5.03024652 5.67264594 4.25075436 4.03966083 3.81440153]\n",
      " [4.95321208 0.2344753  2.79734674 3.74589831 7.41500639]\n",
      " [3.37237272 5.36093628 5.4530855  7.59583301 7.52515481]\n",
      " [4.88499406 4.04903052 3.67233379 4.51787356 4.13193329]\n",
      " [6.10725482 5.84061963 6.18360238 7.51856742 8.72573824]] \n",
      "\n",
      "(5, 5) \n",
      "\n",
      "[[ 0.18409807  0.68778131 -0.18157404 -0.84383213 -1.26984694]\n",
      " [ 0.09580915 -1.90763934 -1.37748131 -1.01550971  0.55317317]\n",
      " [-1.71598567  0.5390148   0.80774     1.23442834  0.60894235]\n",
      " [ 0.0176247  -0.08710519 -0.65751579 -0.56436011 -1.10907762]\n",
      " [ 1.41845375  0.76794841  1.40883114  1.18927361  1.21680904]] \n",
      "\n",
      "(5, 5) \n",
      "\n",
      "3.552713678800501e-17 \n",
      "\n",
      "[-1.77635684e-16  1.11022302e-16  2.22044605e-16 -1.33226763e-16\n",
      "  1.77635684e-16] \n",
      "\n",
      "1.0 \n",
      "\n"
     ]
    }
   ],
   "source": [
    "test_arr = np.random.normal(5, 2, size=(5, 5))\n",
    "test_arr2 = standardize_columns(test_arr)\n",
    "print(test_arr, '\\n')\n",
    "print(test_arr.shape, '\\n')\n",
    "print(test_arr2,'\\n')\n",
    "print(test_arr2.shape, '\\n')\n",
    "print(test_arr2.mean(), '\\n')\n",
    "print(test_arr2.mean(axis = 0), '\\n')\n",
    "print(test_arr2.std(), '\\n')"
   ]
  },
  {
   "cell_type": "code",
   "execution_count": 406,
   "metadata": {},
   "outputs": [
    {
     "name": "stdout",
     "output_type": "stream",
     "text": [
      "[[1 2 3]\n",
      " [4 5 6]\n",
      " [7 8 9]] \n",
      "\n",
      "5.0 \n",
      "\n",
      "[4. 5. 6.] \n",
      "\n",
      "[2. 5. 8.] \n",
      "\n",
      "2.581988897471611 \n",
      "\n",
      "[2.44948974 2.44948974 2.44948974] \n",
      "\n",
      "[0.81649658 0.81649658 0.81649658] \n",
      "\n",
      "[[-1.22474487 -1.22474487 -1.22474487]\n",
      " [ 0.          0.          0.        ]\n",
      " [ 1.22474487  1.22474487  1.22474487]] \n",
      "\n"
     ]
    }
   ],
   "source": [
    "test_arr3 = np.arange(1,10).reshape(3,3)\n",
    "print(test_arr3,'\\n')\n",
    "print(test_arr3.mean(),'\\n')\n",
    "print(test_arr3.mean(axis = 0),'\\n')\n",
    "print(test_arr3.mean(axis = 1),'\\n')\n",
    "print(test_arr3.std(),'\\n')\n",
    "print(test_arr3.std(axis = 0),'\\n')\n",
    "print(test_arr3.std(axis = 1),'\\n')\n",
    "print(standardize_columns(test_arr3),'\\n')"
   ]
  },
  {
   "cell_type": "code",
   "execution_count": 395,
   "metadata": {
    "nbgrader": {
     "grade": true,
     "grade_id": "cell-2d54b8794bc73398",
     "locked": true,
     "points": 2,
     "schema_version": 1,
     "solution": false
    }
   },
   "outputs": [
    {
     "name": "stdout",
     "output_type": "stream",
     "text": [
      "Well done!\n"
     ]
    }
   ],
   "source": [
    "''' Tests the above ToDo. '''\n",
    "\n",
    "test_arr = np.random.normal(5, 2, size=(100, 10))\n",
    "outp = standardize_columns(test_arr)\n",
    "\n",
    "if outp is None:\n",
    "    raise ValueError(\"The output from your function is None; did you forget the Return statement?\")\n",
    "\n",
    "try:\n",
    "    np.testing.assert_array_almost_equal(outp.mean(axis=0), np.zeros(test_arr.shape[1]))\n",
    "except AssertionError as e:\n",
    "    print(\"The mean of the columns of your standardized array are not 0!\")\n",
    "    raise(e)\n",
    "\n",
    "try:\n",
    "    np.testing.assert_array_almost_equal(outp.std(axis=0), np.ones(test_arr.shape[1]))\n",
    "except AssertionError as e:\n",
    "    print(\"The std of the columns of your standardized array are not 1!\")\n",
    "    raise(e)\n",
    "    \n",
    "print(\"Well done!\")"
   ]
  },
  {
   "cell_type": "markdown",
   "metadata": {},
   "source": [
    "Now, you know the most important numpy concepts and functionality that is necessary to do neuroimaging analysis. Surely, there is a lot more to the numpy package that what we've covered here! But for now, let's continue with plotting using Matplotlib!"
   ]
  },
  {
   "cell_type": "markdown",
   "metadata": {},
   "source": [
    "## 3. Matplotlib\n",
    "Matplotlib is Python's main plotting library. In this section give a brief introduction to the `matplotlib.pyplot` module, which provides a plotting system similar to that of MATLAB."
   ]
  },
  {
   "cell_type": "code",
   "execution_count": 407,
   "metadata": {},
   "outputs": [],
   "source": [
    "import matplotlib.pyplot as plt # this is how matplotlib.pyplot is usually imported\n",
    "import numpy as np"
   ]
  },
  {
   "cell_type": "markdown",
   "metadata": {},
   "source": [
    "By running this special iPython command, we will be displaying plots inline (instead of in a new window; this is only relevant in Jupyter notebooks!):"
   ]
  },
  {
   "cell_type": "code",
   "execution_count": 408,
   "metadata": {},
   "outputs": [],
   "source": [
    "%matplotlib inline"
   ]
  },
  {
   "cell_type": "markdown",
   "metadata": {},
   "source": [
    "### Plotting\n",
    "The most important function in `matplotlib` is **`plot`**, which allows you to plot 1 dimensional data. Here is a simple example:"
   ]
  },
  {
   "cell_type": "code",
   "execution_count": 409,
   "metadata": {},
   "outputs": [
    {
     "data": {
      "image/png": "[encoded data removed]",
      "text/plain": [
       "<matplotlib.figure.Figure at 0x1c181a07b8>"
      ]
     },
     "metadata": {},
     "output_type": "display_data"
    }
   ],
   "source": [
    "# Draw a line with coordinates from vectors x and y\n",
    "x = np.arange(0, 11)  # 0 - 10\n",
    "y = np.arange(0, 11)  # 0 - 10, same as x\n",
    "\n",
    "# Plot the points using matplotlib\n",
    "plt.plot(x, y)\n",
    "plt.show()"
   ]
  },
  {
   "cell_type": "markdown",
   "metadata": {},
   "source": [
    "With just a little bit of extra work we can easily plot multiple lines at once, and add a title, legend, and axis labels:"
   ]
  },
  {
   "cell_type": "code",
   "execution_count": 410,
   "metadata": {},
   "outputs": [
    {
     "data": {
      "image/png": "[encoded data removed]",
      "text/plain": [
       "<matplotlib.figure.Figure at 0x1c181fca58>"
      ]
     },
     "metadata": {},
     "output_type": "display_data"
    }
   ],
   "source": [
    "y2 = np.ones(x.size)  # vector of ones, i.e., straight line\n",
    "\n",
    "# Plot the points using matplotlib\n",
    "plt.plot(x, y)\n",
    "plt.plot(x, y2)\n",
    "plt.xlabel('x axis label')\n",
    "plt.ylabel('y axis label')\n",
    "plt.title('Two lines')\n",
    "plt.legend(['Linear increasing line', 'Constant line'])\n",
    "plt.show()"
   ]
  },
  {
   "cell_type": "markdown",
   "metadata": {},
   "source": [
    "### Subplots \n",
    "You can plot different subplots in a single figure using the subplot function. Here is an example:"
   ]
  },
  {
   "cell_type": "code",
   "execution_count": 427,
   "metadata": {},
   "outputs": [],
   "source": [
    "?plt.subplot"
   ]
  },
  {
   "cell_type": "code",
   "execution_count": 434,
   "metadata": {},
   "outputs": [
    {
     "data": {
      "image/png": "[encoded data removed]",
      "text/plain": [
       "<matplotlib.figure.Figure at 0x1c18c13dd8>"
      ]
     },
     "metadata": {},
     "output_type": "display_data"
    }
   ],
   "source": [
    "# Compute the x and y coordinates for points on sine and cosine curves\n",
    "x = np.arange(0, 3 * np.pi, 0.1)\n",
    "y_sin = np.sin(x)\n",
    "    #print(y_sin,'\\n')\n",
    "y_cos = np.cos(x)\n",
    "    #print(y_cos,'\\n')\n",
    "# Set up a subplot grid that has 2 'rows' and 1 'column',\n",
    "# and set the first such subplot as active.\n",
    "plt.subplot(2, 1, 1)  # the third argument here sets the 'active' plot\n",
    "\n",
    "# Make the first plot\n",
    "plt.plot(x, y_sin)\n",
    "plt.title('Sine')\n",
    "\n",
    "# Set the second subplot as active, and make the second plot.\n",
    "plt.subplot(2, 1, 2)\n",
    "plt.plot(x, y_cos)\n",
    "plt.title('Cosine')\n",
    "\n",
    "# Show the figure.\n",
    "plt.tight_layout() # this prevents plots from overlapping\n",
    "plt.show()"
   ]
  },
  {
   "cell_type": "code",
   "execution_count": 441,
   "metadata": {},
   "outputs": [
    {
     "data": {
      "image/png": "[encoded data removed]",
      "text/plain": [
       "<matplotlib.figure.Figure at 0x1c1858d9e8>"
      ]
     },
     "metadata": {},
     "output_type": "display_data"
    }
   ],
   "source": [
    "# Compute the x and y coordinates for points on sine and cosine curves\n",
    "x = np.arange(0, 3 * np.pi, 0.1)\n",
    "y_sin = np.sin(x)\n",
    "    #print(y_sin,'\\n')\n",
    "y_cos = np.cos(x)\n",
    "    #print(y_cos,'\\n')\n",
    "# Set up a subplot grid that has 2 'rows' and 1 'column',\n",
    "# and set the first such subplot as active.\n",
    "plt.subplot(3, 1, 1)  # the third argument here sets the 'active' plot\n",
    "plt.plot(x, y_sin)\n",
    "plt.title('Sine')\n",
    "\n",
    "# Set the second subplot as active, and make the second plot.\n",
    "plt.subplot(3, 1, 2)\n",
    "plt.plot(x, y_cos)\n",
    "plt.title('Cosine')\n",
    "\n",
    "plt.subplot(3, 1, 3)\n",
    "plt.plot(x, y_sin)\n",
    "plt.plot(x, y_cos)\n",
    "plt.title('Overlayed')\n",
    "plt.legend(['Sine', 'Cosine'])\n",
    "\n",
    "\n",
    "# Show the figure.\n",
    "plt.tight_layout() # this prevents plots from overlapping\n",
    "plt.show()"
   ]
  },
  {
   "cell_type": "markdown",
   "metadata": {},
   "source": [
    "And we can add text to plots as such:"
   ]
  },
  {
   "cell_type": "code",
   "execution_count": 442,
   "metadata": {},
   "outputs": [
    {
     "data": {
      "image/png": "[encoded data removed]",
      "text/plain": [
       "<matplotlib.figure.Figure at 0x1c18727b70>"
      ]
     },
     "metadata": {},
     "output_type": "display_data"
    }
   ],
   "source": [
    "x = np.arange(-1, 1, 0.01) # array from -1 to 1 in steps of 0.01\n",
    "\n",
    "# Set up a subplot grid that has 2 'rows' and 1 'column',\n",
    "# and set the first such subplot as active.\n",
    "plt.subplot(2, 1, 1)\n",
    "plt.plot(x, x ** 2)\n",
    "plt.title('x squared')\n",
    "plt.text(-0.5, 0.4, r\"$y=x^2$\", fontsize=20, color=\"blue\")\n",
    "\n",
    "# Set the second subplot as active, and make the second plot.\n",
    "plt.subplot(2, 1, 2)\n",
    "plt.plot(x, x ** 3)\n",
    "plt.title('x cubed')\n",
    "plt.text(-0.5, 0.4, r\"$y=x^3$\", fontsize=20, color=\"green\")\n",
    "\n",
    "plt.tight_layout()\n",
    "plt.show()"
   ]
  },
  {
   "cell_type": "markdown",
   "metadata": {},
   "source": [
    "You can read much more about the `subplot` function in the [documentation](http://matplotlib.org/api/pyplot_api.html#matplotlib.pyplot.subplot)."
   ]
  },
  {
   "cell_type": "markdown",
   "metadata": {},
   "source": [
    "<div class='alert alert-warning'>\n",
    "<b>ToDo</b> (1 point)\n",
    "</div>\n",
    "Below, we initialized a 2D array of shape `(10, 100)` named `arr_2D`. In a figure with two subplots (across two columns), plot in the left subplot the mean across columns (i.e., 10 values) and in the right subplot plot the standard deviation across columns (also 10 values). **Hint**: these values represent the values on the `y-axis`. You can use `x = np.arange(10)` for the `x-axis`.\n",
    "\n",
    "Also, give the subplots labels for the x- and y-axis, and give it a title.\n",
    "\n",
    "Note: this ToDo is manually graded, so there is no test-cell!"
   ]
  },
  {
   "cell_type": "code",
   "execution_count": 482,
   "metadata": {
    "nbgrader": {
     "grade": true,
     "grade_id": "cell-0624cc7a2015ea5b",
     "locked": false,
     "points": 1,
     "schema_version": 1,
     "solution": true
    }
   },
   "outputs": [
    {
     "data": {
      "image/png": "[encoded data removed]",
      "text/plain": [
       "<matplotlib.figure.Figure at 0x1c19ca0c88>"
      ]
     },
     "metadata": {},
     "output_type": "display_data"
    }
   ],
   "source": [
    "arr_2D = np.random.normal(0, 1, size=(10, 100))\n",
    "# Set up a subplot grid that has 1 'row' and 2 'columns',\n",
    "# and set the first such subplot as active.\n",
    "plt.subplot(1, 2, 1)\n",
    "x = np.arange(10)\n",
    "plt.plot(x,arr_2D.mean(axis = 1))\n",
    "title = '%s is the overall mean' %(arr_2D.mean().round(2))\n",
    "plt.title(title)\n",
    "#plt.text(('overall mean is' arr_2D.mean())\n",
    "\n",
    "\n",
    "plt.subplot(1,2,2)\n",
    "x = np.arange(10)\n",
    "plt.plot(x,arr_2D.std(axis = 1))\n",
    "title = '%s is the overall mean' %(arr_2D.std().round(2))\n",
    "plt.title(title)\n",
    "\n",
    "plt.tight_layout()\n",
    "plt.show()"
   ]
  },
  {
   "cell_type": "markdown",
   "metadata": {},
   "source": [
    "### Histograms\n",
    "Now let's generate some random data using the np.random functionality, and get some histograms of their distributions"
   ]
  },
  {
   "cell_type": "code",
   "execution_count": 483,
   "metadata": {},
   "outputs": [],
   "source": [
    "rand_uniform = np.random.uniform(size = (1000)) # uniform distribution\n",
    "rand_normal = np.random.normal(size = (1000))   # normal distribution\n",
    "rand_exponential = np.random.exponential(size = (1000)) # exponential distribution"
   ]
  },
  {
   "cell_type": "code",
   "execution_count": 484,
   "metadata": {},
   "outputs": [
    {
     "data": {
      "image/png": "[encoded data removed]",
      "text/plain": [
       "<matplotlib.figure.Figure at 0x1c19a31518>"
      ]
     },
     "metadata": {},
     "output_type": "display_data"
    }
   ],
   "source": [
    "# Set up a subplot grid that has rows=2 and columns=3,\n",
    "# and set the first such subplot as active.\n",
    "plt.subplot(1, 3, 1)\n",
    "\n",
    "# Make the first plot\n",
    "plt.hist(rand_uniform, color='g')\n",
    "plt.title('uniform')\n",
    "\n",
    "# Set the second subplot as active, and make the second plot.\n",
    "plt.subplot(1, 3, 2)\n",
    "plt.hist(rand_normal, color='b')\n",
    "\n",
    "plt.title('normal')\n",
    "\n",
    "# Set the second subplot as active, and make the second plot.\n",
    "plt.subplot(1, 3, 3)\n",
    "plt.hist(rand_exponential, color='r')\n",
    "plt.title('exponential')\n",
    "\n",
    "plt.tight_layout()\n",
    "plt.show()"
   ]
  },
  {
   "cell_type": "markdown",
   "metadata": {},
   "source": [
    "### Images\n",
    "So far, we've been plotting lines. Matplotlib also has easy functionality for plotting two-dimensional data-arrays, such as pictures. This is done using the command `plt.imshow()`. We'll use this feature a lot, because it allows us to visualize 2D slices of MRI-data as well! (Remember, MRI data is essentially just a 3D \"picture\" of the brain.) "
   ]
  },
  {
   "cell_type": "code",
   "execution_count": 489,
   "metadata": {},
   "outputs": [
    {
     "data": {
      "image/png": "[encoded data removed]",
      "text/plain": [
       "<matplotlib.figure.Figure at 0x1c19af4cc0>"
      ]
     },
     "metadata": {},
     "output_type": "display_data"
    }
   ],
   "source": [
    "# the scipy module includes some pictures, so we can use those:\n",
    "from scipy import misc\n",
    "bw_photo = misc.face(gray=True)\n",
    "\n",
    "# now we can use the imshow command to plot 2d data:\n",
    "plt.imshow(bw_photo,cmap='gray')\n",
    "plt.show()"
   ]
  },
  {
   "cell_type": "markdown",
   "metadata": {},
   "source": [
    "Importanty, photos are just 2D arrays with numbers representing the luminance (in black-and-white pictures) of each pixel. You can see this by printing the loaded image:"
   ]
  },
  {
   "cell_type": "code",
   "execution_count": 490,
   "metadata": {},
   "outputs": [
    {
     "name": "stdout",
     "output_type": "stream",
     "text": [
      "Shape of photo object: (768, 1024) \n",
      "\n",
      "[[114 130 145 ... 119 129 137]\n",
      " [ 83 104 123 ... 118 134 146]\n",
      " [ 68  88 109 ... 119 134 145]\n",
      " ...\n",
      " [ 98 103 116 ... 144 143 143]\n",
      " [ 94 104 120 ... 143 142 142]\n",
      " [ 94 106 119 ... 142 141 140]]\n"
     ]
    }
   ],
   "source": [
    "print(\"Shape of photo object: %r\" % (bw_photo.shape,), '\\n')\n",
    "print(bw_photo)"
   ]
  },
  {
   "cell_type": "markdown",
   "metadata": {},
   "source": [
    "You can see that it's actually just a bunch of numbers (one number per pixel), and when we plot colorbar with the original picture, we see that high numbers convert to bright shades, and low numbers convert to dark shades. "
   ]
  },
  {
   "cell_type": "code",
   "execution_count": 491,
   "metadata": {},
   "outputs": [
    {
     "data": {
      "image/png": "[encoded data removed]",
      "text/plain": [
       "<matplotlib.figure.Figure at 0x1c195182e8>"
      ]
     },
     "metadata": {},
     "output_type": "display_data"
    }
   ],
   "source": [
    "plt.imshow(bw_photo,cmap='gray')\n",
    "plt.colorbar()\n",
    "plt.show()"
   ]
  },
  {
   "cell_type": "markdown",
   "metadata": {},
   "source": [
    "Using the knowledge that black and white images are nothing more than just 2d-arrays of values, we can also generate our own images:"
   ]
  },
  {
   "cell_type": "code",
   "execution_count": 492,
   "metadata": {},
   "outputs": [
    {
     "name": "stdout",
     "output_type": "stream",
     "text": [
      "[[0.77564763 0.20423151 0.07493852 ... 0.48358531 0.02079529 0.10219815]\n",
      " [0.62435812 0.98261919 0.83886408 ... 0.07202991 0.59067531 0.4931565 ]\n",
      " [0.83508646 0.50260685 0.46912028 ... 0.14951944 0.43495808 0.14908317]\n",
      " ...\n",
      " [0.58179634 0.61055652 0.19764893 ... 0.72176544 0.65299646 0.6605672 ]\n",
      " [0.69649522 0.42934368 0.93789355 ... 0.75134385 0.6804531  0.72412258]\n",
      " [0.30229497 0.81351757 0.89299043 ... 0.44502212 0.50021208 0.9754817 ]] \n",
      "\n"
     ]
    },
    {
     "data": {
      "image/png": "[encoded data removed]",
      "text/plain": [
       "<matplotlib.figure.Figure at 0x1c183b0b70>"
      ]
     },
     "metadata": {},
     "output_type": "display_data"
    }
   ],
   "source": [
    "rand_img = np.random.random((200,200)) # Create an array filled with random values\n",
    "print(rand_img, '\\n')\n",
    "plt.imshow(rand_img, cmap='gray')\n",
    "plt.colorbar()\n",
    "plt.show()"
   ]
  },
  {
   "cell_type": "markdown",
   "metadata": {},
   "source": [
    "<div class='alert alert-warning'>\n",
    "<b>ToDo</b> (0 points, no test-cell)\n",
    "</div>\n",
    "Below, we loaded in a 2D array of shape (91, 108) named `mystery_data`. Visualize it using `plt.imshow()` (using the argument `cmap='gray'`) to check out what the data entails!"
   ]
  },
  {
   "cell_type": "code",
   "execution_count": 494,
   "metadata": {},
   "outputs": [
    {
     "name": "stdout",
     "output_type": "stream",
     "text": [
      "[[  0  29  89 ...  20  20   0]\n",
      " [  0 172 514 ... 371 337   0]\n",
      " [  0 187 566 ... 468 390   0]\n",
      " ...\n",
      " [  0 230 528 ... 419 365   0]\n",
      " [  0 109 252 ... 287 253   0]\n",
      " [  0   0   0 ...   0   0   0]] \n",
      "\n"
     ]
    },
    {
     "data": {
      "image/png": "[encoded data removed]",
      "text/plain": [
       "<matplotlib.figure.Figure at 0x1c194e2748>"
      ]
     },
     "metadata": {},
     "output_type": "display_data"
    }
   ],
   "source": [
    "mystery_data = np.load('mystery_data.npy')\n",
    "\n",
    "# Visualize it using plt.imshow!\n",
    "print(mystery_data, '\\n')\n",
    "plt.imshow(mystery_data, cmap='gray')\n",
    "plt.colorbar()\n",
    "plt.show()"
   ]
  },
  {
   "cell_type": "markdown",
   "metadata": {},
   "source": [
    "Now that you know some basics of data types, arrays and plotting, it's time to get to work with some fMRI data!"
   ]
  },
  {
   "cell_type": "markdown",
   "metadata": {},
   "source": [
    "## 3. Neuroimaging analysis with Python\n",
    "Although (f)MRI data can come in many formats, by far the most used format is **nifti** (nifti has been developed by the **n**euroimaging **i**n**f**ormatics **t**echnology **i**nitiative). Throughout these tutorials you'll work with these nifti-files (also called nifti images), which you can recognize by their extension of **.nii** or its compressed version **.nii.gz**. This file-format is also used by some of the main neuroimaging software packages such as AFNI, nipype, and FSL. (You'll use FSL later in this course!). \n",
    "\n",
    "However, we'd like to inspect and analyze nifti images in Python as well! **Nibabel** is a Python package that allows us to read and load nifti images as numpy arrays in a straightforward manner. Let's look at an example:"
   ]
  },
  {
   "cell_type": "code",
   "execution_count": null,
   "metadata": {},
   "outputs": [],
   "source": [
    "# If you haven't done so already, load some other packages we need\n",
    "import numpy as np\n",
    "import matplotlib.pyplot as plt\n",
    "import nibabel as nib # common way of importing nibabel"
   ]
  },
  {
   "cell_type": "markdown",
   "metadata": {},
   "source": [
    "We'll load in an fMRI-scan using nibabel below:"
   ]
  },
  {
   "cell_type": "code",
   "execution_count": null,
   "metadata": {},
   "outputs": [],
   "source": [
    "data_path = 'func_data.nii.gz'\n",
    "data = nib.load(data_path)"
   ]
  },
  {
   "cell_type": "markdown",
   "metadata": {},
   "source": [
    "Right now, we haven't loaded the *actual* data **in memory** yet, but only the meta-data (information **about** the data, such as its shape, dimensions, and some technical MRI acquisition parameters). So, what we've loaded now (in the variable `data`) is **not** a numpy array (yet), but a different object: a `Nifti-object`.\n",
    "\n",
    "Like a numpy array, this object has some attributes and methods that we can use. \n",
    "Let's check out some of this meta-data that is already available through its methods/attributes.\n",
    "\n",
    "For example, `Nifti-objects`, like numpy-arrays, also have a `shape` attribute:"
   ]
  },
  {
   "cell_type": "code",
   "execution_count": null,
   "metadata": {},
   "outputs": [],
   "source": [
    "print('Shape of the data:')\n",
    "print(data.shape) # this is one of the attributes of a Nifti-object in Python, just like a numpy array shape attribute!"
   ]
  },
  {
   "cell_type": "markdown",
   "metadata": {},
   "source": [
    "From the shape of the data, we can already infer some things about the file we're working with. Clearly, it has 4 dimensions, which means that it is a functional file: 3 spatial dimensions, and 1 time dimension! Remember the blood-pressure data? This 4D representation of fMRI files is very similar. Here, each axis represents a different feature/factor of the data: \n",
    "\n",
    "1. the first axis represents the first spatial dimension (the \"saggital\" dimension, usually referred to as $X$)\n",
    "2. the second axis represents the second spatial dimension (the \"coronal\" dimension, usually referred to as $Y$)\n",
    "3. the third axis represents the third spatial dimension (the \"axial\" dimension, usually referred to as $Z$)\n",
    "4. the fourth axis represents the time dimension (usually referred to as $T$, or $N$, \"volumes\", or \"dynamics\")\n",
    "\n",
    "We'll practice with this data-organization later.\n",
    "\n",
    "Another attribute of this Nifti-object that you might check is the **header** attribute. Perhaps confusingly, the header attribute is another object itself, also with its own methods and attributes. Let's check out some of them: "
   ]
  },
  {
   "cell_type": "code",
   "execution_count": null,
   "metadata": {},
   "outputs": [],
   "source": [
    "header = data.header\n",
    "print('Get the measurements of our dimensions:')\n",
    "print(header.get_zooms())"
   ]
  },
  {
   "cell_type": "markdown",
   "metadata": {},
   "source": [
    "Above, the four numbers represent the measurements of the data's four dimensions (3 space dims, 1 time dim). But what the hell do these numbers represent? Millimeters, liters, km/hr?\n",
    "\n",
    "Actually, the units of these dimensions can be accessed through the `header.get_xyzt_units()` (x, y, and z = spatial dims, t = time dims):"
   ]
  },
  {
   "cell_type": "code",
   "execution_count": null,
   "metadata": {},
   "outputs": [],
   "source": [
    "print('Units of our measurements:')\n",
    "print(header.get_xyzt_units())\n",
    "# so space is in mm (voxels are 3 x 3 x 3.3 mm in size!) and time is in seconds (time resolution = 2 seconds)"
   ]
  },
  {
   "cell_type": "markdown",
   "metadata": {},
   "source": [
    "So now we know that our data reflects activity from 3 x 3 x 3.3 mm voxels across 200 timepoints sampled at a time resolution of 2 seconds. Now, let's dig a little deeper into the data! But remember, we still have to load the actual data in memory. We can do that by the `get_data()` method. This method actually returns a numpy 4D-array we can work with!"
   ]
  },
  {
   "cell_type": "code",
   "execution_count": null,
   "metadata": {},
   "outputs": [],
   "source": [
    "func_data_in_memory = data.get_data()\n",
    "print(type(func_data_in_memory))  # this is in fact a numpy array!"
   ]
  },
  {
   "cell_type": "markdown",
   "metadata": {},
   "source": [
    "<div class='alert alert-warning'>\n",
    "<b>ToDo</b> (1 point)\n",
    "</div>\n",
    "From the variable `func_data_in_memory`, extract (i.e., index) all values (across time) from the voxel located at saggital slice number 30, coronal slice number 50, and axial slice number 23. Store these values in the variable `voxel_timeseries`, which should be of shape `(100,)`."
   ]
  },
  {
   "cell_type": "code",
   "execution_count": null,
   "metadata": {
    "nbgrader": {
     "grade": false,
     "grade_id": "cell-52430e474b2ce1d2",
     "locked": false,
     "schema_version": 1,
     "solution": true
    }
   },
   "outputs": [],
   "source": [
    "# Implement the ToDo here (remember: Python's indexing is zero-based!)\n",
    "\n",
    "# your solution here\n"
   ]
  },
  {
   "cell_type": "code",
   "execution_count": null,
   "metadata": {
    "nbgrader": {
     "grade": true,
     "grade_id": "cell-93c449262f025ca4",
     "locked": true,
     "points": 1,
     "schema_version": 1,
     "solution": false
    }
   },
   "outputs": [],
   "source": [
    "''' Tests the above ToDo. '''\n",
    "if 'voxel_timeseries' not in dir():\n",
    "    raise ValueError(\"Could not find any variable named 'voxel_timeseries'; did you spell it correctly?\")\n",
    "\n",
    "test_extract_voxel_timeseries(func_data_in_memory, voxel_timeseries)"
   ]
  },
  {
   "cell_type": "markdown",
   "metadata": {},
   "source": [
    "Let's look at some of the data! Because we have $80\\ (X) \\times\\ 80\\ (Y)\\times\\ 37\\ (Z)\\times\\ 100\\ (T) = 23680000$ values in total, let's not look at all data at once. We'll select a [axial](https://en.wikipedia.org/wiki/Anatomical_plane) slice somewhere in the middle of the brain of the first recorded volume (i.e. t = 1)."
   ]
  },
  {
   "cell_type": "code",
   "execution_count": null,
   "metadata": {},
   "outputs": [],
   "source": [
    "axial_slice_no = 18\n",
    "slice_1 = func_data_in_memory[:, :, axial_slice_no, 0] # the 0 refers to the first timepoint (t = 1)\n",
    "print(slice_1, '\\n')\n",
    "print('Shape of slice_1: %r' % list(slice_1.shape))"
   ]
  },
  {
   "cell_type": "markdown",
   "metadata": {},
   "source": [
    "Hmm, seems like nothing is going on! This is because Python doesn't print out the entire array, because that would clutter the notebook. Here, it is only plotting the first couple of rows and the last couple of rows from slice_1. The fact that we're only seeing zeros is because not all 23680000 values contain brain data! If a data point has value 0, it is very likely that this data point falls outside the recording of the brain.\n",
    "\n",
    "Let's check whether this is indeed the case. To visualize the entire slice, let's plot is using `imshow`:"
   ]
  },
  {
   "cell_type": "code",
   "execution_count": null,
   "metadata": {},
   "outputs": [],
   "source": [
    "plt.imshow(slice_1, cmap='gray')\n",
    "plt.axis('off')  # Do not plot the tickmarks of x-axis and y-axis \n",
    "plt.show()"
   ]
  },
  {
   "cell_type": "markdown",
   "metadata": {},
   "source": [
    "As you can see, only a part of the image is brain data, which is centered in the middle of the image. All completely black locations in the image are represented as zeros in the slice-data. Knowing this, let's select (slice) only a small part of some actual brain data, as visualized below:"
   ]
  },
  {
   "cell_type": "code",
   "execution_count": null,
   "metadata": {},
   "outputs": [],
   "source": [
    "import matplotlib.patches as patches\n",
    "\n",
    "print('We will select (index) the region indicated by red square:')\n",
    "rect = patches.Rectangle((35, 35), 5, 5, linewidth=2, edgecolor='r', facecolor='none')\n",
    "plt.imshow(slice_1, cmap='gray')\n",
    "ax = plt.gca()\n",
    "ax.add_patch(rect)\n",
    "plt.axis('off')\n",
    "plt.show()"
   ]
  },
  {
   "cell_type": "code",
   "execution_count": null,
   "metadata": {},
   "outputs": [],
   "source": [
    "# The data corresponding to the red square above\n",
    "print(slice_1[35:41, 35:41])"
   ]
  },
  {
   "cell_type": "markdown",
   "metadata": {},
   "source": [
    "What does this tell you? Well, fMRI data is simply a lot of numbers, with (relatively) higher numbers indicating (relatively) higher activity in functional MRI images.\n",
    "\n",
    "So far, we have only looked at some (static) representation of voxel activity of some voxels at one particular timepoint (i.e, $t = 1$, the first volume of the data), ignoring the time-dimension of our data. We can also look at the activity of a single voxel (e.g., $X = 35$, $Y = 35$, $Z=18$) across time.\n",
    "\n",
    "This basically amounts to indexing at these X/Y/Z coordinates! We'll show you what this entails conceptually in the code-block below, in which we show you that particular voxel at location X/Y/Z for the first 20 timepoints (not all 100, because that clutters the notebook too much):"
   ]
  },
  {
   "cell_type": "code",
   "execution_count": null,
   "metadata": {},
   "outputs": [],
   "source": [
    "volumes_to_plot = 20\n",
    "plt.figure(figsize=(30, 30))\n",
    "\n",
    "# Loop over the first 20 volumes/timepoints\n",
    "for t in range(volumes_to_plot):\n",
    "    \n",
    "    plt.subplot(5, 5, (t+1))\n",
    "    plt.imshow(func_data_in_memory[:, :, axial_slice_no, t], cmap='gray')  # index with t!\n",
    "    rect = patches.Rectangle((35, 35), 1, 1, linewidth=1, edgecolor='r', facecolor='none')\n",
    "    ax = plt.gca()\n",
    "    ax.add_patch(rect)\n",
    "    plt.axis('off')\n",
    "    plt.title('t = %i' % (t + 1), fontsize=20)\n",
    "plt.show()"
   ]
  },
  {
   "cell_type": "markdown",
   "metadata": {},
   "source": [
    "It is really hard to spot whether the image of the slice is actually different between different time points! To the naked eye, it just seems like the same picture. This is because activity fluctations (over time) in fMRI are **very** small - most of the time just 1-3% compared to baseline (average) activity. That's why it's hard to spot activity differences by looking at the pictures alone.\n",
    "\n",
    "The activity fluctuations become clearer when you plot the activity of voxels across time in a linegraph (which allows you to see *relative* activity fluctuations better). So, let's plot the activity over time (t = 1:100) for the voxel within the red square in the figure above:"
   ]
  },
  {
   "cell_type": "code",
   "execution_count": null,
   "metadata": {},
   "outputs": [],
   "source": [
    "plt.plot(func_data_in_memory[35, 35, axial_slice_no, :])\n",
    "plt.title('Activity over time for voxel (35, 35, %i)' % axial_slice_no, fontsize=15)\n",
    "plt.xlabel('Time (t)', fontsize=15)\n",
    "plt.ylabel('Activity (arbitrary units)', fontsize=15)\n",
    "\n",
    "plt.show()"
   ]
  },
  {
   "cell_type": "markdown",
   "metadata": {},
   "source": [
    "<div class='alert alert-warning'>\n",
    "<b>ToDo</b> (3 points)\n",
    "</div>\n",
    "\n",
    "Let's practice some of the skills that you learned in this tutorial! For this ToDo, you goal is to **plot an histogram of the average activity value across time for all non-zero voxels in the brain**. So, what you have to do is the following:\n",
    "\n",
    "1. Average the `func_data_in_memory` variable across time (resulting array should by of shape (80, 80, 37)\n",
    "2. Remove all voxels which are zero (use boolean indexing!)\n",
    "3. Make a histogram of all the resulting non-zero voxels (use the argument `bins=100` in `plt.hist`)\n",
    "\n",
    "Do this in the code-cell below. Also, *give the plot sensible labels for the axes*. This is a manually graded ToDo, so there is no test-cell.\n",
    "\n",
    "The resulting histogram should show a \"bimodal distribution\" of average activity values - roughly with a peak around $x = 1000$ and a peak round $x = 10,000$. "
   ]
  },
  {
   "cell_type": "code",
   "execution_count": null,
   "metadata": {
    "nbgrader": {
     "grade": true,
     "grade_id": "cell-00ab5da92a127d0c",
     "locked": false,
     "points": 3,
     "schema_version": 1,
     "solution": true
    }
   },
   "outputs": [],
   "source": [
    "# Implement to ToDo here\n",
    "\n",
    "# your solution here\n"
   ]
  },
  {
   "cell_type": "markdown",
   "metadata": {},
   "source": [
    "Alright, that's it! "
   ]
  },
  {
   "cell_type": "markdown",
   "metadata": {},
   "source": []
  }
 ],
 "metadata": {
  "celltoolbar": "Create Assignment",
  "kernel_info": {
   "name": "python3"
  },
  "kernelspec": {
   "display_name": "Python 3",
   "language": "python",
   "name": "python3"
  },
  "language_info": {
   "codemirror_mode": {
    "name": "ipython",
    "version": 3
   },
   "file_extension": ".py",
   "mimetype": "text/x-python",
   "name": "python",
   "nbconvert_exporter": "python",
   "pygments_lexer": "ipython3",
   "version": "3.6.5"
  },
  "nteract": {
   "version": "0.5.5"
  }
 },
 "nbformat": 4,
 "nbformat_minor": 1
}
